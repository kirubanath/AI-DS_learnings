{
  "cells": [
    {
      "cell_type": "markdown",
      "metadata": {
        "id": "view-in-github",
        "colab_type": "text"
      },
      "source": [
        "<a href=\"https://colab.research.google.com/github/kirubanath/AI-DS_learnings/blob/main/SQL.ipynb\" target=\"_parent\"><img src=\"https://colab.research.google.com/assets/colab-badge.svg\" alt=\"Open In Colab\"/></a>"
      ]
    },
    {
      "cell_type": "markdown",
      "id": "dccc820f-21b0-4b2c-9ca8-9cb9eab76023",
      "metadata": {
        "id": "dccc820f-21b0-4b2c-9ca8-9cb9eab76023"
      },
      "source": [
        "___\n",
        "\n",
        "## Exercises:\n",
        "\n",
        "First create a table called students. It has the columns: 'student_id', 'name', 'major', 'gpa' and 'enrollment_date' We will use a new form of `CREATE TABLE` expression to produce this table.\n",
        "\n",
        "Note that you can improve this and are welcome to do so -- e.g. by specifying for example a PRIMARY KEY and a FOREIGN KEY in Q2 :)\n",
        "\n",
        "    CREATE TABLE students AS\n",
        "        SELECT 1 AS student_id, \"John\" AS name, \"Computer Science\" AS major, 3.5 AS gpa, \"01-01-2022\" AS enrollment_date UNION\n",
        "        SELECT 2, \"Jane\", \"Physics\", 3.8, \"01-02-2022\" UNION\n",
        "        SELECT 3, \"Bob\", \"Engineering\", 3.0, \"01-03-2022\" UNION\n",
        "        SELECT 4, \"Samantha\", \"Physics\", 3.9, \"01-04-2022\" UNION\n",
        "        SELECT 5, \"James\", \"Engineering\", 3.7, \"01-05-2022\" UNION\n",
        "        SELECT 6, \"Emily\", \"Computer Science\", 3.6, \"01-06-2022\" UNION\n",
        "        SELECT 7, \"Michael\", \"Computer Science\", 3.2, \"01-07-2022\" UNION\n",
        "        SELECT 8, \"Jessica\", \"Engineering\", 3.8, \"01-08-2022\" UNION\n",
        "        SELECT 9, \"Jacob\", \"Physics\", 3.4, \"01-09-2022\" UNION\n",
        "        SELECT 10, \"Ashley\", \"Physics\", 3.9, \"01-10-2022\";\n",
        "\n",
        "\n",
        "## Q1 Simple SELECTS (on the students table)\n",
        "1. SELECT all records in the table.\n",
        "2. SELECT students whose major is \"Computer Science\".\n",
        "3. SELECT all unique majors (use SELECT DISTINCT) and order them by name, descending order (i.e. Physics first).\n",
        "4. SELECT all students that have an 'e' in their name and order them by gpa in ascending order.\n",
        "\n",
        "\n",
        "## Q2 Joins\n",
        "\n",
        "Create a new table called courses, which indicates the courses taken by the students. \n",
        "\n",
        "Create the table by running:\n",
        "\t\n",
        "    CREATE TABLE courses AS\n",
        "        SELECT 1 AS course_id, \"Python programming\" AS course_name, 1 AS student_id, \"A\" AS grade UNION\n",
        "        SELECT 2, \"Data Structures\", 2, \"B\" UNION\n",
        "        SELECT 3, \"Database Systems\", 3, \"B\" UNION\n",
        "        SELECT 1, \"Python programming\", 4, \"A\" UNION\n",
        "        SELECT 4, \"Quantum Mechanics\", 5, \"C\" UNION\n",
        "        SELECT 1, \"Python programming\", 6, \"F\" UNION\n",
        "        SELECT 2, \"Data Structures\", 7, \"C\" UNION\n",
        "        SELECT 3, \"Database Systems\", 8, \"A\" UNION\n",
        "        SELECT 4, \"Quantum Mechanics\", 9, \"A\" UNION\n",
        "        SELECT 2, \"Data Structures\", 10, \"F\";\n",
        "\n",
        "1. COUNT the number of unique courses.\n",
        "2. JOIN the tables students and courses and COUNT the number of students with the major Computer Science taking the course Python programming.\n",
        "3. JOIN the tables students and courses and select the students who have grades higher than \"C\", only show their name, major, gpa, course_name and grade.\n",
        "\n",
        "\n",
        "## Q3 Aggregate functions, numerical logic and grouping\n",
        "\n",
        "1. Find the average gpa of all students.\n",
        "2. SELECT the student with the maximum gpa, display only their student_id, major and gpa\n",
        "3. SELECT the student with the minimum gpa, display only their student_id, major and gpa\n",
        "4. SELECT the students with a gpa greater than 3.6 in the majors of \"Physics\" and \"Engineering\", display only their student_id, major and gpa\n",
        "5. Group the students by their major and retrieve the average grade of each major.\n",
        "6. SELECT the top 2 students with the highest GPA in each major and order the results by major in ascending order, then by GPA in descending order"
      ]
    },
    {
      "cell_type": "markdown",
      "id": "3ab84519",
      "metadata": {
        "id": "3ab84519"
      },
      "source": [
        "# Your solution"
      ]
    },
    {
      "cell_type": "code",
      "execution_count": null,
      "id": "c7cff114",
      "metadata": {
        "id": "c7cff114"
      },
      "outputs": [],
      "source": [
        "import sqlite3\n",
        "import pandas as pd"
      ]
    },
    {
      "cell_type": "code",
      "execution_count": null,
      "id": "0a8fa1a4",
      "metadata": {
        "id": "0a8fa1a4"
      },
      "outputs": [],
      "source": [
        "#creating a student database\n",
        "connection  = sqlite3.connect('student.db')"
      ]
    },
    {
      "cell_type": "code",
      "execution_count": null,
      "id": "3dfc4d16",
      "metadata": {
        "id": "3dfc4d16"
      },
      "outputs": [],
      "source": [
        "cursor = connection.cursor()"
      ]
    },
    {
      "cell_type": "markdown",
      "id": "56fb7882",
      "metadata": {
        "id": "56fb7882"
      },
      "source": [
        "## Q1: "
      ]
    },
    {
      "cell_type": "code",
      "execution_count": null,
      "id": "4afe38dc",
      "metadata": {
        "id": "4afe38dc"
      },
      "outputs": [],
      "source": [
        "#creating the first table:\n",
        "\n",
        "sql_c1 = \"\"\"\n",
        "CREATE TABLE students AS\n",
        "        SELECT 1 AS student_id, \"John\" AS name, \"Computer Science\" AS major, 3.5 AS gpa, \"01-01-2022\" AS enrollment_date UNION\n",
        "        SELECT 2, \"Jane\", \"Physics\", 3.8, \"01-02-2022\" UNION\n",
        "        SELECT 3, \"Bob\", \"Engineering\", 3.0, \"01-03-2022\" UNION\n",
        "        SELECT 4, \"Samantha\", \"Physics\", 3.9, \"01-04-2022\" UNION\n",
        "        SELECT 5, \"James\", \"Engineering\", 3.7, \"01-05-2022\" UNION\n",
        "        SELECT 6, \"Emily\", \"Computer Science\", 3.6, \"01-06-2022\" UNION\n",
        "        SELECT 7, \"Michael\", \"Computer Science\", 3.2, \"01-07-2022\" UNION\n",
        "        SELECT 8, \"Jessica\", \"Engineering\", 3.8, \"01-08-2022\" UNION\n",
        "        SELECT 9, \"Jacob\", \"Physics\", 3.4, \"01-09-2022\" UNION\n",
        "        SELECT 10, \"Ashley\", \"Physics\", 3.9, \"01-10-2022\";\n",
        "\"\"\""
      ]
    },
    {
      "cell_type": "code",
      "execution_count": null,
      "id": "7731c370",
      "metadata": {
        "id": "7731c370",
        "outputId": "1252e172-f2f7-4b64-cb9e-88fba2b506d3"
      },
      "outputs": [
        {
          "data": {
            "text/plain": [
              "<sqlite3.Cursor at 0x1a552e39940>"
            ]
          },
          "execution_count": 5,
          "metadata": {},
          "output_type": "execute_result"
        }
      ],
      "source": [
        "#clearing the database\n",
        "cursor.execute(\"DROP TABLE IF EXISTS Students\")"
      ]
    },
    {
      "cell_type": "code",
      "execution_count": null,
      "id": "649be10b",
      "metadata": {
        "id": "649be10b",
        "outputId": "7d1222ba-3e0f-4293-dd5b-da24119b46a0"
      },
      "outputs": [
        {
          "data": {
            "text/plain": [
              "<sqlite3.Cursor at 0x1a552e39940>"
            ]
          },
          "execution_count": 6,
          "metadata": {},
          "output_type": "execute_result"
        }
      ],
      "source": [
        "#creating the students table:\n",
        "cursor.execute(sql_c1)"
      ]
    },
    {
      "cell_type": "markdown",
      "id": "433f4d7c",
      "metadata": {
        "id": "433f4d7c"
      },
      "source": [
        "**1. Select all records in the table:**"
      ]
    },
    {
      "cell_type": "code",
      "execution_count": null,
      "id": "cb46dd2d",
      "metadata": {
        "id": "cb46dd2d",
        "outputId": "83b5bc68-e3b0-4bd2-9307-214041d5ed53"
      },
      "outputs": [
        {
          "data": {
            "text/html": [
              "<div>\n",
              "<style scoped>\n",
              "    .dataframe tbody tr th:only-of-type {\n",
              "        vertical-align: middle;\n",
              "    }\n",
              "\n",
              "    .dataframe tbody tr th {\n",
              "        vertical-align: top;\n",
              "    }\n",
              "\n",
              "    .dataframe thead th {\n",
              "        text-align: right;\n",
              "    }\n",
              "</style>\n",
              "<table border=\"1\" class=\"dataframe\">\n",
              "  <thead>\n",
              "    <tr style=\"text-align: right;\">\n",
              "      <th></th>\n",
              "      <th>name</th>\n",
              "      <th>major</th>\n",
              "      <th>gpa</th>\n",
              "      <th>enrollment_date</th>\n",
              "    </tr>\n",
              "    <tr>\n",
              "      <th>student_id</th>\n",
              "      <th></th>\n",
              "      <th></th>\n",
              "      <th></th>\n",
              "      <th></th>\n",
              "    </tr>\n",
              "  </thead>\n",
              "  <tbody>\n",
              "    <tr>\n",
              "      <th>1</th>\n",
              "      <td>John</td>\n",
              "      <td>Computer Science</td>\n",
              "      <td>3.5</td>\n",
              "      <td>01-01-2022</td>\n",
              "    </tr>\n",
              "    <tr>\n",
              "      <th>2</th>\n",
              "      <td>Jane</td>\n",
              "      <td>Physics</td>\n",
              "      <td>3.8</td>\n",
              "      <td>01-02-2022</td>\n",
              "    </tr>\n",
              "    <tr>\n",
              "      <th>3</th>\n",
              "      <td>Bob</td>\n",
              "      <td>Engineering</td>\n",
              "      <td>3.0</td>\n",
              "      <td>01-03-2022</td>\n",
              "    </tr>\n",
              "    <tr>\n",
              "      <th>4</th>\n",
              "      <td>Samantha</td>\n",
              "      <td>Physics</td>\n",
              "      <td>3.9</td>\n",
              "      <td>01-04-2022</td>\n",
              "    </tr>\n",
              "    <tr>\n",
              "      <th>5</th>\n",
              "      <td>James</td>\n",
              "      <td>Engineering</td>\n",
              "      <td>3.7</td>\n",
              "      <td>01-05-2022</td>\n",
              "    </tr>\n",
              "    <tr>\n",
              "      <th>6</th>\n",
              "      <td>Emily</td>\n",
              "      <td>Computer Science</td>\n",
              "      <td>3.6</td>\n",
              "      <td>01-06-2022</td>\n",
              "    </tr>\n",
              "    <tr>\n",
              "      <th>7</th>\n",
              "      <td>Michael</td>\n",
              "      <td>Computer Science</td>\n",
              "      <td>3.2</td>\n",
              "      <td>01-07-2022</td>\n",
              "    </tr>\n",
              "    <tr>\n",
              "      <th>8</th>\n",
              "      <td>Jessica</td>\n",
              "      <td>Engineering</td>\n",
              "      <td>3.8</td>\n",
              "      <td>01-08-2022</td>\n",
              "    </tr>\n",
              "    <tr>\n",
              "      <th>9</th>\n",
              "      <td>Jacob</td>\n",
              "      <td>Physics</td>\n",
              "      <td>3.4</td>\n",
              "      <td>01-09-2022</td>\n",
              "    </tr>\n",
              "    <tr>\n",
              "      <th>10</th>\n",
              "      <td>Ashley</td>\n",
              "      <td>Physics</td>\n",
              "      <td>3.9</td>\n",
              "      <td>01-10-2022</td>\n",
              "    </tr>\n",
              "  </tbody>\n",
              "</table>\n",
              "</div>"
            ],
            "text/plain": [
              "                name             major  gpa enrollment_date\n",
              "student_id                                                 \n",
              "1               John  Computer Science  3.5      01-01-2022\n",
              "2               Jane           Physics  3.8      01-02-2022\n",
              "3                Bob       Engineering  3.0      01-03-2022\n",
              "4           Samantha           Physics  3.9      01-04-2022\n",
              "5              James       Engineering  3.7      01-05-2022\n",
              "6              Emily  Computer Science  3.6      01-06-2022\n",
              "7            Michael  Computer Science  3.2      01-07-2022\n",
              "8            Jessica       Engineering  3.8      01-08-2022\n",
              "9              Jacob           Physics  3.4      01-09-2022\n",
              "10            Ashley           Physics  3.9      01-10-2022"
            ]
          },
          "execution_count": 7,
          "metadata": {},
          "output_type": "execute_result"
        }
      ],
      "source": [
        "pd.read_sql_query('SELECT * FROM Students', con = connection, index_col= 'student_id')"
      ]
    },
    {
      "cell_type": "markdown",
      "id": "da759a1c",
      "metadata": {
        "id": "da759a1c"
      },
      "source": [
        "**2. Select all students whose major is Computer Science**"
      ]
    },
    {
      "cell_type": "code",
      "execution_count": null,
      "id": "3e82bb05",
      "metadata": {
        "id": "3e82bb05",
        "outputId": "0d610f12-5320-4048-ce7b-88b5430cc574"
      },
      "outputs": [
        {
          "data": {
            "text/html": [
              "<div>\n",
              "<style scoped>\n",
              "    .dataframe tbody tr th:only-of-type {\n",
              "        vertical-align: middle;\n",
              "    }\n",
              "\n",
              "    .dataframe tbody tr th {\n",
              "        vertical-align: top;\n",
              "    }\n",
              "\n",
              "    .dataframe thead th {\n",
              "        text-align: right;\n",
              "    }\n",
              "</style>\n",
              "<table border=\"1\" class=\"dataframe\">\n",
              "  <thead>\n",
              "    <tr style=\"text-align: right;\">\n",
              "      <th></th>\n",
              "      <th>student_id</th>\n",
              "      <th>name</th>\n",
              "      <th>major</th>\n",
              "    </tr>\n",
              "  </thead>\n",
              "  <tbody>\n",
              "    <tr>\n",
              "      <th>0</th>\n",
              "      <td>1</td>\n",
              "      <td>John</td>\n",
              "      <td>Computer Science</td>\n",
              "    </tr>\n",
              "    <tr>\n",
              "      <th>1</th>\n",
              "      <td>6</td>\n",
              "      <td>Emily</td>\n",
              "      <td>Computer Science</td>\n",
              "    </tr>\n",
              "    <tr>\n",
              "      <th>2</th>\n",
              "      <td>7</td>\n",
              "      <td>Michael</td>\n",
              "      <td>Computer Science</td>\n",
              "    </tr>\n",
              "  </tbody>\n",
              "</table>\n",
              "</div>"
            ],
            "text/plain": [
              "   student_id     name             major\n",
              "0           1     John  Computer Science\n",
              "1           6    Emily  Computer Science\n",
              "2           7  Michael  Computer Science"
            ]
          },
          "execution_count": 8,
          "metadata": {},
          "output_type": "execute_result"
        }
      ],
      "source": [
        "sql_c =\"\"\"\n",
        "SELECT student_id, name, major FROM Students\n",
        "WHERE major = 'Computer Science' COLLATE NOCASE;\n",
        "\"\"\"\n",
        "pd.read_sql_query(sql_c, connection)"
      ]
    },
    {
      "cell_type": "markdown",
      "id": "7b099def",
      "metadata": {
        "id": "7b099def"
      },
      "source": [
        "**3. SELECT all unique majors and order them by name, descending order.**"
      ]
    },
    {
      "cell_type": "code",
      "execution_count": null,
      "id": "1b028903",
      "metadata": {
        "id": "1b028903",
        "outputId": "931e13f9-771a-4531-8087-23767b85c085"
      },
      "outputs": [
        {
          "data": {
            "text/html": [
              "<div>\n",
              "<style scoped>\n",
              "    .dataframe tbody tr th:only-of-type {\n",
              "        vertical-align: middle;\n",
              "    }\n",
              "\n",
              "    .dataframe tbody tr th {\n",
              "        vertical-align: top;\n",
              "    }\n",
              "\n",
              "    .dataframe thead th {\n",
              "        text-align: right;\n",
              "    }\n",
              "</style>\n",
              "<table border=\"1\" class=\"dataframe\">\n",
              "  <thead>\n",
              "    <tr style=\"text-align: right;\">\n",
              "      <th></th>\n",
              "      <th>major</th>\n",
              "    </tr>\n",
              "  </thead>\n",
              "  <tbody>\n",
              "    <tr>\n",
              "      <th>0</th>\n",
              "      <td>Physics</td>\n",
              "    </tr>\n",
              "    <tr>\n",
              "      <th>1</th>\n",
              "      <td>Engineering</td>\n",
              "    </tr>\n",
              "    <tr>\n",
              "      <th>2</th>\n",
              "      <td>Computer Science</td>\n",
              "    </tr>\n",
              "  </tbody>\n",
              "</table>\n",
              "</div>"
            ],
            "text/plain": [
              "              major\n",
              "0           Physics\n",
              "1       Engineering\n",
              "2  Computer Science"
            ]
          },
          "execution_count": 9,
          "metadata": {},
          "output_type": "execute_result"
        }
      ],
      "source": [
        "sql_c =\"\"\"\n",
        "SELECT DISTINCT major FROM Students\n",
        "ORDER BY major DESC;\n",
        "\"\"\"\n",
        "pd.read_sql_query(sql_c, connection)"
      ]
    },
    {
      "cell_type": "markdown",
      "id": "81681cd0",
      "metadata": {
        "id": "81681cd0"
      },
      "source": [
        "**4. SELECT all students that have an 'e' in their name and order them by gpa in ascending order.**"
      ]
    },
    {
      "cell_type": "code",
      "execution_count": null,
      "id": "cf6b6be9",
      "metadata": {
        "id": "cf6b6be9",
        "outputId": "f2fe5a9b-e8b6-45fb-f164-7451068af4a6"
      },
      "outputs": [
        {
          "data": {
            "text/html": [
              "<div>\n",
              "<style scoped>\n",
              "    .dataframe tbody tr th:only-of-type {\n",
              "        vertical-align: middle;\n",
              "    }\n",
              "\n",
              "    .dataframe tbody tr th {\n",
              "        vertical-align: top;\n",
              "    }\n",
              "\n",
              "    .dataframe thead th {\n",
              "        text-align: right;\n",
              "    }\n",
              "</style>\n",
              "<table border=\"1\" class=\"dataframe\">\n",
              "  <thead>\n",
              "    <tr style=\"text-align: right;\">\n",
              "      <th></th>\n",
              "      <th>name</th>\n",
              "      <th>gpa</th>\n",
              "    </tr>\n",
              "  </thead>\n",
              "  <tbody>\n",
              "    <tr>\n",
              "      <th>0</th>\n",
              "      <td>Michael</td>\n",
              "      <td>3.2</td>\n",
              "    </tr>\n",
              "    <tr>\n",
              "      <th>1</th>\n",
              "      <td>Emily</td>\n",
              "      <td>3.6</td>\n",
              "    </tr>\n",
              "    <tr>\n",
              "      <th>2</th>\n",
              "      <td>James</td>\n",
              "      <td>3.7</td>\n",
              "    </tr>\n",
              "    <tr>\n",
              "      <th>3</th>\n",
              "      <td>Jane</td>\n",
              "      <td>3.8</td>\n",
              "    </tr>\n",
              "    <tr>\n",
              "      <th>4</th>\n",
              "      <td>Jessica</td>\n",
              "      <td>3.8</td>\n",
              "    </tr>\n",
              "    <tr>\n",
              "      <th>5</th>\n",
              "      <td>Ashley</td>\n",
              "      <td>3.9</td>\n",
              "    </tr>\n",
              "  </tbody>\n",
              "</table>\n",
              "</div>"
            ],
            "text/plain": [
              "      name  gpa\n",
              "0  Michael  3.2\n",
              "1    Emily  3.6\n",
              "2    James  3.7\n",
              "3     Jane  3.8\n",
              "4  Jessica  3.8\n",
              "5   Ashley  3.9"
            ]
          },
          "execution_count": 10,
          "metadata": {},
          "output_type": "execute_result"
        }
      ],
      "source": [
        "sql_c =\"\"\"\n",
        "SELECT name,gpa FROM Students\n",
        "WHERE name LIKE '%e%'\n",
        "ORDER BY gpa;\n",
        "\"\"\"\n",
        "pd.read_sql_query(sql_c, connection)"
      ]
    },
    {
      "cell_type": "markdown",
      "id": "ac92e9d6",
      "metadata": {
        "id": "ac92e9d6"
      },
      "source": [
        "## Q2:"
      ]
    },
    {
      "cell_type": "code",
      "execution_count": null,
      "id": "ffc19f3f",
      "metadata": {
        "id": "ffc19f3f",
        "outputId": "1cbfad4e-06a8-4cef-fab4-ce38ab89e824"
      },
      "outputs": [
        {
          "ename": "OperationalError",
          "evalue": "table courses already exists",
          "output_type": "error",
          "traceback": [
            "\u001b[1;31m---------------------------------------------------------------------------\u001b[0m",
            "\u001b[1;31mOperationalError\u001b[0m                          Traceback (most recent call last)",
            "\u001b[1;32md:\\SQL-Assignment-3-Plaksha2023.ipynb Cell 23\u001b[0m in \u001b[0;36m<cell line: 15>\u001b[1;34m()\u001b[0m\n\u001b[0;32m      <a href='vscode-notebook-cell:/d%3A/SQL-Assignment-3-Plaksha2023.ipynb#X31sZmlsZQ%3D%3D?line=0'>1</a>\u001b[0m sql_c \u001b[39m=\u001b[39m \u001b[39m\"\"\"\u001b[39m\n\u001b[0;32m      <a href='vscode-notebook-cell:/d%3A/SQL-Assignment-3-Plaksha2023.ipynb#X31sZmlsZQ%3D%3D?line=1'>2</a>\u001b[0m \u001b[39mCREATE TABLE courses AS\u001b[39m\n\u001b[0;32m      <a href='vscode-notebook-cell:/d%3A/SQL-Assignment-3-Plaksha2023.ipynb#X31sZmlsZQ%3D%3D?line=2'>3</a>\u001b[0m \u001b[39m        SELECT 1 AS course_id, \u001b[39m\u001b[39m\"\u001b[39m\u001b[39mPython programming\u001b[39m\u001b[39m\"\u001b[39m\u001b[39m AS course_name, 1 AS student_id, \u001b[39m\u001b[39m\"\u001b[39m\u001b[39mA\u001b[39m\u001b[39m\"\u001b[39m\u001b[39m AS grade UNION\u001b[39m\n\u001b[1;32m   (...)\u001b[0m\n\u001b[0;32m     <a href='vscode-notebook-cell:/d%3A/SQL-Assignment-3-Plaksha2023.ipynb#X31sZmlsZQ%3D%3D?line=11'>12</a>\u001b[0m \u001b[39m        SELECT 2, \u001b[39m\u001b[39m\"\u001b[39m\u001b[39mData Structures\u001b[39m\u001b[39m\"\u001b[39m\u001b[39m, 10, \u001b[39m\u001b[39m\"\u001b[39m\u001b[39mF\u001b[39m\u001b[39m\"\u001b[39m\u001b[39m;\u001b[39m\n\u001b[0;32m     <a href='vscode-notebook-cell:/d%3A/SQL-Assignment-3-Plaksha2023.ipynb#X31sZmlsZQ%3D%3D?line=12'>13</a>\u001b[0m \u001b[39m\"\"\"\u001b[39m\n\u001b[1;32m---> <a href='vscode-notebook-cell:/d%3A/SQL-Assignment-3-Plaksha2023.ipynb#X31sZmlsZQ%3D%3D?line=14'>15</a>\u001b[0m cursor\u001b[39m.\u001b[39;49mexecute(sql_c)\n",
            "\u001b[1;31mOperationalError\u001b[0m: table courses already exists"
          ]
        }
      ],
      "source": [
        "sql_c = \"\"\"\n",
        "CREATE TABLE courses AS\n",
        "        SELECT 1 AS course_id, \"Python programming\" AS course_name, 1 AS student_id, \"A\" AS grade UNION\n",
        "        SELECT 2, \"Data Structures\", 2, \"B\" UNION\n",
        "        SELECT 3, \"Database Systems\", 3, \"B\" UNION\n",
        "        SELECT 1, \"Python programming\", 4, \"A\" UNION\n",
        "        SELECT 4, \"Quantum Mechanics\", 5, \"C\" UNION\n",
        "        SELECT 1, \"Python programming\", 6, \"F\" UNION\n",
        "        SELECT 2, \"Data Structures\", 7, \"C\" UNION\n",
        "        SELECT 3, \"Database Systems\", 8, \"A\" UNION\n",
        "        SELECT 4, \"Quantum Mechanics\", 9, \"A\" UNION\n",
        "        SELECT 2, \"Data Structures\", 10, \"F\";\n",
        "\"\"\"\n",
        "\n",
        "cursor.execute(sql_c)"
      ]
    },
    {
      "cell_type": "code",
      "execution_count": null,
      "id": "efdd81ae",
      "metadata": {
        "id": "efdd81ae",
        "outputId": "afefca47-c6c7-4701-d0a9-40cbb48e8306"
      },
      "outputs": [
        {
          "data": {
            "text/html": [
              "<div>\n",
              "<style scoped>\n",
              "    .dataframe tbody tr th:only-of-type {\n",
              "        vertical-align: middle;\n",
              "    }\n",
              "\n",
              "    .dataframe tbody tr th {\n",
              "        vertical-align: top;\n",
              "    }\n",
              "\n",
              "    .dataframe thead th {\n",
              "        text-align: right;\n",
              "    }\n",
              "</style>\n",
              "<table border=\"1\" class=\"dataframe\">\n",
              "  <thead>\n",
              "    <tr style=\"text-align: right;\">\n",
              "      <th></th>\n",
              "      <th>course_id</th>\n",
              "      <th>course_name</th>\n",
              "      <th>student_id</th>\n",
              "      <th>grade</th>\n",
              "    </tr>\n",
              "  </thead>\n",
              "  <tbody>\n",
              "    <tr>\n",
              "      <th>0</th>\n",
              "      <td>1</td>\n",
              "      <td>Python programming</td>\n",
              "      <td>1</td>\n",
              "      <td>A</td>\n",
              "    </tr>\n",
              "    <tr>\n",
              "      <th>1</th>\n",
              "      <td>1</td>\n",
              "      <td>Python programming</td>\n",
              "      <td>4</td>\n",
              "      <td>A</td>\n",
              "    </tr>\n",
              "    <tr>\n",
              "      <th>2</th>\n",
              "      <td>1</td>\n",
              "      <td>Python programming</td>\n",
              "      <td>6</td>\n",
              "      <td>F</td>\n",
              "    </tr>\n",
              "    <tr>\n",
              "      <th>3</th>\n",
              "      <td>2</td>\n",
              "      <td>Data Structures</td>\n",
              "      <td>2</td>\n",
              "      <td>B</td>\n",
              "    </tr>\n",
              "    <tr>\n",
              "      <th>4</th>\n",
              "      <td>2</td>\n",
              "      <td>Data Structures</td>\n",
              "      <td>7</td>\n",
              "      <td>C</td>\n",
              "    </tr>\n",
              "    <tr>\n",
              "      <th>5</th>\n",
              "      <td>2</td>\n",
              "      <td>Data Structures</td>\n",
              "      <td>10</td>\n",
              "      <td>F</td>\n",
              "    </tr>\n",
              "    <tr>\n",
              "      <th>6</th>\n",
              "      <td>3</td>\n",
              "      <td>Database Systems</td>\n",
              "      <td>3</td>\n",
              "      <td>B</td>\n",
              "    </tr>\n",
              "    <tr>\n",
              "      <th>7</th>\n",
              "      <td>3</td>\n",
              "      <td>Database Systems</td>\n",
              "      <td>8</td>\n",
              "      <td>A</td>\n",
              "    </tr>\n",
              "    <tr>\n",
              "      <th>8</th>\n",
              "      <td>4</td>\n",
              "      <td>Quantum Mechanics</td>\n",
              "      <td>5</td>\n",
              "      <td>C</td>\n",
              "    </tr>\n",
              "    <tr>\n",
              "      <th>9</th>\n",
              "      <td>4</td>\n",
              "      <td>Quantum Mechanics</td>\n",
              "      <td>9</td>\n",
              "      <td>A</td>\n",
              "    </tr>\n",
              "  </tbody>\n",
              "</table>\n",
              "</div>"
            ],
            "text/plain": [
              "   course_id         course_name  student_id grade\n",
              "0          1  Python programming           1     A\n",
              "1          1  Python programming           4     A\n",
              "2          1  Python programming           6     F\n",
              "3          2     Data Structures           2     B\n",
              "4          2     Data Structures           7     C\n",
              "5          2     Data Structures          10     F\n",
              "6          3    Database Systems           3     B\n",
              "7          3    Database Systems           8     A\n",
              "8          4   Quantum Mechanics           5     C\n",
              "9          4   Quantum Mechanics           9     A"
            ]
          },
          "execution_count": 27,
          "metadata": {},
          "output_type": "execute_result"
        }
      ],
      "source": [
        "pd.read_sql_query('SELECT * FROM courses', connection)"
      ]
    },
    {
      "cell_type": "markdown",
      "id": "e8ab03c7",
      "metadata": {
        "id": "e8ab03c7"
      },
      "source": [
        "**1. COUNT the number of unique courses.**\n"
      ]
    },
    {
      "cell_type": "code",
      "execution_count": null,
      "id": "d31fd202",
      "metadata": {
        "id": "d31fd202",
        "outputId": "7e4a36d1-2901-466b-df10-77099a99afcb"
      },
      "outputs": [
        {
          "data": {
            "text/html": [
              "<div>\n",
              "<style scoped>\n",
              "    .dataframe tbody tr th:only-of-type {\n",
              "        vertical-align: middle;\n",
              "    }\n",
              "\n",
              "    .dataframe tbody tr th {\n",
              "        vertical-align: top;\n",
              "    }\n",
              "\n",
              "    .dataframe thead th {\n",
              "        text-align: right;\n",
              "    }\n",
              "</style>\n",
              "<table border=\"1\" class=\"dataframe\">\n",
              "  <thead>\n",
              "    <tr style=\"text-align: right;\">\n",
              "      <th></th>\n",
              "      <th>num_of_unique</th>\n",
              "    </tr>\n",
              "  </thead>\n",
              "  <tbody>\n",
              "    <tr>\n",
              "      <th>0</th>\n",
              "      <td>4</td>\n",
              "    </tr>\n",
              "  </tbody>\n",
              "</table>\n",
              "</div>"
            ],
            "text/plain": [
              "   num_of_unique\n",
              "0              4"
            ]
          },
          "execution_count": 12,
          "metadata": {},
          "output_type": "execute_result"
        }
      ],
      "source": [
        "sql_c = \"\"\"\n",
        "SELECT count(DISTINCT course_id) as num_of_unique FROM courses\n",
        "\"\"\"\n",
        "pd.read_sql_query(sql_c, connection)"
      ]
    },
    {
      "cell_type": "markdown",
      "id": "dfffec6f",
      "metadata": {
        "id": "dfffec6f"
      },
      "source": [
        "**2. JOIN the tables students and courses and COUNT the number of students with the major Computer Science taking the course Python programming.**"
      ]
    },
    {
      "cell_type": "code",
      "execution_count": null,
      "id": "68bcd3b5",
      "metadata": {
        "id": "68bcd3b5",
        "outputId": "bacc99e4-93e1-4eac-e48b-ce37caab9c9d"
      },
      "outputs": [
        {
          "data": {
            "text/html": [
              "<div>\n",
              "<style scoped>\n",
              "    .dataframe tbody tr th:only-of-type {\n",
              "        vertical-align: middle;\n",
              "    }\n",
              "\n",
              "    .dataframe tbody tr th {\n",
              "        vertical-align: top;\n",
              "    }\n",
              "\n",
              "    .dataframe thead th {\n",
              "        text-align: right;\n",
              "    }\n",
              "</style>\n",
              "<table border=\"1\" class=\"dataframe\">\n",
              "  <thead>\n",
              "    <tr style=\"text-align: right;\">\n",
              "      <th></th>\n",
              "      <th>num_of_students</th>\n",
              "    </tr>\n",
              "  </thead>\n",
              "  <tbody>\n",
              "    <tr>\n",
              "      <th>0</th>\n",
              "      <td>2</td>\n",
              "    </tr>\n",
              "  </tbody>\n",
              "</table>\n",
              "</div>"
            ],
            "text/plain": [
              "   num_of_students\n",
              "0                2"
            ]
          },
          "execution_count": 13,
          "metadata": {},
          "output_type": "execute_result"
        }
      ],
      "source": [
        "sql_c = \"\"\"\n",
        "SELECT count(*) AS num_of_students\n",
        "FROM students JOIN courses\n",
        "ON students.student_id = courses.student_id\n",
        "WHERE students.major = 'Computer Science' AND courses.course_name = 'Python programming' \n",
        "\n",
        "\"\"\"\n",
        "pd.read_sql_query(sql_c, connection)"
      ]
    },
    {
      "cell_type": "markdown",
      "id": "ff557a97",
      "metadata": {
        "id": "ff557a97"
      },
      "source": [
        "**3. JOIN the tables students and courses and select the students who have grades higher than \"C\", only show their name, major, gpa, course_name and grade.**"
      ]
    },
    {
      "cell_type": "code",
      "execution_count": null,
      "id": "4570da19",
      "metadata": {
        "id": "4570da19",
        "outputId": "eee44dcf-bc67-4596-d364-78688e4e1b7c"
      },
      "outputs": [
        {
          "data": {
            "text/html": [
              "<div>\n",
              "<style scoped>\n",
              "    .dataframe tbody tr th:only-of-type {\n",
              "        vertical-align: middle;\n",
              "    }\n",
              "\n",
              "    .dataframe tbody tr th {\n",
              "        vertical-align: top;\n",
              "    }\n",
              "\n",
              "    .dataframe thead th {\n",
              "        text-align: right;\n",
              "    }\n",
              "</style>\n",
              "<table border=\"1\" class=\"dataframe\">\n",
              "  <thead>\n",
              "    <tr style=\"text-align: right;\">\n",
              "      <th></th>\n",
              "      <th>name</th>\n",
              "      <th>major</th>\n",
              "      <th>gpa</th>\n",
              "      <th>course_name</th>\n",
              "      <th>grade</th>\n",
              "    </tr>\n",
              "  </thead>\n",
              "  <tbody>\n",
              "    <tr>\n",
              "      <th>0</th>\n",
              "      <td>Jacob</td>\n",
              "      <td>Physics</td>\n",
              "      <td>3.4</td>\n",
              "      <td>Quantum Mechanics</td>\n",
              "      <td>A</td>\n",
              "    </tr>\n",
              "    <tr>\n",
              "      <th>1</th>\n",
              "      <td>Jessica</td>\n",
              "      <td>Engineering</td>\n",
              "      <td>3.8</td>\n",
              "      <td>Database Systems</td>\n",
              "      <td>A</td>\n",
              "    </tr>\n",
              "    <tr>\n",
              "      <th>2</th>\n",
              "      <td>John</td>\n",
              "      <td>Computer Science</td>\n",
              "      <td>3.5</td>\n",
              "      <td>Python programming</td>\n",
              "      <td>A</td>\n",
              "    </tr>\n",
              "    <tr>\n",
              "      <th>3</th>\n",
              "      <td>Samantha</td>\n",
              "      <td>Physics</td>\n",
              "      <td>3.9</td>\n",
              "      <td>Python programming</td>\n",
              "      <td>A</td>\n",
              "    </tr>\n",
              "    <tr>\n",
              "      <th>4</th>\n",
              "      <td>Bob</td>\n",
              "      <td>Engineering</td>\n",
              "      <td>3.0</td>\n",
              "      <td>Database Systems</td>\n",
              "      <td>B</td>\n",
              "    </tr>\n",
              "    <tr>\n",
              "      <th>5</th>\n",
              "      <td>Jane</td>\n",
              "      <td>Physics</td>\n",
              "      <td>3.8</td>\n",
              "      <td>Data Structures</td>\n",
              "      <td>B</td>\n",
              "    </tr>\n",
              "  </tbody>\n",
              "</table>\n",
              "</div>"
            ],
            "text/plain": [
              "       name             major  gpa         course_name grade\n",
              "0     Jacob           Physics  3.4   Quantum Mechanics     A\n",
              "1   Jessica       Engineering  3.8    Database Systems     A\n",
              "2      John  Computer Science  3.5  Python programming     A\n",
              "3  Samantha           Physics  3.9  Python programming     A\n",
              "4       Bob       Engineering  3.0    Database Systems     B\n",
              "5      Jane           Physics  3.8     Data Structures     B"
            ]
          },
          "execution_count": 14,
          "metadata": {},
          "output_type": "execute_result"
        }
      ],
      "source": [
        "sql_c = \"\"\"\n",
        "SELECT students.name, students.major, students.gpa, courses.course_name, courses.grade\n",
        "FROM students JOIN courses\n",
        "ON students.student_id = courses.student_id\n",
        "WHERE courses.grade < 'C' \n",
        "ORDER BY courses.grade, students.name\n",
        "\"\"\"\n",
        "pd.read_sql_query(sql_c, connection)"
      ]
    },
    {
      "cell_type": "markdown",
      "id": "95a97f69",
      "metadata": {
        "id": "95a97f69"
      },
      "source": [
        "## Q3:"
      ]
    },
    {
      "cell_type": "markdown",
      "id": "b198d017",
      "metadata": {
        "id": "b198d017"
      },
      "source": [
        "**1. Find the average gpa of all students.**\n"
      ]
    },
    {
      "cell_type": "code",
      "execution_count": null,
      "id": "897a2933",
      "metadata": {
        "id": "897a2933",
        "outputId": "1f137c29-b2cd-4fde-b0c4-a53b97aea621"
      },
      "outputs": [
        {
          "data": {
            "text/html": [
              "<div>\n",
              "<style scoped>\n",
              "    .dataframe tbody tr th:only-of-type {\n",
              "        vertical-align: middle;\n",
              "    }\n",
              "\n",
              "    .dataframe tbody tr th {\n",
              "        vertical-align: top;\n",
              "    }\n",
              "\n",
              "    .dataframe thead th {\n",
              "        text-align: right;\n",
              "    }\n",
              "</style>\n",
              "<table border=\"1\" class=\"dataframe\">\n",
              "  <thead>\n",
              "    <tr style=\"text-align: right;\">\n",
              "      <th></th>\n",
              "      <th>avg_gpa</th>\n",
              "    </tr>\n",
              "  </thead>\n",
              "  <tbody>\n",
              "    <tr>\n",
              "      <th>0</th>\n",
              "      <td>3.58</td>\n",
              "    </tr>\n",
              "  </tbody>\n",
              "</table>\n",
              "</div>"
            ],
            "text/plain": [
              "   avg_gpa\n",
              "0     3.58"
            ]
          },
          "execution_count": 15,
          "metadata": {},
          "output_type": "execute_result"
        }
      ],
      "source": [
        "sql_c = \"\"\"\n",
        "SELECT AVG(gpa) as avg_gpa\n",
        "FROM students \n",
        "\"\"\"\n",
        "pd.read_sql_query(sql_c, connection)"
      ]
    },
    {
      "cell_type": "markdown",
      "id": "7132e55c",
      "metadata": {
        "id": "7132e55c"
      },
      "source": [
        "**2. SELECT the student with the maximum gpa, display only their student_id, major and gpa**\n"
      ]
    },
    {
      "cell_type": "code",
      "execution_count": null,
      "id": "549a2de4",
      "metadata": {
        "id": "549a2de4",
        "outputId": "f7120bf7-fa47-4ed8-c2a6-4b3206b89826"
      },
      "outputs": [
        {
          "data": {
            "text/html": [
              "<div>\n",
              "<style scoped>\n",
              "    .dataframe tbody tr th:only-of-type {\n",
              "        vertical-align: middle;\n",
              "    }\n",
              "\n",
              "    .dataframe tbody tr th {\n",
              "        vertical-align: top;\n",
              "    }\n",
              "\n",
              "    .dataframe thead th {\n",
              "        text-align: right;\n",
              "    }\n",
              "</style>\n",
              "<table border=\"1\" class=\"dataframe\">\n",
              "  <thead>\n",
              "    <tr style=\"text-align: right;\">\n",
              "      <th></th>\n",
              "      <th>student_id</th>\n",
              "      <th>major</th>\n",
              "      <th>gpa</th>\n",
              "    </tr>\n",
              "  </thead>\n",
              "  <tbody>\n",
              "    <tr>\n",
              "      <th>0</th>\n",
              "      <td>4</td>\n",
              "      <td>Physics</td>\n",
              "      <td>3.9</td>\n",
              "    </tr>\n",
              "    <tr>\n",
              "      <th>1</th>\n",
              "      <td>10</td>\n",
              "      <td>Physics</td>\n",
              "      <td>3.9</td>\n",
              "    </tr>\n",
              "  </tbody>\n",
              "</table>\n",
              "</div>"
            ],
            "text/plain": [
              "   student_id    major  gpa\n",
              "0           4  Physics  3.9\n",
              "1          10  Physics  3.9"
            ]
          },
          "execution_count": 16,
          "metadata": {},
          "output_type": "execute_result"
        }
      ],
      "source": [
        "sql_c = \"\"\"\n",
        "SELECT student_id, major, gpa \n",
        "FROM students \n",
        "WHERE gpa = (SELECT MAX(gpa) FROM students)\n",
        "\"\"\"\n",
        "pd.read_sql_query(sql_c, connection)"
      ]
    },
    {
      "cell_type": "markdown",
      "id": "8e6ffc85",
      "metadata": {
        "id": "8e6ffc85"
      },
      "source": [
        "**3. SELECT the student with the minimum gpa, display only their student_id, major and gpa**\n"
      ]
    },
    {
      "cell_type": "code",
      "execution_count": null,
      "id": "79199477",
      "metadata": {
        "id": "79199477",
        "outputId": "2997da52-af93-40b8-c0d3-a0ecd6925876"
      },
      "outputs": [
        {
          "data": {
            "text/html": [
              "<div>\n",
              "<style scoped>\n",
              "    .dataframe tbody tr th:only-of-type {\n",
              "        vertical-align: middle;\n",
              "    }\n",
              "\n",
              "    .dataframe tbody tr th {\n",
              "        vertical-align: top;\n",
              "    }\n",
              "\n",
              "    .dataframe thead th {\n",
              "        text-align: right;\n",
              "    }\n",
              "</style>\n",
              "<table border=\"1\" class=\"dataframe\">\n",
              "  <thead>\n",
              "    <tr style=\"text-align: right;\">\n",
              "      <th></th>\n",
              "      <th>student_id</th>\n",
              "      <th>major</th>\n",
              "      <th>gpa</th>\n",
              "    </tr>\n",
              "  </thead>\n",
              "  <tbody>\n",
              "    <tr>\n",
              "      <th>0</th>\n",
              "      <td>3</td>\n",
              "      <td>Engineering</td>\n",
              "      <td>3.0</td>\n",
              "    </tr>\n",
              "  </tbody>\n",
              "</table>\n",
              "</div>"
            ],
            "text/plain": [
              "   student_id        major  gpa\n",
              "0           3  Engineering  3.0"
            ]
          },
          "execution_count": 17,
          "metadata": {},
          "output_type": "execute_result"
        }
      ],
      "source": [
        "sql_c = \"\"\"\n",
        "SELECT student_id, major, gpa \n",
        "FROM students \n",
        "WHERE gpa  = (SELECT MIN(gpa) FROM students)\n",
        "\"\"\"\n",
        "pd.read_sql_query(sql_c, connection)"
      ]
    },
    {
      "cell_type": "markdown",
      "id": "0c23fded",
      "metadata": {
        "id": "0c23fded"
      },
      "source": [
        "**4. SELECT the students with a gpa greater than 3.6 in the majors of \"Physics\" and \"Engineering\", display only their student_id, major and gpa**\n"
      ]
    },
    {
      "cell_type": "code",
      "execution_count": null,
      "id": "ca72d900",
      "metadata": {
        "id": "ca72d900",
        "outputId": "a0be60be-8836-4675-8c75-4eeab095b250"
      },
      "outputs": [
        {
          "data": {
            "text/html": [
              "<div>\n",
              "<style scoped>\n",
              "    .dataframe tbody tr th:only-of-type {\n",
              "        vertical-align: middle;\n",
              "    }\n",
              "\n",
              "    .dataframe tbody tr th {\n",
              "        vertical-align: top;\n",
              "    }\n",
              "\n",
              "    .dataframe thead th {\n",
              "        text-align: right;\n",
              "    }\n",
              "</style>\n",
              "<table border=\"1\" class=\"dataframe\">\n",
              "  <thead>\n",
              "    <tr style=\"text-align: right;\">\n",
              "      <th></th>\n",
              "      <th>student_id</th>\n",
              "      <th>major</th>\n",
              "      <th>gpa</th>\n",
              "    </tr>\n",
              "  </thead>\n",
              "  <tbody>\n",
              "    <tr>\n",
              "      <th>0</th>\n",
              "      <td>2</td>\n",
              "      <td>Physics</td>\n",
              "      <td>3.8</td>\n",
              "    </tr>\n",
              "    <tr>\n",
              "      <th>1</th>\n",
              "      <td>4</td>\n",
              "      <td>Physics</td>\n",
              "      <td>3.9</td>\n",
              "    </tr>\n",
              "    <tr>\n",
              "      <th>2</th>\n",
              "      <td>5</td>\n",
              "      <td>Engineering</td>\n",
              "      <td>3.7</td>\n",
              "    </tr>\n",
              "    <tr>\n",
              "      <th>3</th>\n",
              "      <td>8</td>\n",
              "      <td>Engineering</td>\n",
              "      <td>3.8</td>\n",
              "    </tr>\n",
              "    <tr>\n",
              "      <th>4</th>\n",
              "      <td>10</td>\n",
              "      <td>Physics</td>\n",
              "      <td>3.9</td>\n",
              "    </tr>\n",
              "  </tbody>\n",
              "</table>\n",
              "</div>"
            ],
            "text/plain": [
              "   student_id        major  gpa\n",
              "0           2      Physics  3.8\n",
              "1           4      Physics  3.9\n",
              "2           5  Engineering  3.7\n",
              "3           8  Engineering  3.8\n",
              "4          10      Physics  3.9"
            ]
          },
          "execution_count": 18,
          "metadata": {},
          "output_type": "execute_result"
        }
      ],
      "source": [
        "sql_c = \"\"\"\n",
        "SELECT student_id, major, gpa \n",
        "FROM students \n",
        "WHERE (gpa > 3.6) AND (major = 'Physics' OR major = 'Engineering')\n",
        "\"\"\"\n",
        "pd.read_sql_query(sql_c, connection)"
      ]
    },
    {
      "cell_type": "markdown",
      "id": "52c33141",
      "metadata": {
        "id": "52c33141"
      },
      "source": [
        "**5. Group the students by their major and retrieve the average grade of each major.**\n"
      ]
    },
    {
      "cell_type": "code",
      "execution_count": null,
      "id": "f64da0be",
      "metadata": {
        "id": "f64da0be",
        "outputId": "9278aae3-9977-4d1a-c5dc-3881d1807a0c"
      },
      "outputs": [
        {
          "data": {
            "text/html": [
              "<div>\n",
              "<style scoped>\n",
              "    .dataframe tbody tr th:only-of-type {\n",
              "        vertical-align: middle;\n",
              "    }\n",
              "\n",
              "    .dataframe tbody tr th {\n",
              "        vertical-align: top;\n",
              "    }\n",
              "\n",
              "    .dataframe thead th {\n",
              "        text-align: right;\n",
              "    }\n",
              "</style>\n",
              "<table border=\"1\" class=\"dataframe\">\n",
              "  <thead>\n",
              "    <tr style=\"text-align: right;\">\n",
              "      <th></th>\n",
              "      <th>major</th>\n",
              "      <th>avrage_grade</th>\n",
              "    </tr>\n",
              "  </thead>\n",
              "  <tbody>\n",
              "    <tr>\n",
              "      <th>0</th>\n",
              "      <td>Computer Science</td>\n",
              "      <td>3.433333</td>\n",
              "    </tr>\n",
              "    <tr>\n",
              "      <th>1</th>\n",
              "      <td>Engineering</td>\n",
              "      <td>3.500000</td>\n",
              "    </tr>\n",
              "    <tr>\n",
              "      <th>2</th>\n",
              "      <td>Physics</td>\n",
              "      <td>3.750000</td>\n",
              "    </tr>\n",
              "  </tbody>\n",
              "</table>\n",
              "</div>"
            ],
            "text/plain": [
              "              major  avrage_grade\n",
              "0  Computer Science      3.433333\n",
              "1       Engineering      3.500000\n",
              "2           Physics      3.750000"
            ]
          },
          "execution_count": 19,
          "metadata": {},
          "output_type": "execute_result"
        }
      ],
      "source": [
        "sql_c = \"\"\"\n",
        "SELECT major, AVG(gpa) as avrage_grade\n",
        "FROM students\n",
        "GROUP BY major\n",
        "\"\"\"\n",
        "pd.read_sql_query(sql_c, connection)"
      ]
    },
    {
      "cell_type": "markdown",
      "id": "5ced5d0d",
      "metadata": {
        "id": "5ced5d0d"
      },
      "source": [
        "**6. SELECT the top 2 students with the highest GPA in each major and order the results by major in ascending order, then by GPA in descending order**"
      ]
    },
    {
      "cell_type": "code",
      "execution_count": null,
      "id": "65ed874c",
      "metadata": {
        "id": "65ed874c",
        "outputId": "0ee12087-c570-4641-ff49-a1ed27e5dc74"
      },
      "outputs": [
        {
          "data": {
            "text/html": [
              "<div>\n",
              "<style scoped>\n",
              "    .dataframe tbody tr th:only-of-type {\n",
              "        vertical-align: middle;\n",
              "    }\n",
              "\n",
              "    .dataframe tbody tr th {\n",
              "        vertical-align: top;\n",
              "    }\n",
              "\n",
              "    .dataframe thead th {\n",
              "        text-align: right;\n",
              "    }\n",
              "</style>\n",
              "<table border=\"1\" class=\"dataframe\">\n",
              "  <thead>\n",
              "    <tr style=\"text-align: right;\">\n",
              "      <th></th>\n",
              "      <th>name</th>\n",
              "      <th>major</th>\n",
              "      <th>gpa</th>\n",
              "    </tr>\n",
              "  </thead>\n",
              "  <tbody>\n",
              "    <tr>\n",
              "      <th>0</th>\n",
              "      <td>Emily</td>\n",
              "      <td>Computer Science</td>\n",
              "      <td>3.6</td>\n",
              "    </tr>\n",
              "    <tr>\n",
              "      <th>1</th>\n",
              "      <td>John</td>\n",
              "      <td>Computer Science</td>\n",
              "      <td>3.5</td>\n",
              "    </tr>\n",
              "    <tr>\n",
              "      <th>2</th>\n",
              "      <td>Jessica</td>\n",
              "      <td>Engineering</td>\n",
              "      <td>3.8</td>\n",
              "    </tr>\n",
              "    <tr>\n",
              "      <th>3</th>\n",
              "      <td>James</td>\n",
              "      <td>Engineering</td>\n",
              "      <td>3.7</td>\n",
              "    </tr>\n",
              "    <tr>\n",
              "      <th>4</th>\n",
              "      <td>Samantha</td>\n",
              "      <td>Physics</td>\n",
              "      <td>3.9</td>\n",
              "    </tr>\n",
              "    <tr>\n",
              "      <th>5</th>\n",
              "      <td>Ashley</td>\n",
              "      <td>Physics</td>\n",
              "      <td>3.9</td>\n",
              "    </tr>\n",
              "  </tbody>\n",
              "</table>\n",
              "</div>"
            ],
            "text/plain": [
              "       name             major  gpa\n",
              "0     Emily  Computer Science  3.6\n",
              "1      John  Computer Science  3.5\n",
              "2   Jessica       Engineering  3.8\n",
              "3     James       Engineering  3.7\n",
              "4  Samantha           Physics  3.9\n",
              "5    Ashley           Physics  3.9"
            ]
          },
          "execution_count": 20,
          "metadata": {},
          "output_type": "execute_result"
        }
      ],
      "source": [
        "sql_c = \"\"\"\n",
        "WITH top2 as \n",
        "(select *,row_number() OVER(PARTITION BY major ORDER BY gpa DESC) as rn FROM students)\n",
        "\n",
        "SELECT name,major,gpa\n",
        "FROM top2\n",
        "WHERE rn <=2\n",
        "ORDER BY major, gpa DESC\n",
        "\"\"\"\n",
        "pd.read_sql_query(sql_c, connection)"
      ]
    }
  ],
  "metadata": {
    "kernelspec": {
      "display_name": "Python 3",
      "language": "python",
      "name": "python3"
    },
    "language_info": {
      "codemirror_mode": {
        "name": "ipython",
        "version": 3
      },
      "file_extension": ".py",
      "mimetype": "text/x-python",
      "name": "python",
      "nbconvert_exporter": "python",
      "pygments_lexer": "ipython3",
      "version": "3.10.9"
    },
    "vscode": {
      "interpreter": {
        "hash": "fa676f95b428963fc6a22d0f7ab79d1ad8fae9296cc6459b33242ceffa432c07"
      }
    },
    "colab": {
      "provenance": [],
      "include_colab_link": true
    }
  },
  "nbformat": 4,
  "nbformat_minor": 5
}