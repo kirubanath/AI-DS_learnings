{
  "cells": [
    {
      "cell_type": "markdown",
      "metadata": {
        "id": "view-in-github",
        "colab_type": "text"
      },
      "source": [
        "<a href=\"https://colab.research.google.com/github/kirubanath/ML_learnings/blob/main/ML_Basics2.ipynb\" target=\"_parent\"><img src=\"https://colab.research.google.com/assets/colab-badge.svg\" alt=\"Open In Colab\"/></a>"
      ]
    },
    {
      "cell_type": "code",
      "execution_count": null,
      "metadata": {
        "id": "j7mq7WPjGoyV",
        "outputId": "16d09b5f-6ab1-4f9f-8fb0-60edb2a13658"
      },
      "outputs": [
        {
          "name": "stdout",
          "output_type": "stream",
          "text": [
            "Requirement already satisfied: xgboost in c:\\users\\kirub\\appdata\\local\\packages\\pythonsoftwarefoundation.python.3.10_qbz5n2kfra8p0\\localcache\\local-packages\\python310\\site-packages (1.7.2)\n",
            "Requirement already satisfied: numpy in c:\\users\\kirub\\appdata\\local\\packages\\pythonsoftwarefoundation.python.3.10_qbz5n2kfra8p0\\localcache\\local-packages\\python310\\site-packages (from xgboost) (1.23.3)\n",
            "Requirement already satisfied: scipy in c:\\users\\kirub\\appdata\\local\\packages\\pythonsoftwarefoundation.python.3.10_qbz5n2kfra8p0\\localcache\\local-packages\\python310\\site-packages (from xgboost) (1.9.1)\n"
          ]
        }
      ],
      "source": [
        "!pip install xgboost"
      ]
    },
    {
      "cell_type": "code",
      "execution_count": null,
      "metadata": {
        "id": "qHvmNNQuGoya"
      },
      "outputs": [],
      "source": [
        "#librarires needed for the lab:\n",
        "import numpy as np\n",
        "import pandas as pd\n",
        "import matplotlib.pyplot as plt\n",
        "import seaborn as sns\n",
        "\n",
        "import xgboost\n",
        "\n",
        "from sklearn.model_selection import train_test_split\n",
        "from sklearn.model_selection import GridSearchCV\n",
        "\n",
        "from sklearn.metrics import classification_report\n",
        "from sklearn.metrics import confusion_matrix\n",
        "from sklearn.metrics import r2_score\n",
        "\n",
        "from sklearn.preprocessing import StandardScaler\n",
        "from sklearn.preprocessing import MinMaxScaler\n",
        "\n",
        "from sklearn.tree import DecisionTreeClassifier\n",
        "\n",
        "from sklearn.ensemble import RandomForestClassifier\n",
        "from sklearn.ensemble import AdaBoostClassifier\n",
        "from sklearn.ensemble import BaggingClassifier\n",
        "from sklearn.ensemble import VotingClassifier\n",
        "\n",
        "from sklearn.svm import SVC\n",
        "\n",
        "from sklearn.pipeline import Pipeline"
      ]
    },
    {
      "cell_type": "markdown",
      "metadata": {
        "id": "fgvWFzN_XwWj"
      },
      "source": [
        "## Q1. Housing Price (SVM/SVC)"
      ]
    },
    {
      "cell_type": "markdown",
      "metadata": {
        "id": "HUdNSpZTX53n"
      },
      "source": [
        "#### Load and Explore the Data\n",
        "\n",
        "*   Think about standardizing the data.\n",
        "\n",
        "*  How would you replace discrete attributes\n"
      ]
    },
    {
      "cell_type": "code",
      "execution_count": null,
      "metadata": {
        "id": "Qg7N_4M3XuSX"
      },
      "outputs": [],
      "source": [
        "url = 'https://raw.githubusercontent.com/kirubanath/Datasets/main/lab3_data.csv'\n",
        "data_df = pd.read_csv(url)"
      ]
    },
    {
      "cell_type": "code",
      "execution_count": null,
      "metadata": {
        "id": "E3dlhd_BGoyd",
        "outputId": "431b5918-c589-49e1-8c29-9f7077054914"
      },
      "outputs": [
        {
          "data": {
            "text/html": [
              "<div>\n",
              "<style scoped>\n",
              "    .dataframe tbody tr th:only-of-type {\n",
              "        vertical-align: middle;\n",
              "    }\n",
              "\n",
              "    .dataframe tbody tr th {\n",
              "        vertical-align: top;\n",
              "    }\n",
              "\n",
              "    .dataframe thead th {\n",
              "        text-align: right;\n",
              "    }\n",
              "</style>\n",
              "<table border=\"1\" class=\"dataframe\">\n",
              "  <thead>\n",
              "    <tr style=\"text-align: right;\">\n",
              "      <th></th>\n",
              "      <th>area</th>\n",
              "      <th>land</th>\n",
              "      <th>year</th>\n",
              "      <th>price</th>\n",
              "      <th>bldtype</th>\n",
              "    </tr>\n",
              "  </thead>\n",
              "  <tbody>\n",
              "    <tr>\n",
              "      <th>0</th>\n",
              "      <td>2607</td>\n",
              "      <td>1200</td>\n",
              "      <td>2010</td>\n",
              "      <td>825000.0</td>\n",
              "      <td>0</td>\n",
              "    </tr>\n",
              "    <tr>\n",
              "      <th>1</th>\n",
              "      <td>1950</td>\n",
              "      <td>1783</td>\n",
              "      <td>1899</td>\n",
              "      <td>1685000.0</td>\n",
              "      <td>0</td>\n",
              "    </tr>\n",
              "    <tr>\n",
              "      <th>2</th>\n",
              "      <td>2520</td>\n",
              "      <td>1875</td>\n",
              "      <td>1899</td>\n",
              "      <td>1100000.0</td>\n",
              "      <td>0</td>\n",
              "    </tr>\n",
              "    <tr>\n",
              "      <th>3</th>\n",
              "      <td>3750</td>\n",
              "      <td>3125</td>\n",
              "      <td>1931</td>\n",
              "      <td>1200000.0</td>\n",
              "      <td>1</td>\n",
              "    </tr>\n",
              "    <tr>\n",
              "      <th>4</th>\n",
              "      <td>7812</td>\n",
              "      <td>5021</td>\n",
              "      <td>1908</td>\n",
              "      <td>1900000.0</td>\n",
              "      <td>1</td>\n",
              "    </tr>\n",
              "  </tbody>\n",
              "</table>\n",
              "</div>"
            ],
            "text/plain": [
              "   area  land  year      price  bldtype\n",
              "0  2607  1200  2010   825000.0        0\n",
              "1  1950  1783  1899  1685000.0        0\n",
              "2  2520  1875  1899  1100000.0        0\n",
              "3  3750  3125  1931  1200000.0        1\n",
              "4  7812  5021  1908  1900000.0        1"
            ]
          },
          "execution_count": 5,
          "metadata": {},
          "output_type": "execute_result"
        }
      ],
      "source": [
        "data_df.head()"
      ]
    },
    {
      "cell_type": "code",
      "execution_count": null,
      "metadata": {
        "id": "7v4e-9RDGoye",
        "outputId": "d3976129-920f-49e9-c1ab-bc4d873c75db"
      },
      "outputs": [
        {
          "name": "stdout",
          "output_type": "stream",
          "text": [
            "<class 'pandas.core.frame.DataFrame'>\n",
            "RangeIndex: 94 entries, 0 to 93\n",
            "Data columns (total 5 columns):\n",
            " #   Column   Non-Null Count  Dtype  \n",
            "---  ------   --------------  -----  \n",
            " 0   area     94 non-null     int64  \n",
            " 1   land     94 non-null     int64  \n",
            " 2   year     94 non-null     int64  \n",
            " 3   price    94 non-null     float64\n",
            " 4   bldtype  94 non-null     int64  \n",
            "dtypes: float64(1), int64(4)\n",
            "memory usage: 3.8 KB\n"
          ]
        }
      ],
      "source": [
        "data_df.info()"
      ]
    },
    {
      "cell_type": "code",
      "execution_count": null,
      "metadata": {
        "id": "c7JIHKI0Goyf",
        "outputId": "0afe33c0-17fc-4f0d-cefc-8f18bfa09155"
      },
      "outputs": [
        {
          "data": {
            "text/html": [
              "<div>\n",
              "<style scoped>\n",
              "    .dataframe tbody tr th:only-of-type {\n",
              "        vertical-align: middle;\n",
              "    }\n",
              "\n",
              "    .dataframe tbody tr th {\n",
              "        vertical-align: top;\n",
              "    }\n",
              "\n",
              "    .dataframe thead th {\n",
              "        text-align: right;\n",
              "    }\n",
              "</style>\n",
              "<table border=\"1\" class=\"dataframe\">\n",
              "  <thead>\n",
              "    <tr style=\"text-align: right;\">\n",
              "      <th></th>\n",
              "      <th>area</th>\n",
              "      <th>land</th>\n",
              "      <th>year</th>\n",
              "      <th>price</th>\n",
              "      <th>bldtype</th>\n",
              "    </tr>\n",
              "  </thead>\n",
              "  <tbody>\n",
              "    <tr>\n",
              "      <th>count</th>\n",
              "      <td>94.000000</td>\n",
              "      <td>94.000000</td>\n",
              "      <td>94.000000</td>\n",
              "      <td>9.400000e+01</td>\n",
              "      <td>94.000000</td>\n",
              "    </tr>\n",
              "    <tr>\n",
              "      <th>mean</th>\n",
              "      <td>8592.468085</td>\n",
              "      <td>4095.968085</td>\n",
              "      <td>1918.031915</td>\n",
              "      <td>2.812458e+06</td>\n",
              "      <td>0.382979</td>\n",
              "    </tr>\n",
              "    <tr>\n",
              "      <th>std</th>\n",
              "      <td>21126.893599</td>\n",
              "      <td>6433.094494</td>\n",
              "      <td>41.425267</td>\n",
              "      <td>1.705404e+06</td>\n",
              "      <td>0.488720</td>\n",
              "    </tr>\n",
              "    <tr>\n",
              "      <th>min</th>\n",
              "      <td>680.000000</td>\n",
              "      <td>340.000000</td>\n",
              "      <td>1829.000000</td>\n",
              "      <td>1.399280e+05</td>\n",
              "      <td>0.000000</td>\n",
              "    </tr>\n",
              "    <tr>\n",
              "      <th>25%</th>\n",
              "      <td>2585.000000</td>\n",
              "      <td>1455.000000</td>\n",
              "      <td>1899.000000</td>\n",
              "      <td>1.500000e+06</td>\n",
              "      <td>0.000000</td>\n",
              "    </tr>\n",
              "    <tr>\n",
              "      <th>50%</th>\n",
              "      <td>3389.000000</td>\n",
              "      <td>2021.500000</td>\n",
              "      <td>1903.000000</td>\n",
              "      <td>2.725000e+06</td>\n",
              "      <td>0.000000</td>\n",
              "    </tr>\n",
              "    <tr>\n",
              "      <th>75%</th>\n",
              "      <td>5177.250000</td>\n",
              "      <td>3646.500000</td>\n",
              "      <td>1931.000000</td>\n",
              "      <td>3.563750e+06</td>\n",
              "      <td>1.000000</td>\n",
              "    </tr>\n",
              "    <tr>\n",
              "      <th>max</th>\n",
              "      <td>159457.000000</td>\n",
              "      <td>45767.000000</td>\n",
              "      <td>2010.000000</td>\n",
              "      <td>7.830000e+06</td>\n",
              "      <td>1.000000</td>\n",
              "    </tr>\n",
              "  </tbody>\n",
              "</table>\n",
              "</div>"
            ],
            "text/plain": [
              "                area          land         year         price    bldtype\n",
              "count      94.000000     94.000000    94.000000  9.400000e+01  94.000000\n",
              "mean     8592.468085   4095.968085  1918.031915  2.812458e+06   0.382979\n",
              "std     21126.893599   6433.094494    41.425267  1.705404e+06   0.488720\n",
              "min       680.000000    340.000000  1829.000000  1.399280e+05   0.000000\n",
              "25%      2585.000000   1455.000000  1899.000000  1.500000e+06   0.000000\n",
              "50%      3389.000000   2021.500000  1903.000000  2.725000e+06   0.000000\n",
              "75%      5177.250000   3646.500000  1931.000000  3.563750e+06   1.000000\n",
              "max    159457.000000  45767.000000  2010.000000  7.830000e+06   1.000000"
            ]
          },
          "execution_count": 7,
          "metadata": {},
          "output_type": "execute_result"
        }
      ],
      "source": [
        "data_df.describe()"
      ]
    },
    {
      "cell_type": "markdown",
      "metadata": {
        "id": "vmYFv2PRGoyg"
      },
      "source": [
        "### Here year is a decrete data:\n",
        "\n",
        "so we can either convert into categorical data or tranform it into a ordinal data"
      ]
    },
    {
      "cell_type": "markdown",
      "metadata": {
        "id": "CajSp_JfGoyh"
      },
      "source": [
        "Trying with ordinal tranformation:"
      ]
    },
    {
      "cell_type": "code",
      "execution_count": null,
      "metadata": {
        "id": "jQL7jOFqGoyi"
      },
      "outputs": [],
      "source": [
        "min_year = data_df.year.min()\n",
        "data_df.year = data_df.year - min_year"
      ]
    },
    {
      "cell_type": "code",
      "execution_count": null,
      "metadata": {
        "id": "ALT8PRDTGoyi"
      },
      "outputs": [],
      "source": [
        "years = data_df.year.unique()"
      ]
    },
    {
      "cell_type": "markdown",
      "metadata": {
        "id": "sGs9UF-JGoyi"
      },
      "source": [
        "We can now use this as a numerical data just like the other features"
      ]
    },
    {
      "cell_type": "code",
      "execution_count": null,
      "metadata": {
        "id": "gXQ_3EKyGoyi"
      },
      "outputs": [],
      "source": [
        "output = data_df['bldtype']\n",
        "input  = data_df.drop(columns='bldtype')"
      ]
    },
    {
      "cell_type": "markdown",
      "metadata": {
        "id": "O-rpCVVeGoyj"
      },
      "source": [
        "Looking at the distribution of the data"
      ]
    },
    {
      "cell_type": "code",
      "execution_count": null,
      "metadata": {
        "id": "uoo81JBKGoyj",
        "outputId": "f0f59c0b-237b-498a-b65d-d22788c68d40"
      },
      "outputs": [
        {
          "data": {
            "image/png": "[encoded data removed]",
            "text/plain": [
              "<Figure size 640x480 with 4 Axes>"
            ]
          },
          "metadata": {},
          "output_type": "display_data"
        }
      ],
      "source": [
        "input.hist(bins = 70);"
      ]
    },
    {
      "cell_type": "markdown",
      "metadata": {
        "id": "Qlx54orFGoyj"
      },
      "source": [
        "Standardizing the data: Prepocessing the data\n",
        "\n",
        "We standardize the data when the features have different scales and we use normalizing of the data when the features are skewed. Here I am choosing standardizing of the data, but the result did not chnage even when I tried normalizing."
      ]
    },
    {
      "cell_type": "markdown",
      "metadata": {
        "id": "fN6lgabaGoyj"
      },
      "source": [
        "First let us split the data into train test split and then apply the preprocessing to avoid data leakage"
      ]
    },
    {
      "cell_type": "markdown",
      "metadata": {
        "id": "I0vqLxt0YX1t"
      },
      "source": [
        "#### Train-Test Splot 80/20"
      ]
    },
    {
      "cell_type": "code",
      "execution_count": null,
      "metadata": {
        "id": "ze5R64pUXfgh"
      },
      "outputs": [],
      "source": [
        "X_train,X_test,Y_train,Y_test = train_test_split(input,output,train_size=0.8, random_state = 42)"
      ]
    },
    {
      "cell_type": "markdown",
      "metadata": {
        "id": "0_ElAiR9Goyk"
      },
      "source": [
        "Let us create a pipeline and then apply the standardization along with the SVM model"
      ]
    },
    {
      "cell_type": "markdown",
      "metadata": {
        "id": "5MC7mAvEYi77"
      },
      "source": [
        "#### Train a linear model with soft margin\n",
        "\n",
        "\n",
        "\n",
        "*   Try with initial value of C=1\n",
        "\n"
      ]
    },
    {
      "cell_type": "code",
      "execution_count": null,
      "metadata": {
        "id": "g1Y4XOosYw1W"
      },
      "outputs": [],
      "source": [
        "#create the steps for the pipeline\n",
        "steps = [('scaler', StandardScaler()),('SVC' , SVC(C=1, kernel='linear'))]\n",
        "\n",
        "#make the pipeline\n",
        "pipeline = Pipeline(steps)"
      ]
    },
    {
      "cell_type": "code",
      "execution_count": null,
      "metadata": {
        "id": "jX1sePVCGoyk",
        "outputId": "4d804624-029a-4164-c4ca-3a536bac2bf1"
      },
      "outputs": [
        {
          "data": {
            "text/html": [
              "<style>#sk-container-id-1 {color: black;background-color: white;}#sk-container-id-1 pre{padding: 0;}#sk-container-id-1 div.sk-toggleable {background-color: white;}#sk-container-id-1 label.sk-toggleable__label {cursor: pointer;display: block;width: 100%;margin-bottom: 0;padding: 0.3em;box-sizing: border-box;text-align: center;}#sk-container-id-1 label.sk-toggleable__label-arrow:before {content: \"▸\";float: left;margin-right: 0.25em;color: #696969;}#sk-container-id-1 label.sk-toggleable__label-arrow:hover:before {color: black;}#sk-container-id-1 div.sk-estimator:hover label.sk-toggleable__label-arrow:before {color: black;}#sk-container-id-1 div.sk-toggleable__content {max-height: 0;max-width: 0;overflow: hidden;text-align: left;background-color: #f0f8ff;}#sk-container-id-1 div.sk-toggleable__content pre {margin: 0.2em;color: black;border-radius: 0.25em;background-color: #f0f8ff;}#sk-container-id-1 input.sk-toggleable__control:checked~div.sk-toggleable__content {max-height: 200px;max-width: 100%;overflow: auto;}#sk-container-id-1 input.sk-toggleable__control:checked~label.sk-toggleable__label-arrow:before {content: \"▾\";}#sk-container-id-1 div.sk-estimator input.sk-toggleable__control:checked~label.sk-toggleable__label {background-color: #d4ebff;}#sk-container-id-1 div.sk-label input.sk-toggleable__control:checked~label.sk-toggleable__label {background-color: #d4ebff;}#sk-container-id-1 input.sk-hidden--visually {border: 0;clip: rect(1px 1px 1px 1px);clip: rect(1px, 1px, 1px, 1px);height: 1px;margin: -1px;overflow: hidden;padding: 0;position: absolute;width: 1px;}#sk-container-id-1 div.sk-estimator {font-family: monospace;background-color: #f0f8ff;border: 1px dotted black;border-radius: 0.25em;box-sizing: border-box;margin-bottom: 0.5em;}#sk-container-id-1 div.sk-estimator:hover {background-color: #d4ebff;}#sk-container-id-1 div.sk-parallel-item::after {content: \"\";width: 100%;border-bottom: 1px solid gray;flex-grow: 1;}#sk-container-id-1 div.sk-label:hover label.sk-toggleable__label {background-color: #d4ebff;}#sk-container-id-1 div.sk-serial::before {content: \"\";position: absolute;border-left: 1px solid gray;box-sizing: border-box;top: 0;bottom: 0;left: 50%;z-index: 0;}#sk-container-id-1 div.sk-serial {display: flex;flex-direction: column;align-items: center;background-color: white;padding-right: 0.2em;padding-left: 0.2em;position: relative;}#sk-container-id-1 div.sk-item {position: relative;z-index: 1;}#sk-container-id-1 div.sk-parallel {display: flex;align-items: stretch;justify-content: center;background-color: white;position: relative;}#sk-container-id-1 div.sk-item::before, #sk-container-id-1 div.sk-parallel-item::before {content: \"\";position: absolute;border-left: 1px solid gray;box-sizing: border-box;top: 0;bottom: 0;left: 50%;z-index: -1;}#sk-container-id-1 div.sk-parallel-item {display: flex;flex-direction: column;z-index: 1;position: relative;background-color: white;}#sk-container-id-1 div.sk-parallel-item:first-child::after {align-self: flex-end;width: 50%;}#sk-container-id-1 div.sk-parallel-item:last-child::after {align-self: flex-start;width: 50%;}#sk-container-id-1 div.sk-parallel-item:only-child::after {width: 0;}#sk-container-id-1 div.sk-dashed-wrapped {border: 1px dashed gray;margin: 0 0.4em 0.5em 0.4em;box-sizing: border-box;padding-bottom: 0.4em;background-color: white;}#sk-container-id-1 div.sk-label label {font-family: monospace;font-weight: bold;display: inline-block;line-height: 1.2em;}#sk-container-id-1 div.sk-label-container {text-align: center;}#sk-container-id-1 div.sk-container {/* jupyter's `normalize.less` sets `[hidden] { display: none; }` but bootstrap.min.css set `[hidden] { display: none !important; }` so we also need the `!important` here to be able to override the default hidden behavior on the sphinx rendered scikit-learn.org. See: https://github.com/scikit-learn/scikit-learn/issues/21755 */display: inline-block !important;position: relative;}#sk-container-id-1 div.sk-text-repr-fallback {display: none;}</style><div id=\"sk-container-id-1\" class=\"sk-top-container\"><div class=\"sk-text-repr-fallback\"><pre>Pipeline(steps=[(&#x27;scaler&#x27;, StandardScaler()),\n",
              "                (&#x27;SVC&#x27;, SVC(C=1, kernel=&#x27;linear&#x27;))])</pre><b>In a Jupyter environment, please rerun this cell to show the HTML representation or trust the notebook. <br />On GitHub, the HTML representation is unable to render, please try loading this page with nbviewer.org.</b></div><div class=\"sk-container\" hidden><div class=\"sk-item sk-dashed-wrapped\"><div class=\"sk-label-container\"><div class=\"sk-label sk-toggleable\"><input class=\"sk-toggleable__control sk-hidden--visually\" id=\"sk-estimator-id-1\" type=\"checkbox\" ><label for=\"sk-estimator-id-1\" class=\"sk-toggleable__label sk-toggleable__label-arrow\">Pipeline</label><div class=\"sk-toggleable__content\"><pre>Pipeline(steps=[(&#x27;scaler&#x27;, StandardScaler()),\n",
              "                (&#x27;SVC&#x27;, SVC(C=1, kernel=&#x27;linear&#x27;))])</pre></div></div></div><div class=\"sk-serial\"><div class=\"sk-item\"><div class=\"sk-estimator sk-toggleable\"><input class=\"sk-toggleable__control sk-hidden--visually\" id=\"sk-estimator-id-2\" type=\"checkbox\" ><label for=\"sk-estimator-id-2\" class=\"sk-toggleable__label sk-toggleable__label-arrow\">StandardScaler</label><div class=\"sk-toggleable__content\"><pre>StandardScaler()</pre></div></div></div><div class=\"sk-item\"><div class=\"sk-estimator sk-toggleable\"><input class=\"sk-toggleable__control sk-hidden--visually\" id=\"sk-estimator-id-3\" type=\"checkbox\" ><label for=\"sk-estimator-id-3\" class=\"sk-toggleable__label sk-toggleable__label-arrow\">SVC</label><div class=\"sk-toggleable__content\"><pre>SVC(C=1, kernel=&#x27;linear&#x27;)</pre></div></div></div></div></div></div></div>"
            ],
            "text/plain": [
              "Pipeline(steps=[('scaler', StandardScaler()),\n",
              "                ('SVC', SVC(C=1, kernel='linear'))])"
            ]
          },
          "execution_count": 14,
          "metadata": {},
          "output_type": "execute_result"
        }
      ],
      "source": [
        "#input the data into the pipeline \n",
        "pipeline.fit(X_train,Y_train)"
      ]
    },
    {
      "cell_type": "code",
      "execution_count": null,
      "metadata": {
        "id": "jiqHRDurGoyk"
      },
      "outputs": [],
      "source": [
        "#predict:\n",
        "Y_predict = pipeline.predict(X_test)"
      ]
    },
    {
      "cell_type": "code",
      "execution_count": null,
      "metadata": {
        "id": "PlbvBgyHGoyl",
        "outputId": "3c7c2523-8896-437f-d98a-1c82c54fa157"
      },
      "outputs": [
        {
          "name": "stdout",
          "output_type": "stream",
          "text": [
            "The current accuracy for C = 1 is: 94.73684210526315 %\n"
          ]
        }
      ],
      "source": [
        "acc = 100*((Y_test == Y_predict).sum()/19)\n",
        "print(\"The current accuracy for C = 1 is:\",acc,\"%\")"
      ]
    },
    {
      "cell_type": "code",
      "execution_count": null,
      "metadata": {
        "id": "NdHfWiFLGoyl",
        "outputId": "7e692096-7711-4236-96d9-8bc3e6240ae3"
      },
      "outputs": [
        {
          "name": "stdout",
          "output_type": "stream",
          "text": [
            "              precision    recall  f1-score   support\n",
            "\n",
            "           0       1.00      0.93      0.96        14\n",
            "           1       0.83      1.00      0.91         5\n",
            "\n",
            "    accuracy                           0.95        19\n",
            "   macro avg       0.92      0.96      0.94        19\n",
            "weighted avg       0.96      0.95      0.95        19\n",
            "\n"
          ]
        }
      ],
      "source": [
        "#checking the classification report:\n",
        "print(classification_report(Y_predict,Y_test))"
      ]
    },
    {
      "cell_type": "markdown",
      "metadata": {
        "id": "n4Crsr5tYxgZ"
      },
      "source": [
        "#### Use cross validation to find best value of C\n",
        "\n",
        "\n",
        "\n",
        "*   Can do it manually or use GridSearchCV\n",
        "\n",
        "*   Divide the training set into train+validation\n",
        "\n"
      ]
    },
    {
      "cell_type": "code",
      "execution_count": null,
      "metadata": {
        "id": "gvdhwf8-ZESy"
      },
      "outputs": [],
      "source": [
        "#create the steps for the pipeline\n",
        "steps = [('scaler', StandardScaler()),('SVC' , SVC(kernel='linear'))]\n",
        "\n",
        "#make the pipeline\n",
        "pipeline = Pipeline(steps)\n",
        "\n",
        "#using cross validation:\n",
        "param = {'SVC__C' : [i/2 for i in range(1,100)]}\n",
        "clf = GridSearchCV(pipeline,param,cv=5,return_train_score=False)"
      ]
    },
    {
      "cell_type": "code",
      "execution_count": null,
      "metadata": {
        "id": "i7wMllA4Goyl",
        "outputId": "0b222f60-cd43-46b4-895f-696e960593e0"
      },
      "outputs": [
        {
          "data": {
            "text/html": [
              "<style>#sk-container-id-2 {color: black;background-color: white;}#sk-container-id-2 pre{padding: 0;}#sk-container-id-2 div.sk-toggleable {background-color: white;}#sk-container-id-2 label.sk-toggleable__label {cursor: pointer;display: block;width: 100%;margin-bottom: 0;padding: 0.3em;box-sizing: border-box;text-align: center;}#sk-container-id-2 label.sk-toggleable__label-arrow:before {content: \"▸\";float: left;margin-right: 0.25em;color: #696969;}#sk-container-id-2 label.sk-toggleable__label-arrow:hover:before {color: black;}#sk-container-id-2 div.sk-estimator:hover label.sk-toggleable__label-arrow:before {color: black;}#sk-container-id-2 div.sk-toggleable__content {max-height: 0;max-width: 0;overflow: hidden;text-align: left;background-color: #f0f8ff;}#sk-container-id-2 div.sk-toggleable__content pre {margin: 0.2em;color: black;border-radius: 0.25em;background-color: #f0f8ff;}#sk-container-id-2 input.sk-toggleable__control:checked~div.sk-toggleable__content {max-height: 200px;max-width: 100%;overflow: auto;}#sk-container-id-2 input.sk-toggleable__control:checked~label.sk-toggleable__label-arrow:before {content: \"▾\";}#sk-container-id-2 div.sk-estimator input.sk-toggleable__control:checked~label.sk-toggleable__label {background-color: #d4ebff;}#sk-container-id-2 div.sk-label input.sk-toggleable__control:checked~label.sk-toggleable__label {background-color: #d4ebff;}#sk-container-id-2 input.sk-hidden--visually {border: 0;clip: rect(1px 1px 1px 1px);clip: rect(1px, 1px, 1px, 1px);height: 1px;margin: -1px;overflow: hidden;padding: 0;position: absolute;width: 1px;}#sk-container-id-2 div.sk-estimator {font-family: monospace;background-color: #f0f8ff;border: 1px dotted black;border-radius: 0.25em;box-sizing: border-box;margin-bottom: 0.5em;}#sk-container-id-2 div.sk-estimator:hover {background-color: #d4ebff;}#sk-container-id-2 div.sk-parallel-item::after {content: \"\";width: 100%;border-bottom: 1px solid gray;flex-grow: 1;}#sk-container-id-2 div.sk-label:hover label.sk-toggleable__label {background-color: #d4ebff;}#sk-container-id-2 div.sk-serial::before {content: \"\";position: absolute;border-left: 1px solid gray;box-sizing: border-box;top: 0;bottom: 0;left: 50%;z-index: 0;}#sk-container-id-2 div.sk-serial {display: flex;flex-direction: column;align-items: center;background-color: white;padding-right: 0.2em;padding-left: 0.2em;position: relative;}#sk-container-id-2 div.sk-item {position: relative;z-index: 1;}#sk-container-id-2 div.sk-parallel {display: flex;align-items: stretch;justify-content: center;background-color: white;position: relative;}#sk-container-id-2 div.sk-item::before, #sk-container-id-2 div.sk-parallel-item::before {content: \"\";position: absolute;border-left: 1px solid gray;box-sizing: border-box;top: 0;bottom: 0;left: 50%;z-index: -1;}#sk-container-id-2 div.sk-parallel-item {display: flex;flex-direction: column;z-index: 1;position: relative;background-color: white;}#sk-container-id-2 div.sk-parallel-item:first-child::after {align-self: flex-end;width: 50%;}#sk-container-id-2 div.sk-parallel-item:last-child::after {align-self: flex-start;width: 50%;}#sk-container-id-2 div.sk-parallel-item:only-child::after {width: 0;}#sk-container-id-2 div.sk-dashed-wrapped {border: 1px dashed gray;margin: 0 0.4em 0.5em 0.4em;box-sizing: border-box;padding-bottom: 0.4em;background-color: white;}#sk-container-id-2 div.sk-label label {font-family: monospace;font-weight: bold;display: inline-block;line-height: 1.2em;}#sk-container-id-2 div.sk-label-container {text-align: center;}#sk-container-id-2 div.sk-container {/* jupyter's `normalize.less` sets `[hidden] { display: none; }` but bootstrap.min.css set `[hidden] { display: none !important; }` so we also need the `!important` here to be able to override the default hidden behavior on the sphinx rendered scikit-learn.org. See: https://github.com/scikit-learn/scikit-learn/issues/21755 */display: inline-block !important;position: relative;}#sk-container-id-2 div.sk-text-repr-fallback {display: none;}</style><div id=\"sk-container-id-2\" class=\"sk-top-container\"><div class=\"sk-text-repr-fallback\"><pre>GridSearchCV(cv=5,\n",
              "             estimator=Pipeline(steps=[(&#x27;scaler&#x27;, StandardScaler()),\n",
              "                                       (&#x27;SVC&#x27;, SVC(kernel=&#x27;linear&#x27;))]),\n",
              "             param_grid={&#x27;SVC__C&#x27;: [0.5, 1.0, 1.5, 2.0, 2.5, 3.0, 3.5, 4.0, 4.5,\n",
              "                                    5.0, 5.5, 6.0, 6.5, 7.0, 7.5, 8.0, 8.5, 9.0,\n",
              "                                    9.5, 10.0, 10.5, 11.0, 11.5, 12.0, 12.5,\n",
              "                                    13.0, 13.5, 14.0, 14.5, 15.0, ...]})</pre><b>In a Jupyter environment, please rerun this cell to show the HTML representation or trust the notebook. <br />On GitHub, the HTML representation is unable to render, please try loading this page with nbviewer.org.</b></div><div class=\"sk-container\" hidden><div class=\"sk-item sk-dashed-wrapped\"><div class=\"sk-label-container\"><div class=\"sk-label sk-toggleable\"><input class=\"sk-toggleable__control sk-hidden--visually\" id=\"sk-estimator-id-4\" type=\"checkbox\" ><label for=\"sk-estimator-id-4\" class=\"sk-toggleable__label sk-toggleable__label-arrow\">GridSearchCV</label><div class=\"sk-toggleable__content\"><pre>GridSearchCV(cv=5,\n",
              "             estimator=Pipeline(steps=[(&#x27;scaler&#x27;, StandardScaler()),\n",
              "                                       (&#x27;SVC&#x27;, SVC(kernel=&#x27;linear&#x27;))]),\n",
              "             param_grid={&#x27;SVC__C&#x27;: [0.5, 1.0, 1.5, 2.0, 2.5, 3.0, 3.5, 4.0, 4.5,\n",
              "                                    5.0, 5.5, 6.0, 6.5, 7.0, 7.5, 8.0, 8.5, 9.0,\n",
              "                                    9.5, 10.0, 10.5, 11.0, 11.5, 12.0, 12.5,\n",
              "                                    13.0, 13.5, 14.0, 14.5, 15.0, ...]})</pre></div></div></div><div class=\"sk-parallel\"><div class=\"sk-parallel-item\"><div class=\"sk-item\"><div class=\"sk-label-container\"><div class=\"sk-label sk-toggleable\"><input class=\"sk-toggleable__control sk-hidden--visually\" id=\"sk-estimator-id-5\" type=\"checkbox\" ><label for=\"sk-estimator-id-5\" class=\"sk-toggleable__label sk-toggleable__label-arrow\">estimator: Pipeline</label><div class=\"sk-toggleable__content\"><pre>Pipeline(steps=[(&#x27;scaler&#x27;, StandardScaler()), (&#x27;SVC&#x27;, SVC(kernel=&#x27;linear&#x27;))])</pre></div></div></div><div class=\"sk-serial\"><div class=\"sk-item\"><div class=\"sk-serial\"><div class=\"sk-item\"><div class=\"sk-estimator sk-toggleable\"><input class=\"sk-toggleable__control sk-hidden--visually\" id=\"sk-estimator-id-6\" type=\"checkbox\" ><label for=\"sk-estimator-id-6\" class=\"sk-toggleable__label sk-toggleable__label-arrow\">StandardScaler</label><div class=\"sk-toggleable__content\"><pre>StandardScaler()</pre></div></div></div><div class=\"sk-item\"><div class=\"sk-estimator sk-toggleable\"><input class=\"sk-toggleable__control sk-hidden--visually\" id=\"sk-estimator-id-7\" type=\"checkbox\" ><label for=\"sk-estimator-id-7\" class=\"sk-toggleable__label sk-toggleable__label-arrow\">SVC</label><div class=\"sk-toggleable__content\"><pre>SVC(kernel=&#x27;linear&#x27;)</pre></div></div></div></div></div></div></div></div></div></div></div></div>"
            ],
            "text/plain": [
              "GridSearchCV(cv=5,\n",
              "             estimator=Pipeline(steps=[('scaler', StandardScaler()),\n",
              "                                       ('SVC', SVC(kernel='linear'))]),\n",
              "             param_grid={'SVC__C': [0.5, 1.0, 1.5, 2.0, 2.5, 3.0, 3.5, 4.0, 4.5,\n",
              "                                    5.0, 5.5, 6.0, 6.5, 7.0, 7.5, 8.0, 8.5, 9.0,\n",
              "                                    9.5, 10.0, 10.5, 11.0, 11.5, 12.0, 12.5,\n",
              "                                    13.0, 13.5, 14.0, 14.5, 15.0, ...]})"
            ]
          },
          "execution_count": 19,
          "metadata": {},
          "output_type": "execute_result"
        }
      ],
      "source": [
        "#fitting the data for tuning\n",
        "clf.fit(X_train,Y_train)"
      ]
    },
    {
      "cell_type": "code",
      "execution_count": null,
      "metadata": {
        "id": "T1W8PvWAGoyl",
        "outputId": "8a3c7e07-1b49-4848-bc6a-9ccf650ecc41"
      },
      "outputs": [
        {
          "data": {
            "text/html": [
              "<div>\n",
              "<style scoped>\n",
              "    .dataframe tbody tr th:only-of-type {\n",
              "        vertical-align: middle;\n",
              "    }\n",
              "\n",
              "    .dataframe tbody tr th {\n",
              "        vertical-align: top;\n",
              "    }\n",
              "\n",
              "    .dataframe thead th {\n",
              "        text-align: right;\n",
              "    }\n",
              "</style>\n",
              "<table border=\"1\" class=\"dataframe\">\n",
              "  <thead>\n",
              "    <tr style=\"text-align: right;\">\n",
              "      <th></th>\n",
              "      <th>mean_fit_time</th>\n",
              "      <th>std_fit_time</th>\n",
              "      <th>mean_score_time</th>\n",
              "      <th>std_score_time</th>\n",
              "      <th>param_SVC__C</th>\n",
              "      <th>params</th>\n",
              "      <th>split0_test_score</th>\n",
              "      <th>split1_test_score</th>\n",
              "      <th>split2_test_score</th>\n",
              "      <th>split3_test_score</th>\n",
              "      <th>split4_test_score</th>\n",
              "      <th>mean_test_score</th>\n",
              "      <th>std_test_score</th>\n",
              "      <th>rank_test_score</th>\n",
              "    </tr>\n",
              "  </thead>\n",
              "  <tbody>\n",
              "    <tr>\n",
              "      <th>0</th>\n",
              "      <td>0.004593</td>\n",
              "      <td>0.002369</td>\n",
              "      <td>0.002215</td>\n",
              "      <td>0.001000</td>\n",
              "      <td>0.5</td>\n",
              "      <td>{'SVC__C': 0.5}</td>\n",
              "      <td>0.933333</td>\n",
              "      <td>0.733333</td>\n",
              "      <td>0.866667</td>\n",
              "      <td>0.733333</td>\n",
              "      <td>0.800000</td>\n",
              "      <td>0.813333</td>\n",
              "      <td>0.077746</td>\n",
              "      <td>98</td>\n",
              "    </tr>\n",
              "    <tr>\n",
              "      <th>1</th>\n",
              "      <td>0.004015</td>\n",
              "      <td>0.001927</td>\n",
              "      <td>0.001024</td>\n",
              "      <td>0.000047</td>\n",
              "      <td>1.0</td>\n",
              "      <td>{'SVC__C': 1.0}</td>\n",
              "      <td>0.933333</td>\n",
              "      <td>0.733333</td>\n",
              "      <td>0.866667</td>\n",
              "      <td>0.733333</td>\n",
              "      <td>0.800000</td>\n",
              "      <td>0.813333</td>\n",
              "      <td>0.077746</td>\n",
              "      <td>98</td>\n",
              "    </tr>\n",
              "    <tr>\n",
              "      <th>2</th>\n",
              "      <td>0.003820</td>\n",
              "      <td>0.001780</td>\n",
              "      <td>0.001221</td>\n",
              "      <td>0.000394</td>\n",
              "      <td>1.5</td>\n",
              "      <td>{'SVC__C': 1.5}</td>\n",
              "      <td>0.933333</td>\n",
              "      <td>0.800000</td>\n",
              "      <td>0.866667</td>\n",
              "      <td>0.733333</td>\n",
              "      <td>0.866667</td>\n",
              "      <td>0.840000</td>\n",
              "      <td>0.067987</td>\n",
              "      <td>97</td>\n",
              "    </tr>\n",
              "    <tr>\n",
              "      <th>3</th>\n",
              "      <td>0.002066</td>\n",
              "      <td>0.000553</td>\n",
              "      <td>0.001134</td>\n",
              "      <td>0.000861</td>\n",
              "      <td>2.0</td>\n",
              "      <td>{'SVC__C': 2.0}</td>\n",
              "      <td>0.933333</td>\n",
              "      <td>0.800000</td>\n",
              "      <td>0.866667</td>\n",
              "      <td>0.800000</td>\n",
              "      <td>0.933333</td>\n",
              "      <td>0.866667</td>\n",
              "      <td>0.059628</td>\n",
              "      <td>96</td>\n",
              "    </tr>\n",
              "    <tr>\n",
              "      <th>4</th>\n",
              "      <td>0.002427</td>\n",
              "      <td>0.000741</td>\n",
              "      <td>0.001144</td>\n",
              "      <td>0.000835</td>\n",
              "      <td>2.5</td>\n",
              "      <td>{'SVC__C': 2.5}</td>\n",
              "      <td>0.933333</td>\n",
              "      <td>0.800000</td>\n",
              "      <td>0.933333</td>\n",
              "      <td>0.866667</td>\n",
              "      <td>0.933333</td>\n",
              "      <td>0.893333</td>\n",
              "      <td>0.053333</td>\n",
              "      <td>93</td>\n",
              "    </tr>\n",
              "  </tbody>\n",
              "</table>\n",
              "</div>"
            ],
            "text/plain": [
              "   mean_fit_time  std_fit_time  mean_score_time  std_score_time param_SVC__C  \\\n",
              "0       0.004593      0.002369         0.002215        0.001000          0.5   \n",
              "1       0.004015      0.001927         0.001024        0.000047          1.0   \n",
              "2       0.003820      0.001780         0.001221        0.000394          1.5   \n",
              "3       0.002066      0.000553         0.001134        0.000861          2.0   \n",
              "4       0.002427      0.000741         0.001144        0.000835          2.5   \n",
              "\n",
              "            params  split0_test_score  split1_test_score  split2_test_score  \\\n",
              "0  {'SVC__C': 0.5}           0.933333           0.733333           0.866667   \n",
              "1  {'SVC__C': 1.0}           0.933333           0.733333           0.866667   \n",
              "2  {'SVC__C': 1.5}           0.933333           0.800000           0.866667   \n",
              "3  {'SVC__C': 2.0}           0.933333           0.800000           0.866667   \n",
              "4  {'SVC__C': 2.5}           0.933333           0.800000           0.933333   \n",
              "\n",
              "   split3_test_score  split4_test_score  mean_test_score  std_test_score  \\\n",
              "0           0.733333           0.800000         0.813333        0.077746   \n",
              "1           0.733333           0.800000         0.813333        0.077746   \n",
              "2           0.733333           0.866667         0.840000        0.067987   \n",
              "3           0.800000           0.933333         0.866667        0.059628   \n",
              "4           0.866667           0.933333         0.893333        0.053333   \n",
              "\n",
              "   rank_test_score  \n",
              "0               98  \n",
              "1               98  \n",
              "2               97  \n",
              "3               96  \n",
              "4               93  "
            ]
          },
          "execution_count": 20,
          "metadata": {},
          "output_type": "execute_result"
        }
      ],
      "source": [
        "#checking best score\n",
        "df = pd.DataFrame(clf.cv_results_)\n",
        "df.head()"
      ]
    },
    {
      "cell_type": "markdown",
      "metadata": {
        "id": "QnoFPiELZH95"
      },
      "source": [
        "#### Analyse accuracy basis the new values you have computed"
      ]
    },
    {
      "cell_type": "markdown",
      "metadata": {
        "id": "JufXY187Goym"
      },
      "source": [
        "As we can see above the C value from 2 onwards gives the best accuracy, we will take 2 because if the value of C increases, the margin becomes lower as well. So its better to take the least C"
      ]
    },
    {
      "cell_type": "code",
      "execution_count": null,
      "metadata": {
        "id": "f4plqSXHGoym",
        "outputId": "302c9c1c-a280-497f-f01a-37cbc0cc757a"
      },
      "outputs": [
        {
          "name": "stdout",
          "output_type": "stream",
          "text": [
            "              precision    recall  f1-score   support\n",
            "\n",
            "           0       1.00      1.00      1.00        13\n",
            "           1       1.00      1.00      1.00         6\n",
            "\n",
            "    accuracy                           1.00        19\n",
            "   macro avg       1.00      1.00      1.00        19\n",
            "weighted avg       1.00      1.00      1.00        19\n",
            "\n"
          ]
        }
      ],
      "source": [
        "#create the steps for the pipeline\n",
        "steps = [('scaler', StandardScaler()),('SVC' , SVC(C =2,kernel='linear'))]\n",
        "\n",
        "#make the pipeline\n",
        "pipeline = Pipeline(steps)\n",
        "\n",
        "#fit the data:\n",
        "pipeline.fit(X_train,Y_train)\n",
        "\n",
        "#predict:\n",
        "Y_predict = pipeline.predict(X_test)\n",
        "\n",
        "#classification report:\n",
        "print(classification_report(Y_predict,Y_test))"
      ]
    },
    {
      "cell_type": "code",
      "execution_count": null,
      "metadata": {
        "id": "EfZjKJWLGoym",
        "outputId": "c989ba7c-032e-4a6d-95f5-a5749f88d39f"
      },
      "outputs": [
        {
          "name": "stdout",
          "output_type": "stream",
          "text": [
            "The current accuracy for C = 2 is: 100.0 %\n"
          ]
        }
      ],
      "source": [
        "acc = 100*((Y_test == Y_predict).sum()/19)\n",
        "print(\"The current accuracy for C = 2 is:\",acc,\"%\")"
      ]
    },
    {
      "cell_type": "markdown",
      "metadata": {
        "id": "7goetyNnGoym"
      },
      "source": [
        "Now let us try the above with making year as categorical rather than ordinal like we did above."
      ]
    },
    {
      "cell_type": "code",
      "execution_count": null,
      "metadata": {
        "id": "W7fZy-j7Goym",
        "outputId": "fb5434cf-1338-41de-f62b-784c8c330841"
      },
      "outputs": [
        {
          "data": {
            "text/html": [
              "<div>\n",
              "<style scoped>\n",
              "    .dataframe tbody tr th:only-of-type {\n",
              "        vertical-align: middle;\n",
              "    }\n",
              "\n",
              "    .dataframe tbody tr th {\n",
              "        vertical-align: top;\n",
              "    }\n",
              "\n",
              "    .dataframe thead th {\n",
              "        text-align: right;\n",
              "    }\n",
              "</style>\n",
              "<table border=\"1\" class=\"dataframe\">\n",
              "  <thead>\n",
              "    <tr style=\"text-align: right;\">\n",
              "      <th></th>\n",
              "      <th>area</th>\n",
              "      <th>land</th>\n",
              "      <th>year</th>\n",
              "      <th>price</th>\n",
              "      <th>bldtype</th>\n",
              "    </tr>\n",
              "  </thead>\n",
              "  <tbody>\n",
              "    <tr>\n",
              "      <th>0</th>\n",
              "      <td>2607</td>\n",
              "      <td>1200</td>\n",
              "      <td>2010</td>\n",
              "      <td>825000.0</td>\n",
              "      <td>0</td>\n",
              "    </tr>\n",
              "    <tr>\n",
              "      <th>1</th>\n",
              "      <td>1950</td>\n",
              "      <td>1783</td>\n",
              "      <td>1899</td>\n",
              "      <td>1685000.0</td>\n",
              "      <td>0</td>\n",
              "    </tr>\n",
              "    <tr>\n",
              "      <th>2</th>\n",
              "      <td>2520</td>\n",
              "      <td>1875</td>\n",
              "      <td>1899</td>\n",
              "      <td>1100000.0</td>\n",
              "      <td>0</td>\n",
              "    </tr>\n",
              "    <tr>\n",
              "      <th>3</th>\n",
              "      <td>3750</td>\n",
              "      <td>3125</td>\n",
              "      <td>1931</td>\n",
              "      <td>1200000.0</td>\n",
              "      <td>1</td>\n",
              "    </tr>\n",
              "    <tr>\n",
              "      <th>4</th>\n",
              "      <td>7812</td>\n",
              "      <td>5021</td>\n",
              "      <td>1908</td>\n",
              "      <td>1900000.0</td>\n",
              "      <td>1</td>\n",
              "    </tr>\n",
              "  </tbody>\n",
              "</table>\n",
              "</div>"
            ],
            "text/plain": [
              "   area  land  year      price  bldtype\n",
              "0  2607  1200  2010   825000.0        0\n",
              "1  1950  1783  1899  1685000.0        0\n",
              "2  2520  1875  1899  1100000.0        0\n",
              "3  3750  3125  1931  1200000.0        1\n",
              "4  7812  5021  1908  1900000.0        1"
            ]
          },
          "execution_count": 23,
          "metadata": {},
          "output_type": "execute_result"
        }
      ],
      "source": [
        "data_df = pd.read_csv(url)\n",
        "data_df.head()"
      ]
    },
    {
      "cell_type": "code",
      "execution_count": null,
      "metadata": {
        "id": "YalavbSbGoym"
      },
      "outputs": [],
      "source": [
        "data_df['House_Type'] = np.where(data_df['year'] > 1919, 'Modern', 'Old' )"
      ]
    },
    {
      "cell_type": "code",
      "execution_count": null,
      "metadata": {
        "id": "vjcR-635Goym",
        "outputId": "32cc39c2-4ab2-40a1-8b7a-50577714970e"
      },
      "outputs": [
        {
          "data": {
            "text/html": [
              "<div>\n",
              "<style scoped>\n",
              "    .dataframe tbody tr th:only-of-type {\n",
              "        vertical-align: middle;\n",
              "    }\n",
              "\n",
              "    .dataframe tbody tr th {\n",
              "        vertical-align: top;\n",
              "    }\n",
              "\n",
              "    .dataframe thead th {\n",
              "        text-align: right;\n",
              "    }\n",
              "</style>\n",
              "<table border=\"1\" class=\"dataframe\">\n",
              "  <thead>\n",
              "    <tr style=\"text-align: right;\">\n",
              "      <th></th>\n",
              "      <th>area</th>\n",
              "      <th>land</th>\n",
              "      <th>year</th>\n",
              "      <th>price</th>\n",
              "      <th>bldtype</th>\n",
              "      <th>House_Type</th>\n",
              "    </tr>\n",
              "  </thead>\n",
              "  <tbody>\n",
              "    <tr>\n",
              "      <th>0</th>\n",
              "      <td>2607</td>\n",
              "      <td>1200</td>\n",
              "      <td>2010</td>\n",
              "      <td>825000.0</td>\n",
              "      <td>0</td>\n",
              "      <td>Modern</td>\n",
              "    </tr>\n",
              "    <tr>\n",
              "      <th>1</th>\n",
              "      <td>1950</td>\n",
              "      <td>1783</td>\n",
              "      <td>1899</td>\n",
              "      <td>1685000.0</td>\n",
              "      <td>0</td>\n",
              "      <td>Old</td>\n",
              "    </tr>\n",
              "    <tr>\n",
              "      <th>2</th>\n",
              "      <td>2520</td>\n",
              "      <td>1875</td>\n",
              "      <td>1899</td>\n",
              "      <td>1100000.0</td>\n",
              "      <td>0</td>\n",
              "      <td>Old</td>\n",
              "    </tr>\n",
              "    <tr>\n",
              "      <th>3</th>\n",
              "      <td>3750</td>\n",
              "      <td>3125</td>\n",
              "      <td>1931</td>\n",
              "      <td>1200000.0</td>\n",
              "      <td>1</td>\n",
              "      <td>Modern</td>\n",
              "    </tr>\n",
              "    <tr>\n",
              "      <th>4</th>\n",
              "      <td>7812</td>\n",
              "      <td>5021</td>\n",
              "      <td>1908</td>\n",
              "      <td>1900000.0</td>\n",
              "      <td>1</td>\n",
              "      <td>Old</td>\n",
              "    </tr>\n",
              "  </tbody>\n",
              "</table>\n",
              "</div>"
            ],
            "text/plain": [
              "   area  land  year      price  bldtype House_Type\n",
              "0  2607  1200  2010   825000.0        0     Modern\n",
              "1  1950  1783  1899  1685000.0        0        Old\n",
              "2  2520  1875  1899  1100000.0        0        Old\n",
              "3  3750  3125  1931  1200000.0        1     Modern\n",
              "4  7812  5021  1908  1900000.0        1        Old"
            ]
          },
          "execution_count": 25,
          "metadata": {},
          "output_type": "execute_result"
        }
      ],
      "source": [
        "data_df.head()"
      ]
    },
    {
      "cell_type": "code",
      "execution_count": null,
      "metadata": {
        "id": "gub3T7dDGoyn"
      },
      "outputs": [],
      "source": [
        "data_df = pd.get_dummies(data_df, columns = ['House_Type'])"
      ]
    },
    {
      "cell_type": "code",
      "execution_count": null,
      "metadata": {
        "id": "rMq6PimmGoyn"
      },
      "outputs": [],
      "source": [
        "output = data_df['bldtype']\n",
        "input  = data_df.drop(columns=['bldtype','year'])"
      ]
    },
    {
      "cell_type": "code",
      "execution_count": null,
      "metadata": {
        "id": "ocq1froNGoyn"
      },
      "outputs": [],
      "source": [
        "X_train,X_test,Y_train,Y_test = train_test_split(input,output, train_size= 0.8, random_state = 42)"
      ]
    },
    {
      "cell_type": "code",
      "execution_count": null,
      "metadata": {
        "id": "_akgBb52Goyn",
        "outputId": "958f048e-adb1-4cdd-e406-e07b6abab375"
      },
      "outputs": [
        {
          "data": {
            "text/html": [
              "<div>\n",
              "<style scoped>\n",
              "    .dataframe tbody tr th:only-of-type {\n",
              "        vertical-align: middle;\n",
              "    }\n",
              "\n",
              "    .dataframe tbody tr th {\n",
              "        vertical-align: top;\n",
              "    }\n",
              "\n",
              "    .dataframe thead th {\n",
              "        text-align: right;\n",
              "    }\n",
              "</style>\n",
              "<table border=\"1\" class=\"dataframe\">\n",
              "  <thead>\n",
              "    <tr style=\"text-align: right;\">\n",
              "      <th></th>\n",
              "      <th>area</th>\n",
              "      <th>land</th>\n",
              "      <th>price</th>\n",
              "      <th>House_Type_Modern</th>\n",
              "      <th>House_Type_Old</th>\n",
              "    </tr>\n",
              "  </thead>\n",
              "  <tbody>\n",
              "    <tr>\n",
              "      <th>65</th>\n",
              "      <td>12500</td>\n",
              "      <td>2571</td>\n",
              "      <td>5500000.0</td>\n",
              "      <td>0</td>\n",
              "      <td>1</td>\n",
              "    </tr>\n",
              "    <tr>\n",
              "      <th>15</th>\n",
              "      <td>4600</td>\n",
              "      <td>3064</td>\n",
              "      <td>5325000.0</td>\n",
              "      <td>0</td>\n",
              "      <td>1</td>\n",
              "    </tr>\n",
              "    <tr>\n",
              "      <th>68</th>\n",
              "      <td>1626</td>\n",
              "      <td>1020</td>\n",
              "      <td>1500000.0</td>\n",
              "      <td>0</td>\n",
              "      <td>1</td>\n",
              "    </tr>\n",
              "    <tr>\n",
              "      <th>78</th>\n",
              "      <td>76041</td>\n",
              "      <td>19250</td>\n",
              "      <td>3200000.0</td>\n",
              "      <td>1</td>\n",
              "      <td>0</td>\n",
              "    </tr>\n",
              "    <tr>\n",
              "      <th>30</th>\n",
              "      <td>1696</td>\n",
              "      <td>589</td>\n",
              "      <td>999000.0</td>\n",
              "      <td>0</td>\n",
              "      <td>1</td>\n",
              "    </tr>\n",
              "    <tr>\n",
              "      <th>...</th>\n",
              "      <td>...</td>\n",
              "      <td>...</td>\n",
              "      <td>...</td>\n",
              "      <td>...</td>\n",
              "      <td>...</td>\n",
              "    </tr>\n",
              "    <tr>\n",
              "      <th>60</th>\n",
              "      <td>7650</td>\n",
              "      <td>7650</td>\n",
              "      <td>3200000.0</td>\n",
              "      <td>1</td>\n",
              "      <td>0</td>\n",
              "    </tr>\n",
              "    <tr>\n",
              "      <th>71</th>\n",
              "      <td>680</td>\n",
              "      <td>340</td>\n",
              "      <td>885000.0</td>\n",
              "      <td>0</td>\n",
              "      <td>1</td>\n",
              "    </tr>\n",
              "    <tr>\n",
              "      <th>14</th>\n",
              "      <td>4035</td>\n",
              "      <td>1480</td>\n",
              "      <td>1500000.0</td>\n",
              "      <td>0</td>\n",
              "      <td>1</td>\n",
              "    </tr>\n",
              "    <tr>\n",
              "      <th>92</th>\n",
              "      <td>5203</td>\n",
              "      <td>4163</td>\n",
              "      <td>3294000.0</td>\n",
              "      <td>0</td>\n",
              "      <td>1</td>\n",
              "    </tr>\n",
              "    <tr>\n",
              "      <th>51</th>\n",
              "      <td>1736</td>\n",
              "      <td>1483</td>\n",
              "      <td>3200000.0</td>\n",
              "      <td>1</td>\n",
              "      <td>0</td>\n",
              "    </tr>\n",
              "  </tbody>\n",
              "</table>\n",
              "<p>75 rows × 5 columns</p>\n",
              "</div>"
            ],
            "text/plain": [
              "     area   land      price  House_Type_Modern  House_Type_Old\n",
              "65  12500   2571  5500000.0                  0               1\n",
              "15   4600   3064  5325000.0                  0               1\n",
              "68   1626   1020  1500000.0                  0               1\n",
              "78  76041  19250  3200000.0                  1               0\n",
              "30   1696    589   999000.0                  0               1\n",
              "..    ...    ...        ...                ...             ...\n",
              "60   7650   7650  3200000.0                  1               0\n",
              "71    680    340   885000.0                  0               1\n",
              "14   4035   1480  1500000.0                  0               1\n",
              "92   5203   4163  3294000.0                  0               1\n",
              "51   1736   1483  3200000.0                  1               0\n",
              "\n",
              "[75 rows x 5 columns]"
            ]
          },
          "execution_count": 29,
          "metadata": {},
          "output_type": "execute_result"
        }
      ],
      "source": [
        "X_train"
      ]
    },
    {
      "cell_type": "code",
      "execution_count": null,
      "metadata": {
        "id": "5_cEU6yzGoyn"
      },
      "outputs": [],
      "source": [
        "X_train_nums = X_train[['area','land','price']]\n",
        "X_test_nums = X_test[['area','land','price']]"
      ]
    },
    {
      "cell_type": "code",
      "execution_count": null,
      "metadata": {
        "id": "4AwcTM23Goyn"
      },
      "outputs": [],
      "source": [
        "#standardizing the numerical data\n",
        "scaler = StandardScaler()\n",
        "scaler.fit(X_train_nums)\n",
        "X_train_trans = scaler.transform(X_train_nums)\n",
        "X_test_trans = scaler.transform(X_test_nums)"
      ]
    },
    {
      "cell_type": "code",
      "execution_count": null,
      "metadata": {
        "id": "VnOQ6z5yGoyn"
      },
      "outputs": [],
      "source": [
        "X_train['area'] = X_train_trans[:,0]\n",
        "X_train['land'] = X_train_trans[:,1]\n",
        "X_train['price'] = X_train_trans[:,2]"
      ]
    },
    {
      "cell_type": "code",
      "execution_count": null,
      "metadata": {
        "id": "B3p5i4lhGoyn"
      },
      "outputs": [],
      "source": [
        "X_test['area'] = X_test_trans[:,0]\n",
        "X_test['land'] = X_test_trans[:,1]\n",
        "X_test['price'] = X_test_trans[:,2]"
      ]
    },
    {
      "cell_type": "code",
      "execution_count": null,
      "metadata": {
        "id": "EmpXqfo5Goyn"
      },
      "outputs": [],
      "source": [
        "#create the steps for the pipeline\n",
        "steps = [('scaler', StandardScaler()),('SVC' , SVC(kernel='linear'))]\n",
        "\n",
        "#make the pipeline\n",
        "pipeline = Pipeline(steps)\n",
        "\n",
        "#using cross validation:\n",
        "param = {'SVC__C' : [i/2 for i in range(1,100)]}\n",
        "clf = GridSearchCV(pipeline,param,cv=5,return_train_score=False)"
      ]
    },
    {
      "cell_type": "code",
      "execution_count": null,
      "metadata": {
        "id": "q3KjJDKLGoyn",
        "outputId": "9a98dbf5-cc03-49e6-cbab-32bd6815b5e8"
      },
      "outputs": [
        {
          "data": {
            "text/html": [
              "<style>#sk-container-id-3 {color: black;background-color: white;}#sk-container-id-3 pre{padding: 0;}#sk-container-id-3 div.sk-toggleable {background-color: white;}#sk-container-id-3 label.sk-toggleable__label {cursor: pointer;display: block;width: 100%;margin-bottom: 0;padding: 0.3em;box-sizing: border-box;text-align: center;}#sk-container-id-3 label.sk-toggleable__label-arrow:before {content: \"▸\";float: left;margin-right: 0.25em;color: #696969;}#sk-container-id-3 label.sk-toggleable__label-arrow:hover:before {color: black;}#sk-container-id-3 div.sk-estimator:hover label.sk-toggleable__label-arrow:before {color: black;}#sk-container-id-3 div.sk-toggleable__content {max-height: 0;max-width: 0;overflow: hidden;text-align: left;background-color: #f0f8ff;}#sk-container-id-3 div.sk-toggleable__content pre {margin: 0.2em;color: black;border-radius: 0.25em;background-color: #f0f8ff;}#sk-container-id-3 input.sk-toggleable__control:checked~div.sk-toggleable__content {max-height: 200px;max-width: 100%;overflow: auto;}#sk-container-id-3 input.sk-toggleable__control:checked~label.sk-toggleable__label-arrow:before {content: \"▾\";}#sk-container-id-3 div.sk-estimator input.sk-toggleable__control:checked~label.sk-toggleable__label {background-color: #d4ebff;}#sk-container-id-3 div.sk-label input.sk-toggleable__control:checked~label.sk-toggleable__label {background-color: #d4ebff;}#sk-container-id-3 input.sk-hidden--visually {border: 0;clip: rect(1px 1px 1px 1px);clip: rect(1px, 1px, 1px, 1px);height: 1px;margin: -1px;overflow: hidden;padding: 0;position: absolute;width: 1px;}#sk-container-id-3 div.sk-estimator {font-family: monospace;background-color: #f0f8ff;border: 1px dotted black;border-radius: 0.25em;box-sizing: border-box;margin-bottom: 0.5em;}#sk-container-id-3 div.sk-estimator:hover {background-color: #d4ebff;}#sk-container-id-3 div.sk-parallel-item::after {content: \"\";width: 100%;border-bottom: 1px solid gray;flex-grow: 1;}#sk-container-id-3 div.sk-label:hover label.sk-toggleable__label {background-color: #d4ebff;}#sk-container-id-3 div.sk-serial::before {content: \"\";position: absolute;border-left: 1px solid gray;box-sizing: border-box;top: 0;bottom: 0;left: 50%;z-index: 0;}#sk-container-id-3 div.sk-serial {display: flex;flex-direction: column;align-items: center;background-color: white;padding-right: 0.2em;padding-left: 0.2em;position: relative;}#sk-container-id-3 div.sk-item {position: relative;z-index: 1;}#sk-container-id-3 div.sk-parallel {display: flex;align-items: stretch;justify-content: center;background-color: white;position: relative;}#sk-container-id-3 div.sk-item::before, #sk-container-id-3 div.sk-parallel-item::before {content: \"\";position: absolute;border-left: 1px solid gray;box-sizing: border-box;top: 0;bottom: 0;left: 50%;z-index: -1;}#sk-container-id-3 div.sk-parallel-item {display: flex;flex-direction: column;z-index: 1;position: relative;background-color: white;}#sk-container-id-3 div.sk-parallel-item:first-child::after {align-self: flex-end;width: 50%;}#sk-container-id-3 div.sk-parallel-item:last-child::after {align-self: flex-start;width: 50%;}#sk-container-id-3 div.sk-parallel-item:only-child::after {width: 0;}#sk-container-id-3 div.sk-dashed-wrapped {border: 1px dashed gray;margin: 0 0.4em 0.5em 0.4em;box-sizing: border-box;padding-bottom: 0.4em;background-color: white;}#sk-container-id-3 div.sk-label label {font-family: monospace;font-weight: bold;display: inline-block;line-height: 1.2em;}#sk-container-id-3 div.sk-label-container {text-align: center;}#sk-container-id-3 div.sk-container {/* jupyter's `normalize.less` sets `[hidden] { display: none; }` but bootstrap.min.css set `[hidden] { display: none !important; }` so we also need the `!important` here to be able to override the default hidden behavior on the sphinx rendered scikit-learn.org. See: https://github.com/scikit-learn/scikit-learn/issues/21755 */display: inline-block !important;position: relative;}#sk-container-id-3 div.sk-text-repr-fallback {display: none;}</style><div id=\"sk-container-id-3\" class=\"sk-top-container\"><div class=\"sk-text-repr-fallback\"><pre>GridSearchCV(cv=5,\n",
              "             estimator=Pipeline(steps=[(&#x27;scaler&#x27;, StandardScaler()),\n",
              "                                       (&#x27;SVC&#x27;, SVC(kernel=&#x27;linear&#x27;))]),\n",
              "             param_grid={&#x27;SVC__C&#x27;: [0.5, 1.0, 1.5, 2.0, 2.5, 3.0, 3.5, 4.0, 4.5,\n",
              "                                    5.0, 5.5, 6.0, 6.5, 7.0, 7.5, 8.0, 8.5, 9.0,\n",
              "                                    9.5, 10.0, 10.5, 11.0, 11.5, 12.0, 12.5,\n",
              "                                    13.0, 13.5, 14.0, 14.5, 15.0, ...]})</pre><b>In a Jupyter environment, please rerun this cell to show the HTML representation or trust the notebook. <br />On GitHub, the HTML representation is unable to render, please try loading this page with nbviewer.org.</b></div><div class=\"sk-container\" hidden><div class=\"sk-item sk-dashed-wrapped\"><div class=\"sk-label-container\"><div class=\"sk-label sk-toggleable\"><input class=\"sk-toggleable__control sk-hidden--visually\" id=\"sk-estimator-id-8\" type=\"checkbox\" ><label for=\"sk-estimator-id-8\" class=\"sk-toggleable__label sk-toggleable__label-arrow\">GridSearchCV</label><div class=\"sk-toggleable__content\"><pre>GridSearchCV(cv=5,\n",
              "             estimator=Pipeline(steps=[(&#x27;scaler&#x27;, StandardScaler()),\n",
              "                                       (&#x27;SVC&#x27;, SVC(kernel=&#x27;linear&#x27;))]),\n",
              "             param_grid={&#x27;SVC__C&#x27;: [0.5, 1.0, 1.5, 2.0, 2.5, 3.0, 3.5, 4.0, 4.5,\n",
              "                                    5.0, 5.5, 6.0, 6.5, 7.0, 7.5, 8.0, 8.5, 9.0,\n",
              "                                    9.5, 10.0, 10.5, 11.0, 11.5, 12.0, 12.5,\n",
              "                                    13.0, 13.5, 14.0, 14.5, 15.0, ...]})</pre></div></div></div><div class=\"sk-parallel\"><div class=\"sk-parallel-item\"><div class=\"sk-item\"><div class=\"sk-label-container\"><div class=\"sk-label sk-toggleable\"><input class=\"sk-toggleable__control sk-hidden--visually\" id=\"sk-estimator-id-9\" type=\"checkbox\" ><label for=\"sk-estimator-id-9\" class=\"sk-toggleable__label sk-toggleable__label-arrow\">estimator: Pipeline</label><div class=\"sk-toggleable__content\"><pre>Pipeline(steps=[(&#x27;scaler&#x27;, StandardScaler()), (&#x27;SVC&#x27;, SVC(kernel=&#x27;linear&#x27;))])</pre></div></div></div><div class=\"sk-serial\"><div class=\"sk-item\"><div class=\"sk-serial\"><div class=\"sk-item\"><div class=\"sk-estimator sk-toggleable\"><input class=\"sk-toggleable__control sk-hidden--visually\" id=\"sk-estimator-id-10\" type=\"checkbox\" ><label for=\"sk-estimator-id-10\" class=\"sk-toggleable__label sk-toggleable__label-arrow\">StandardScaler</label><div class=\"sk-toggleable__content\"><pre>StandardScaler()</pre></div></div></div><div class=\"sk-item\"><div class=\"sk-estimator sk-toggleable\"><input class=\"sk-toggleable__control sk-hidden--visually\" id=\"sk-estimator-id-11\" type=\"checkbox\" ><label for=\"sk-estimator-id-11\" class=\"sk-toggleable__label sk-toggleable__label-arrow\">SVC</label><div class=\"sk-toggleable__content\"><pre>SVC(kernel=&#x27;linear&#x27;)</pre></div></div></div></div></div></div></div></div></div></div></div></div>"
            ],
            "text/plain": [
              "GridSearchCV(cv=5,\n",
              "             estimator=Pipeline(steps=[('scaler', StandardScaler()),\n",
              "                                       ('SVC', SVC(kernel='linear'))]),\n",
              "             param_grid={'SVC__C': [0.5, 1.0, 1.5, 2.0, 2.5, 3.0, 3.5, 4.0, 4.5,\n",
              "                                    5.0, 5.5, 6.0, 6.5, 7.0, 7.5, 8.0, 8.5, 9.0,\n",
              "                                    9.5, 10.0, 10.5, 11.0, 11.5, 12.0, 12.5,\n",
              "                                    13.0, 13.5, 14.0, 14.5, 15.0, ...]})"
            ]
          },
          "execution_count": 35,
          "metadata": {},
          "output_type": "execute_result"
        }
      ],
      "source": [
        "clf.fit(X_train,Y_train)"
      ]
    },
    {
      "cell_type": "code",
      "execution_count": null,
      "metadata": {
        "id": "HSUZ6W-HGoyo",
        "outputId": "506af977-a0d7-4342-f45c-d7a35a5acf76"
      },
      "outputs": [
        {
          "data": {
            "text/html": [
              "<div>\n",
              "<style scoped>\n",
              "    .dataframe tbody tr th:only-of-type {\n",
              "        vertical-align: middle;\n",
              "    }\n",
              "\n",
              "    .dataframe tbody tr th {\n",
              "        vertical-align: top;\n",
              "    }\n",
              "\n",
              "    .dataframe thead th {\n",
              "        text-align: right;\n",
              "    }\n",
              "</style>\n",
              "<table border=\"1\" class=\"dataframe\">\n",
              "  <thead>\n",
              "    <tr style=\"text-align: right;\">\n",
              "      <th></th>\n",
              "      <th>mean_fit_time</th>\n",
              "      <th>std_fit_time</th>\n",
              "      <th>mean_score_time</th>\n",
              "      <th>std_score_time</th>\n",
              "      <th>param_SVC__C</th>\n",
              "      <th>params</th>\n",
              "      <th>split0_test_score</th>\n",
              "      <th>split1_test_score</th>\n",
              "      <th>split2_test_score</th>\n",
              "      <th>split3_test_score</th>\n",
              "      <th>split4_test_score</th>\n",
              "      <th>mean_test_score</th>\n",
              "      <th>std_test_score</th>\n",
              "      <th>rank_test_score</th>\n",
              "    </tr>\n",
              "  </thead>\n",
              "  <tbody>\n",
              "    <tr>\n",
              "      <th>18</th>\n",
              "      <td>0.002818</td>\n",
              "      <td>0.001856</td>\n",
              "      <td>0.000819</td>\n",
              "      <td>0.000411</td>\n",
              "      <td>9.5</td>\n",
              "      <td>{'SVC__C': 9.5}</td>\n",
              "      <td>0.933333</td>\n",
              "      <td>0.933333</td>\n",
              "      <td>0.800000</td>\n",
              "      <td>0.933333</td>\n",
              "      <td>1.0</td>\n",
              "      <td>0.92</td>\n",
              "      <td>0.065320</td>\n",
              "      <td>1</td>\n",
              "    </tr>\n",
              "    <tr>\n",
              "      <th>19</th>\n",
              "      <td>0.003119</td>\n",
              "      <td>0.001779</td>\n",
              "      <td>0.000837</td>\n",
              "      <td>0.000424</td>\n",
              "      <td>10.0</td>\n",
              "      <td>{'SVC__C': 10.0}</td>\n",
              "      <td>0.933333</td>\n",
              "      <td>0.933333</td>\n",
              "      <td>0.800000</td>\n",
              "      <td>0.933333</td>\n",
              "      <td>1.0</td>\n",
              "      <td>0.92</td>\n",
              "      <td>0.065320</td>\n",
              "      <td>1</td>\n",
              "    </tr>\n",
              "    <tr>\n",
              "      <th>34</th>\n",
              "      <td>0.002599</td>\n",
              "      <td>0.001206</td>\n",
              "      <td>0.001034</td>\n",
              "      <td>0.000070</td>\n",
              "      <td>17.5</td>\n",
              "      <td>{'SVC__C': 17.5}</td>\n",
              "      <td>0.933333</td>\n",
              "      <td>0.933333</td>\n",
              "      <td>0.800000</td>\n",
              "      <td>0.933333</td>\n",
              "      <td>1.0</td>\n",
              "      <td>0.92</td>\n",
              "      <td>0.065320</td>\n",
              "      <td>1</td>\n",
              "    </tr>\n",
              "    <tr>\n",
              "      <th>35</th>\n",
              "      <td>0.003400</td>\n",
              "      <td>0.001754</td>\n",
              "      <td>0.001255</td>\n",
              "      <td>0.000373</td>\n",
              "      <td>18.0</td>\n",
              "      <td>{'SVC__C': 18.0}</td>\n",
              "      <td>0.933333</td>\n",
              "      <td>0.933333</td>\n",
              "      <td>0.800000</td>\n",
              "      <td>0.933333</td>\n",
              "      <td>1.0</td>\n",
              "      <td>0.92</td>\n",
              "      <td>0.065320</td>\n",
              "      <td>1</td>\n",
              "    </tr>\n",
              "    <tr>\n",
              "      <th>36</th>\n",
              "      <td>0.002471</td>\n",
              "      <td>0.000894</td>\n",
              "      <td>0.001149</td>\n",
              "      <td>0.000234</td>\n",
              "      <td>18.5</td>\n",
              "      <td>{'SVC__C': 18.5}</td>\n",
              "      <td>0.933333</td>\n",
              "      <td>0.933333</td>\n",
              "      <td>0.800000</td>\n",
              "      <td>0.933333</td>\n",
              "      <td>1.0</td>\n",
              "      <td>0.92</td>\n",
              "      <td>0.065320</td>\n",
              "      <td>1</td>\n",
              "    </tr>\n",
              "    <tr>\n",
              "      <th>...</th>\n",
              "      <td>...</td>\n",
              "      <td>...</td>\n",
              "      <td>...</td>\n",
              "      <td>...</td>\n",
              "      <td>...</td>\n",
              "      <td>...</td>\n",
              "      <td>...</td>\n",
              "      <td>...</td>\n",
              "      <td>...</td>\n",
              "      <td>...</td>\n",
              "      <td>...</td>\n",
              "      <td>...</td>\n",
              "      <td>...</td>\n",
              "      <td>...</td>\n",
              "    </tr>\n",
              "    <tr>\n",
              "      <th>94</th>\n",
              "      <td>0.005429</td>\n",
              "      <td>0.001377</td>\n",
              "      <td>0.002810</td>\n",
              "      <td>0.001841</td>\n",
              "      <td>47.5</td>\n",
              "      <td>{'SVC__C': 47.5}</td>\n",
              "      <td>0.933333</td>\n",
              "      <td>0.866667</td>\n",
              "      <td>0.866667</td>\n",
              "      <td>0.933333</td>\n",
              "      <td>1.0</td>\n",
              "      <td>0.92</td>\n",
              "      <td>0.049889</td>\n",
              "      <td>1</td>\n",
              "    </tr>\n",
              "    <tr>\n",
              "      <th>95</th>\n",
              "      <td>0.005490</td>\n",
              "      <td>0.002129</td>\n",
              "      <td>0.002770</td>\n",
              "      <td>0.001495</td>\n",
              "      <td>48.0</td>\n",
              "      <td>{'SVC__C': 48.0}</td>\n",
              "      <td>0.933333</td>\n",
              "      <td>0.866667</td>\n",
              "      <td>0.866667</td>\n",
              "      <td>0.933333</td>\n",
              "      <td>1.0</td>\n",
              "      <td>0.92</td>\n",
              "      <td>0.049889</td>\n",
              "      <td>1</td>\n",
              "    </tr>\n",
              "    <tr>\n",
              "      <th>96</th>\n",
              "      <td>0.005782</td>\n",
              "      <td>0.001945</td>\n",
              "      <td>0.002413</td>\n",
              "      <td>0.001221</td>\n",
              "      <td>48.5</td>\n",
              "      <td>{'SVC__C': 48.5}</td>\n",
              "      <td>0.933333</td>\n",
              "      <td>0.866667</td>\n",
              "      <td>0.866667</td>\n",
              "      <td>0.933333</td>\n",
              "      <td>1.0</td>\n",
              "      <td>0.92</td>\n",
              "      <td>0.049889</td>\n",
              "      <td>1</td>\n",
              "    </tr>\n",
              "    <tr>\n",
              "      <th>97</th>\n",
              "      <td>0.005262</td>\n",
              "      <td>0.002502</td>\n",
              "      <td>0.002017</td>\n",
              "      <td>0.001993</td>\n",
              "      <td>49.0</td>\n",
              "      <td>{'SVC__C': 49.0}</td>\n",
              "      <td>0.933333</td>\n",
              "      <td>0.866667</td>\n",
              "      <td>0.866667</td>\n",
              "      <td>0.933333</td>\n",
              "      <td>1.0</td>\n",
              "      <td>0.92</td>\n",
              "      <td>0.049889</td>\n",
              "      <td>1</td>\n",
              "    </tr>\n",
              "    <tr>\n",
              "      <th>98</th>\n",
              "      <td>0.008009</td>\n",
              "      <td>0.003878</td>\n",
              "      <td>0.002599</td>\n",
              "      <td>0.001612</td>\n",
              "      <td>49.5</td>\n",
              "      <td>{'SVC__C': 49.5}</td>\n",
              "      <td>0.933333</td>\n",
              "      <td>0.866667</td>\n",
              "      <td>0.866667</td>\n",
              "      <td>0.933333</td>\n",
              "      <td>1.0</td>\n",
              "      <td>0.92</td>\n",
              "      <td>0.049889</td>\n",
              "      <td>1</td>\n",
              "    </tr>\n",
              "  </tbody>\n",
              "</table>\n",
              "<p>63 rows × 14 columns</p>\n",
              "</div>"
            ],
            "text/plain": [
              "    mean_fit_time  std_fit_time  mean_score_time  std_score_time param_SVC__C  \\\n",
              "18       0.002818      0.001856         0.000819        0.000411          9.5   \n",
              "19       0.003119      0.001779         0.000837        0.000424         10.0   \n",
              "34       0.002599      0.001206         0.001034        0.000070         17.5   \n",
              "35       0.003400      0.001754         0.001255        0.000373         18.0   \n",
              "36       0.002471      0.000894         0.001149        0.000234         18.5   \n",
              "..            ...           ...              ...             ...          ...   \n",
              "94       0.005429      0.001377         0.002810        0.001841         47.5   \n",
              "95       0.005490      0.002129         0.002770        0.001495         48.0   \n",
              "96       0.005782      0.001945         0.002413        0.001221         48.5   \n",
              "97       0.005262      0.002502         0.002017        0.001993         49.0   \n",
              "98       0.008009      0.003878         0.002599        0.001612         49.5   \n",
              "\n",
              "              params  split0_test_score  split1_test_score  split2_test_score  \\\n",
              "18   {'SVC__C': 9.5}           0.933333           0.933333           0.800000   \n",
              "19  {'SVC__C': 10.0}           0.933333           0.933333           0.800000   \n",
              "34  {'SVC__C': 17.5}           0.933333           0.933333           0.800000   \n",
              "35  {'SVC__C': 18.0}           0.933333           0.933333           0.800000   \n",
              "36  {'SVC__C': 18.5}           0.933333           0.933333           0.800000   \n",
              "..               ...                ...                ...                ...   \n",
              "94  {'SVC__C': 47.5}           0.933333           0.866667           0.866667   \n",
              "95  {'SVC__C': 48.0}           0.933333           0.866667           0.866667   \n",
              "96  {'SVC__C': 48.5}           0.933333           0.866667           0.866667   \n",
              "97  {'SVC__C': 49.0}           0.933333           0.866667           0.866667   \n",
              "98  {'SVC__C': 49.5}           0.933333           0.866667           0.866667   \n",
              "\n",
              "    split3_test_score  split4_test_score  mean_test_score  std_test_score  \\\n",
              "18           0.933333                1.0             0.92        0.065320   \n",
              "19           0.933333                1.0             0.92        0.065320   \n",
              "34           0.933333                1.0             0.92        0.065320   \n",
              "35           0.933333                1.0             0.92        0.065320   \n",
              "36           0.933333                1.0             0.92        0.065320   \n",
              "..                ...                ...              ...             ...   \n",
              "94           0.933333                1.0             0.92        0.049889   \n",
              "95           0.933333                1.0             0.92        0.049889   \n",
              "96           0.933333                1.0             0.92        0.049889   \n",
              "97           0.933333                1.0             0.92        0.049889   \n",
              "98           0.933333                1.0             0.92        0.049889   \n",
              "\n",
              "    rank_test_score  \n",
              "18                1  \n",
              "19                1  \n",
              "34                1  \n",
              "35                1  \n",
              "36                1  \n",
              "..              ...  \n",
              "94                1  \n",
              "95                1  \n",
              "96                1  \n",
              "97                1  \n",
              "98                1  \n",
              "\n",
              "[63 rows x 14 columns]"
            ]
          },
          "execution_count": 36,
          "metadata": {},
          "output_type": "execute_result"
        }
      ],
      "source": [
        "#checking best score\n",
        "df = pd.DataFrame(clf.cv_results_)\n",
        "df[df.rank_test_score == 1]"
      ]
    },
    {
      "cell_type": "code",
      "execution_count": null,
      "metadata": {
        "id": "mAkGH2YoGoyo",
        "outputId": "bed17867-5f1c-4a89-e169-979cb143921f"
      },
      "outputs": [
        {
          "name": "stdout",
          "output_type": "stream",
          "text": [
            "              precision    recall  f1-score   support\n",
            "\n",
            "           0       1.00      1.00      1.00        13\n",
            "           1       1.00      1.00      1.00         6\n",
            "\n",
            "    accuracy                           1.00        19\n",
            "   macro avg       1.00      1.00      1.00        19\n",
            "weighted avg       1.00      1.00      1.00        19\n",
            "\n"
          ]
        }
      ],
      "source": [
        "#create the steps for the pipeline\n",
        "steps = [('scaler', StandardScaler()),('SVC' , SVC(C =9.5,kernel = 'linear'))]\n",
        "\n",
        "#make the pipeline\n",
        "pipeline = Pipeline(steps)\n",
        "\n",
        "#fit the data:\n",
        "pipeline.fit(X_train,Y_train)\n",
        "\n",
        "#predict:\n",
        "Y_predict = pipeline.predict(X_test)\n",
        "\n",
        "#classification report:\n",
        "print(classification_report(Y_predict,Y_test))"
      ]
    },
    {
      "cell_type": "code",
      "execution_count": null,
      "metadata": {
        "id": "dnCSDXUGGoyo",
        "outputId": "e4088d68-3159-4332-a8ca-56a6b64e2009"
      },
      "outputs": [
        {
          "name": "stdout",
          "output_type": "stream",
          "text": [
            "The current accuracy for C = 9.5 is: 100.0 %\n"
          ]
        }
      ],
      "source": [
        "acc = 100*((Y_test == Y_predict).sum()/19)\n",
        "print(\"The current accuracy for C = 9.5 is:\",acc,\"%\")"
      ]
    },
    {
      "cell_type": "markdown",
      "metadata": {
        "id": "FkFSbDw0Goyo"
      },
      "source": [
        "This accuracy is same as above."
      ]
    },
    {
      "cell_type": "markdown",
      "metadata": {
        "id": "Rv6fi6bzZOfk"
      },
      "source": [
        "## Q2. DT and RF"
      ]
    },
    {
      "cell_type": "markdown",
      "metadata": {
        "id": "vckl9zaSaFkr"
      },
      "source": [
        "Consider the Wisconsin Breast Cancer dataset available from\n",
        "http://archive.ics.uci.edu/ml/datasets/Breast+Cancer+Wisconsin+\n",
        "(Diagnostic)\n",
        "\n",
        "The dataset has 32 attributes that predict malignancy. There are a\n",
        "total of 569 data patterns. Use 5-fold cross-validation. \n",
        "\n",
        "\n",
        "1.   Use Keras or any other framework to construct a decision tree from the training data and obtain the performance on the test data\n",
        "\n",
        "2.   Construct a random forest (of say, 100 trees) from the training data and use the random forest to obtain the performance on the test data\n",
        "\n",
        "3. Compare the performance you obtain in 1 and 2\n"
      ]
    },
    {
      "cell_type": "code",
      "execution_count": null,
      "metadata": {
        "id": "aIti5UQnZRA5"
      },
      "outputs": [],
      "source": [
        "url = 'https://raw.githubusercontent.com/kirubanath/Datasets/main/cancer_data.csv'\n",
        "data_df = pd.read_csv(url)\n"
      ]
    },
    {
      "cell_type": "code",
      "execution_count": null,
      "metadata": {
        "id": "kXwwXPqHGoyo"
      },
      "outputs": [],
      "source": [
        "data_df = data_df.drop(columns = 'Unnamed: 32')"
      ]
    },
    {
      "cell_type": "code",
      "execution_count": null,
      "metadata": {
        "id": "cdYj_5pdGoyo",
        "outputId": "27868f92-1f73-4fe6-d22b-aabd15abab9a"
      },
      "outputs": [
        {
          "data": {
            "text/html": [
              "<div>\n",
              "<style scoped>\n",
              "    .dataframe tbody tr th:only-of-type {\n",
              "        vertical-align: middle;\n",
              "    }\n",
              "\n",
              "    .dataframe tbody tr th {\n",
              "        vertical-align: top;\n",
              "    }\n",
              "\n",
              "    .dataframe thead th {\n",
              "        text-align: right;\n",
              "    }\n",
              "</style>\n",
              "<table border=\"1\" class=\"dataframe\">\n",
              "  <thead>\n",
              "    <tr style=\"text-align: right;\">\n",
              "      <th></th>\n",
              "      <th>id</th>\n",
              "      <th>diagnosis</th>\n",
              "      <th>radius_mean</th>\n",
              "      <th>texture_mean</th>\n",
              "      <th>perimeter_mean</th>\n",
              "      <th>area_mean</th>\n",
              "      <th>smoothness_mean</th>\n",
              "      <th>compactness_mean</th>\n",
              "      <th>concavity_mean</th>\n",
              "      <th>concave points_mean</th>\n",
              "      <th>...</th>\n",
              "      <th>radius_worst</th>\n",
              "      <th>texture_worst</th>\n",
              "      <th>perimeter_worst</th>\n",
              "      <th>area_worst</th>\n",
              "      <th>smoothness_worst</th>\n",
              "      <th>compactness_worst</th>\n",
              "      <th>concavity_worst</th>\n",
              "      <th>concave points_worst</th>\n",
              "      <th>symmetry_worst</th>\n",
              "      <th>fractal_dimension_worst</th>\n",
              "    </tr>\n",
              "  </thead>\n",
              "  <tbody>\n",
              "    <tr>\n",
              "      <th>0</th>\n",
              "      <td>842302</td>\n",
              "      <td>M</td>\n",
              "      <td>17.99</td>\n",
              "      <td>10.38</td>\n",
              "      <td>122.80</td>\n",
              "      <td>1001.0</td>\n",
              "      <td>0.11840</td>\n",
              "      <td>0.27760</td>\n",
              "      <td>0.3001</td>\n",
              "      <td>0.14710</td>\n",
              "      <td>...</td>\n",
              "      <td>25.38</td>\n",
              "      <td>17.33</td>\n",
              "      <td>184.60</td>\n",
              "      <td>2019.0</td>\n",
              "      <td>0.1622</td>\n",
              "      <td>0.6656</td>\n",
              "      <td>0.7119</td>\n",
              "      <td>0.2654</td>\n",
              "      <td>0.4601</td>\n",
              "      <td>0.11890</td>\n",
              "    </tr>\n",
              "    <tr>\n",
              "      <th>1</th>\n",
              "      <td>842517</td>\n",
              "      <td>M</td>\n",
              "      <td>20.57</td>\n",
              "      <td>17.77</td>\n",
              "      <td>132.90</td>\n",
              "      <td>1326.0</td>\n",
              "      <td>0.08474</td>\n",
              "      <td>0.07864</td>\n",
              "      <td>0.0869</td>\n",
              "      <td>0.07017</td>\n",
              "      <td>...</td>\n",
              "      <td>24.99</td>\n",
              "      <td>23.41</td>\n",
              "      <td>158.80</td>\n",
              "      <td>1956.0</td>\n",
              "      <td>0.1238</td>\n",
              "      <td>0.1866</td>\n",
              "      <td>0.2416</td>\n",
              "      <td>0.1860</td>\n",
              "      <td>0.2750</td>\n",
              "      <td>0.08902</td>\n",
              "    </tr>\n",
              "    <tr>\n",
              "      <th>2</th>\n",
              "      <td>84300903</td>\n",
              "      <td>M</td>\n",
              "      <td>19.69</td>\n",
              "      <td>21.25</td>\n",
              "      <td>130.00</td>\n",
              "      <td>1203.0</td>\n",
              "      <td>0.10960</td>\n",
              "      <td>0.15990</td>\n",
              "      <td>0.1974</td>\n",
              "      <td>0.12790</td>\n",
              "      <td>...</td>\n",
              "      <td>23.57</td>\n",
              "      <td>25.53</td>\n",
              "      <td>152.50</td>\n",
              "      <td>1709.0</td>\n",
              "      <td>0.1444</td>\n",
              "      <td>0.4245</td>\n",
              "      <td>0.4504</td>\n",
              "      <td>0.2430</td>\n",
              "      <td>0.3613</td>\n",
              "      <td>0.08758</td>\n",
              "    </tr>\n",
              "    <tr>\n",
              "      <th>3</th>\n",
              "      <td>84348301</td>\n",
              "      <td>M</td>\n",
              "      <td>11.42</td>\n",
              "      <td>20.38</td>\n",
              "      <td>77.58</td>\n",
              "      <td>386.1</td>\n",
              "      <td>0.14250</td>\n",
              "      <td>0.28390</td>\n",
              "      <td>0.2414</td>\n",
              "      <td>0.10520</td>\n",
              "      <td>...</td>\n",
              "      <td>14.91</td>\n",
              "      <td>26.50</td>\n",
              "      <td>98.87</td>\n",
              "      <td>567.7</td>\n",
              "      <td>0.2098</td>\n",
              "      <td>0.8663</td>\n",
              "      <td>0.6869</td>\n",
              "      <td>0.2575</td>\n",
              "      <td>0.6638</td>\n",
              "      <td>0.17300</td>\n",
              "    </tr>\n",
              "    <tr>\n",
              "      <th>4</th>\n",
              "      <td>84358402</td>\n",
              "      <td>M</td>\n",
              "      <td>20.29</td>\n",
              "      <td>14.34</td>\n",
              "      <td>135.10</td>\n",
              "      <td>1297.0</td>\n",
              "      <td>0.10030</td>\n",
              "      <td>0.13280</td>\n",
              "      <td>0.1980</td>\n",
              "      <td>0.10430</td>\n",
              "      <td>...</td>\n",
              "      <td>22.54</td>\n",
              "      <td>16.67</td>\n",
              "      <td>152.20</td>\n",
              "      <td>1575.0</td>\n",
              "      <td>0.1374</td>\n",
              "      <td>0.2050</td>\n",
              "      <td>0.4000</td>\n",
              "      <td>0.1625</td>\n",
              "      <td>0.2364</td>\n",
              "      <td>0.07678</td>\n",
              "    </tr>\n",
              "  </tbody>\n",
              "</table>\n",
              "<p>5 rows × 32 columns</p>\n",
              "</div>"
            ],
            "text/plain": [
              "         id diagnosis  radius_mean  texture_mean  perimeter_mean  area_mean  \\\n",
              "0    842302         M        17.99         10.38          122.80     1001.0   \n",
              "1    842517         M        20.57         17.77          132.90     1326.0   \n",
              "2  84300903         M        19.69         21.25          130.00     1203.0   \n",
              "3  84348301         M        11.42         20.38           77.58      386.1   \n",
              "4  84358402         M        20.29         14.34          135.10     1297.0   \n",
              "\n",
              "   smoothness_mean  compactness_mean  concavity_mean  concave points_mean  \\\n",
              "0          0.11840           0.27760          0.3001              0.14710   \n",
              "1          0.08474           0.07864          0.0869              0.07017   \n",
              "2          0.10960           0.15990          0.1974              0.12790   \n",
              "3          0.14250           0.28390          0.2414              0.10520   \n",
              "4          0.10030           0.13280          0.1980              0.10430   \n",
              "\n",
              "   ...  radius_worst  texture_worst  perimeter_worst  area_worst  \\\n",
              "0  ...         25.38          17.33           184.60      2019.0   \n",
              "1  ...         24.99          23.41           158.80      1956.0   \n",
              "2  ...         23.57          25.53           152.50      1709.0   \n",
              "3  ...         14.91          26.50            98.87       567.7   \n",
              "4  ...         22.54          16.67           152.20      1575.0   \n",
              "\n",
              "   smoothness_worst  compactness_worst  concavity_worst  concave points_worst  \\\n",
              "0            0.1622             0.6656           0.7119                0.2654   \n",
              "1            0.1238             0.1866           0.2416                0.1860   \n",
              "2            0.1444             0.4245           0.4504                0.2430   \n",
              "3            0.2098             0.8663           0.6869                0.2575   \n",
              "4            0.1374             0.2050           0.4000                0.1625   \n",
              "\n",
              "   symmetry_worst  fractal_dimension_worst  \n",
              "0          0.4601                  0.11890  \n",
              "1          0.2750                  0.08902  \n",
              "2          0.3613                  0.08758  \n",
              "3          0.6638                  0.17300  \n",
              "4          0.2364                  0.07678  \n",
              "\n",
              "[5 rows x 32 columns]"
            ]
          },
          "execution_count": 41,
          "metadata": {},
          "output_type": "execute_result"
        }
      ],
      "source": [
        "data_df.head()"
      ]
    },
    {
      "cell_type": "code",
      "execution_count": null,
      "metadata": {
        "id": "rtAr_MIbGoyo"
      },
      "outputs": [],
      "source": [
        "output = data_df['diagnosis']\n",
        "input = data_df.drop(columns = 'diagnosis')"
      ]
    },
    {
      "cell_type": "code",
      "execution_count": null,
      "metadata": {
        "id": "kIV02ZkQGoyp"
      },
      "outputs": [],
      "source": [
        "X_train,X_test,Y_train,Y_test = train_test_split(input,output,train_size=0.8,random_state=42)"
      ]
    },
    {
      "cell_type": "markdown",
      "metadata": {
        "id": "oYEhJSYCGoyp"
      },
      "source": [
        "#### Decision Tree"
      ]
    },
    {
      "cell_type": "code",
      "execution_count": null,
      "metadata": {
        "id": "pLP6sMi1Goyp"
      },
      "outputs": [],
      "source": [
        "param = {'max_depth': [i for i in range(1,100)]}\n",
        "clf = GridSearchCV(DecisionTreeClassifier(), param, cv =5 , return_train_score= False, error_score='raise')"
      ]
    },
    {
      "cell_type": "code",
      "execution_count": null,
      "metadata": {
        "id": "DIqA3IokGoyp",
        "outputId": "bc8e23d4-e8a9-4ccb-fcbc-78a664b77ebf"
      },
      "outputs": [
        {
          "data": {
            "text/html": [
              "<style>#sk-container-id-4 {color: black;background-color: white;}#sk-container-id-4 pre{padding: 0;}#sk-container-id-4 div.sk-toggleable {background-color: white;}#sk-container-id-4 label.sk-toggleable__label {cursor: pointer;display: block;width: 100%;margin-bottom: 0;padding: 0.3em;box-sizing: border-box;text-align: center;}#sk-container-id-4 label.sk-toggleable__label-arrow:before {content: \"▸\";float: left;margin-right: 0.25em;color: #696969;}#sk-container-id-4 label.sk-toggleable__label-arrow:hover:before {color: black;}#sk-container-id-4 div.sk-estimator:hover label.sk-toggleable__label-arrow:before {color: black;}#sk-container-id-4 div.sk-toggleable__content {max-height: 0;max-width: 0;overflow: hidden;text-align: left;background-color: #f0f8ff;}#sk-container-id-4 div.sk-toggleable__content pre {margin: 0.2em;color: black;border-radius: 0.25em;background-color: #f0f8ff;}#sk-container-id-4 input.sk-toggleable__control:checked~div.sk-toggleable__content {max-height: 200px;max-width: 100%;overflow: auto;}#sk-container-id-4 input.sk-toggleable__control:checked~label.sk-toggleable__label-arrow:before {content: \"▾\";}#sk-container-id-4 div.sk-estimator input.sk-toggleable__control:checked~label.sk-toggleable__label {background-color: #d4ebff;}#sk-container-id-4 div.sk-label input.sk-toggleable__control:checked~label.sk-toggleable__label {background-color: #d4ebff;}#sk-container-id-4 input.sk-hidden--visually {border: 0;clip: rect(1px 1px 1px 1px);clip: rect(1px, 1px, 1px, 1px);height: 1px;margin: -1px;overflow: hidden;padding: 0;position: absolute;width: 1px;}#sk-container-id-4 div.sk-estimator {font-family: monospace;background-color: #f0f8ff;border: 1px dotted black;border-radius: 0.25em;box-sizing: border-box;margin-bottom: 0.5em;}#sk-container-id-4 div.sk-estimator:hover {background-color: #d4ebff;}#sk-container-id-4 div.sk-parallel-item::after {content: \"\";width: 100%;border-bottom: 1px solid gray;flex-grow: 1;}#sk-container-id-4 div.sk-label:hover label.sk-toggleable__label {background-color: #d4ebff;}#sk-container-id-4 div.sk-serial::before {content: \"\";position: absolute;border-left: 1px solid gray;box-sizing: border-box;top: 0;bottom: 0;left: 50%;z-index: 0;}#sk-container-id-4 div.sk-serial {display: flex;flex-direction: column;align-items: center;background-color: white;padding-right: 0.2em;padding-left: 0.2em;position: relative;}#sk-container-id-4 div.sk-item {position: relative;z-index: 1;}#sk-container-id-4 div.sk-parallel {display: flex;align-items: stretch;justify-content: center;background-color: white;position: relative;}#sk-container-id-4 div.sk-item::before, #sk-container-id-4 div.sk-parallel-item::before {content: \"\";position: absolute;border-left: 1px solid gray;box-sizing: border-box;top: 0;bottom: 0;left: 50%;z-index: -1;}#sk-container-id-4 div.sk-parallel-item {display: flex;flex-direction: column;z-index: 1;position: relative;background-color: white;}#sk-container-id-4 div.sk-parallel-item:first-child::after {align-self: flex-end;width: 50%;}#sk-container-id-4 div.sk-parallel-item:last-child::after {align-self: flex-start;width: 50%;}#sk-container-id-4 div.sk-parallel-item:only-child::after {width: 0;}#sk-container-id-4 div.sk-dashed-wrapped {border: 1px dashed gray;margin: 0 0.4em 0.5em 0.4em;box-sizing: border-box;padding-bottom: 0.4em;background-color: white;}#sk-container-id-4 div.sk-label label {font-family: monospace;font-weight: bold;display: inline-block;line-height: 1.2em;}#sk-container-id-4 div.sk-label-container {text-align: center;}#sk-container-id-4 div.sk-container {/* jupyter's `normalize.less` sets `[hidden] { display: none; }` but bootstrap.min.css set `[hidden] { display: none !important; }` so we also need the `!important` here to be able to override the default hidden behavior on the sphinx rendered scikit-learn.org. See: https://github.com/scikit-learn/scikit-learn/issues/21755 */display: inline-block !important;position: relative;}#sk-container-id-4 div.sk-text-repr-fallback {display: none;}</style><div id=\"sk-container-id-4\" class=\"sk-top-container\"><div class=\"sk-text-repr-fallback\"><pre>GridSearchCV(cv=5, error_score=&#x27;raise&#x27;, estimator=DecisionTreeClassifier(),\n",
              "             param_grid={&#x27;max_depth&#x27;: [1, 2, 3, 4, 5, 6, 7, 8, 9, 10, 11, 12,\n",
              "                                       13, 14, 15, 16, 17, 18, 19, 20, 21, 22,\n",
              "                                       23, 24, 25, 26, 27, 28, 29, 30, ...]})</pre><b>In a Jupyter environment, please rerun this cell to show the HTML representation or trust the notebook. <br />On GitHub, the HTML representation is unable to render, please try loading this page with nbviewer.org.</b></div><div class=\"sk-container\" hidden><div class=\"sk-item sk-dashed-wrapped\"><div class=\"sk-label-container\"><div class=\"sk-label sk-toggleable\"><input class=\"sk-toggleable__control sk-hidden--visually\" id=\"sk-estimator-id-12\" type=\"checkbox\" ><label for=\"sk-estimator-id-12\" class=\"sk-toggleable__label sk-toggleable__label-arrow\">GridSearchCV</label><div class=\"sk-toggleable__content\"><pre>GridSearchCV(cv=5, error_score=&#x27;raise&#x27;, estimator=DecisionTreeClassifier(),\n",
              "             param_grid={&#x27;max_depth&#x27;: [1, 2, 3, 4, 5, 6, 7, 8, 9, 10, 11, 12,\n",
              "                                       13, 14, 15, 16, 17, 18, 19, 20, 21, 22,\n",
              "                                       23, 24, 25, 26, 27, 28, 29, 30, ...]})</pre></div></div></div><div class=\"sk-parallel\"><div class=\"sk-parallel-item\"><div class=\"sk-item\"><div class=\"sk-label-container\"><div class=\"sk-label sk-toggleable\"><input class=\"sk-toggleable__control sk-hidden--visually\" id=\"sk-estimator-id-13\" type=\"checkbox\" ><label for=\"sk-estimator-id-13\" class=\"sk-toggleable__label sk-toggleable__label-arrow\">estimator: DecisionTreeClassifier</label><div class=\"sk-toggleable__content\"><pre>DecisionTreeClassifier()</pre></div></div></div><div class=\"sk-serial\"><div class=\"sk-item\"><div class=\"sk-estimator sk-toggleable\"><input class=\"sk-toggleable__control sk-hidden--visually\" id=\"sk-estimator-id-14\" type=\"checkbox\" ><label for=\"sk-estimator-id-14\" class=\"sk-toggleable__label sk-toggleable__label-arrow\">DecisionTreeClassifier</label><div class=\"sk-toggleable__content\"><pre>DecisionTreeClassifier()</pre></div></div></div></div></div></div></div></div></div></div>"
            ],
            "text/plain": [
              "GridSearchCV(cv=5, error_score='raise', estimator=DecisionTreeClassifier(),\n",
              "             param_grid={'max_depth': [1, 2, 3, 4, 5, 6, 7, 8, 9, 10, 11, 12,\n",
              "                                       13, 14, 15, 16, 17, 18, 19, 20, 21, 22,\n",
              "                                       23, 24, 25, 26, 27, 28, 29, 30, ...]})"
            ]
          },
          "execution_count": 45,
          "metadata": {},
          "output_type": "execute_result"
        }
      ],
      "source": [
        "clf.fit(X_train,Y_train)"
      ]
    },
    {
      "cell_type": "code",
      "execution_count": null,
      "metadata": {
        "id": "knLKhveJGoyp",
        "outputId": "d9c445ef-7d5c-4854-be08-4e38aa01053d"
      },
      "outputs": [
        {
          "data": {
            "text/html": [
              "<div>\n",
              "<style scoped>\n",
              "    .dataframe tbody tr th:only-of-type {\n",
              "        vertical-align: middle;\n",
              "    }\n",
              "\n",
              "    .dataframe tbody tr th {\n",
              "        vertical-align: top;\n",
              "    }\n",
              "\n",
              "    .dataframe thead th {\n",
              "        text-align: right;\n",
              "    }\n",
              "</style>\n",
              "<table border=\"1\" class=\"dataframe\">\n",
              "  <thead>\n",
              "    <tr style=\"text-align: right;\">\n",
              "      <th></th>\n",
              "      <th>mean_fit_time</th>\n",
              "      <th>std_fit_time</th>\n",
              "      <th>mean_score_time</th>\n",
              "      <th>std_score_time</th>\n",
              "      <th>param_max_depth</th>\n",
              "      <th>params</th>\n",
              "      <th>split0_test_score</th>\n",
              "      <th>split1_test_score</th>\n",
              "      <th>split2_test_score</th>\n",
              "      <th>split3_test_score</th>\n",
              "      <th>split4_test_score</th>\n",
              "      <th>mean_test_score</th>\n",
              "      <th>std_test_score</th>\n",
              "      <th>rank_test_score</th>\n",
              "    </tr>\n",
              "  </thead>\n",
              "  <tbody>\n",
              "    <tr>\n",
              "      <th>11</th>\n",
              "      <td>0.008115</td>\n",
              "      <td>0.002967</td>\n",
              "      <td>0.002798</td>\n",
              "      <td>0.00171</td>\n",
              "      <td>12</td>\n",
              "      <td>{'max_depth': 12}</td>\n",
              "      <td>0.945055</td>\n",
              "      <td>0.912088</td>\n",
              "      <td>0.956044</td>\n",
              "      <td>0.923077</td>\n",
              "      <td>0.934066</td>\n",
              "      <td>0.934066</td>\n",
              "      <td>0.015541</td>\n",
              "      <td>1</td>\n",
              "    </tr>\n",
              "  </tbody>\n",
              "</table>\n",
              "</div>"
            ],
            "text/plain": [
              "    mean_fit_time  std_fit_time  mean_score_time  std_score_time  \\\n",
              "11       0.008115      0.002967         0.002798         0.00171   \n",
              "\n",
              "   param_max_depth             params  split0_test_score  split1_test_score  \\\n",
              "11              12  {'max_depth': 12}           0.945055           0.912088   \n",
              "\n",
              "    split2_test_score  split3_test_score  split4_test_score  mean_test_score  \\\n",
              "11           0.956044           0.923077           0.934066         0.934066   \n",
              "\n",
              "    std_test_score  rank_test_score  \n",
              "11        0.015541                1  "
            ]
          },
          "execution_count": 46,
          "metadata": {},
          "output_type": "execute_result"
        }
      ],
      "source": [
        "df = pd.DataFrame(clf.cv_results_)\n",
        "df[df.rank_test_score == 1]"
      ]
    },
    {
      "cell_type": "code",
      "execution_count": null,
      "metadata": {
        "id": "JAmOvvIzGoyp"
      },
      "outputs": [],
      "source": [
        "Dtree = DecisionTreeClassifier(max_depth=4)\n",
        "Dtree.fit(X_train,Y_train)\n",
        "Y_predict = Dtree.predict(X_test)"
      ]
    },
    {
      "cell_type": "code",
      "execution_count": null,
      "metadata": {
        "id": "zGCOuEogGoyp",
        "outputId": "4b53aaab-456a-4d5c-fba9-ae23b5135139"
      },
      "outputs": [
        {
          "name": "stdout",
          "output_type": "stream",
          "text": [
            "accuracy for the decision tree at max_depth = 4 is: 93.85964912280701 %\n"
          ]
        }
      ],
      "source": [
        "#accuracy:\n",
        "acc = 100*((Y_test ==Y_predict).sum())/len(Y_test)\n",
        "print('accuracy for the decision tree at max_depth = 4 is:',acc,'%')"
      ]
    },
    {
      "cell_type": "markdown",
      "metadata": {
        "id": "LNnpAD-IGoyp"
      },
      "source": [
        "#### Random Forest:"
      ]
    },
    {
      "cell_type": "markdown",
      "metadata": {
        "id": "jAHstC9qGoyp"
      },
      "source": [
        "I am commenting the cross validation out since it takes a long time to run."
      ]
    },
    {
      "cell_type": "code",
      "execution_count": null,
      "metadata": {
        "id": "3G1t_PXtGoyq",
        "outputId": "ea668423-ff9e-4b24-8587-9b3a311bb29b"
      },
      "outputs": [
        {
          "data": {
            "text/plain": [
              "\"\\nparam = {'max_depth': [i for i in range(1,100)], 'n_estimators': [10,20,50,100,200,1000]}\\nclf = GridSearchCV(RandomForestClassifier(), param, cv =5 , return_train_score= False, error_score='raise')\\nclf.fit(X_train,Y_train)\\ndf = pd.DataFrame(clf.cv_results_)\\ndf[df.rank_test_score ==1]\\n\\n\""
            ]
          },
          "execution_count": 49,
          "metadata": {},
          "output_type": "execute_result"
        }
      ],
      "source": [
        "\"\"\"\n",
        "param = {'max_depth': [i for i in range(1,100)], 'n_estimators': [10,20,50,100,200,1000]}\n",
        "clf = GridSearchCV(RandomForestClassifier(), param, cv =5 , return_train_score= False, error_score='raise')\n",
        "clf.fit(X_train,Y_train)\n",
        "df = pd.DataFrame(clf.cv_results_)\n",
        "df[df.rank_test_score ==1]\n",
        "\n",
        "\"\"\""
      ]
    },
    {
      "cell_type": "markdown",
      "metadata": {
        "id": "v0q5EiM4Goyq"
      },
      "source": [
        "From above I am taking max_depth as 14 and n_estimators as 100"
      ]
    },
    {
      "cell_type": "code",
      "execution_count": null,
      "metadata": {
        "id": "BIUJBpj5Goyq"
      },
      "outputs": [],
      "source": [
        "rmf = RandomForestClassifier(n_estimators=100,max_depth=14)\n",
        "rmf.fit(X_train,Y_train)\n",
        "Y_predict_rand = rmf.predict(X_test)"
      ]
    },
    {
      "cell_type": "code",
      "execution_count": null,
      "metadata": {
        "id": "neyZQwdyGoyq",
        "outputId": "e171170a-a87a-4c44-87c6-16db0a0be3fc"
      },
      "outputs": [
        {
          "name": "stdout",
          "output_type": "stream",
          "text": [
            "accuracy for the Random Forest at max_depth = 14 and n_estimators = 100 is: 96.49122807017544 %\n"
          ]
        }
      ],
      "source": [
        "#accuracy:\n",
        "acc = 100*((Y_test ==Y_predict_rand).sum())/len(Y_test)\n",
        "print('accuracy for the Random Forest at max_depth = 14 and n_estimators = 100 is:',acc,'%')"
      ]
    },
    {
      "cell_type": "markdown",
      "metadata": {
        "id": "qpS6Pby9Goyq"
      },
      "source": [
        "As we can clearly see, the accuracy from random forest (96.5%) is better than that of the decision tree (94.7%)."
      ]
    },
    {
      "cell_type": "markdown",
      "metadata": {
        "id": "4k4nskDtafj_"
      },
      "source": [
        "####  Repeat the exercise but add ±10% noise to 25% of the data (Optional)"
      ]
    },
    {
      "cell_type": "markdown",
      "metadata": {
        "id": "CWB-ygqGGoyq"
      },
      "source": [
        "Adding noise to the data makes it more generalized. To add noise, just take 25% of the data and then add the mean/median of the column to the data itself."
      ]
    },
    {
      "cell_type": "markdown",
      "metadata": {
        "id": "Qy9n-nOFrJIC"
      },
      "source": [
        "### Boosting\n",
        "\n",
        "Implement a boosting classifier algorithm for the same dataset as above (sample without noise)\n",
        "\n",
        "Feel free to use any boosting algorithm you want\n",
        "\n",
        "However only run the code for the eventual algorithm you choose and comment out every other algorithm\n",
        "\n",
        "Briefly explain why you chose a particular algorithm"
      ]
    },
    {
      "cell_type": "markdown",
      "metadata": {
        "id": "OsnnNv_eGoyr"
      },
      "source": [
        "Various types of boosting algorithms are:\n",
        "\n",
        "1. AdaBoost - simple and effective\n",
        "2. Gradient Boosting - powerful\n",
        "3. XGBoost(extreme gradient boosting) - optimized version of gradient boosting, many tunable parameters - __popular in kaggle__\n",
        "4. LightGBM - optimized version of gradient boosting, good for large scale dataset as it is more efficient than XGBoost \n",
        "5. CatBoost - When there is a lot of categorical variables"
      ]
    },
    {
      "cell_type": "markdown",
      "metadata": {
        "id": "kLfZlGEYGoyr"
      },
      "source": [
        "In our dataset, all of our variables are numerical. So no need to use CatBoost. Also since the dataset is smaller, We can prefer XGBoost over LightGBM. Also since we are using XGBoost anyway, no need to check for Gradient Boosting. So in the end we will check for both Adaboost and XGboost and choose the one that gives the best accuracy."
      ]
    },
    {
      "cell_type": "code",
      "execution_count": null,
      "metadata": {
        "id": "bTdWN9P_Goyr"
      },
      "outputs": [],
      "source": [
        "adaboost = AdaBoostClassifier(base_estimator=DecisionTreeClassifier(), n_estimators=100,random_state=42)"
      ]
    },
    {
      "cell_type": "code",
      "execution_count": null,
      "metadata": {
        "id": "1cyy0q6GGoyr",
        "outputId": "61226427-dba1-4a89-fd97-271b71fb962b"
      },
      "outputs": [
        {
          "data": {
            "text/html": [
              "<style>#sk-container-id-5 {color: black;background-color: white;}#sk-container-id-5 pre{padding: 0;}#sk-container-id-5 div.sk-toggleable {background-color: white;}#sk-container-id-5 label.sk-toggleable__label {cursor: pointer;display: block;width: 100%;margin-bottom: 0;padding: 0.3em;box-sizing: border-box;text-align: center;}#sk-container-id-5 label.sk-toggleable__label-arrow:before {content: \"▸\";float: left;margin-right: 0.25em;color: #696969;}#sk-container-id-5 label.sk-toggleable__label-arrow:hover:before {color: black;}#sk-container-id-5 div.sk-estimator:hover label.sk-toggleable__label-arrow:before {color: black;}#sk-container-id-5 div.sk-toggleable__content {max-height: 0;max-width: 0;overflow: hidden;text-align: left;background-color: #f0f8ff;}#sk-container-id-5 div.sk-toggleable__content pre {margin: 0.2em;color: black;border-radius: 0.25em;background-color: #f0f8ff;}#sk-container-id-5 input.sk-toggleable__control:checked~div.sk-toggleable__content {max-height: 200px;max-width: 100%;overflow: auto;}#sk-container-id-5 input.sk-toggleable__control:checked~label.sk-toggleable__label-arrow:before {content: \"▾\";}#sk-container-id-5 div.sk-estimator input.sk-toggleable__control:checked~label.sk-toggleable__label {background-color: #d4ebff;}#sk-container-id-5 div.sk-label input.sk-toggleable__control:checked~label.sk-toggleable__label {background-color: #d4ebff;}#sk-container-id-5 input.sk-hidden--visually {border: 0;clip: rect(1px 1px 1px 1px);clip: rect(1px, 1px, 1px, 1px);height: 1px;margin: -1px;overflow: hidden;padding: 0;position: absolute;width: 1px;}#sk-container-id-5 div.sk-estimator {font-family: monospace;background-color: #f0f8ff;border: 1px dotted black;border-radius: 0.25em;box-sizing: border-box;margin-bottom: 0.5em;}#sk-container-id-5 div.sk-estimator:hover {background-color: #d4ebff;}#sk-container-id-5 div.sk-parallel-item::after {content: \"\";width: 100%;border-bottom: 1px solid gray;flex-grow: 1;}#sk-container-id-5 div.sk-label:hover label.sk-toggleable__label {background-color: #d4ebff;}#sk-container-id-5 div.sk-serial::before {content: \"\";position: absolute;border-left: 1px solid gray;box-sizing: border-box;top: 0;bottom: 0;left: 50%;z-index: 0;}#sk-container-id-5 div.sk-serial {display: flex;flex-direction: column;align-items: center;background-color: white;padding-right: 0.2em;padding-left: 0.2em;position: relative;}#sk-container-id-5 div.sk-item {position: relative;z-index: 1;}#sk-container-id-5 div.sk-parallel {display: flex;align-items: stretch;justify-content: center;background-color: white;position: relative;}#sk-container-id-5 div.sk-item::before, #sk-container-id-5 div.sk-parallel-item::before {content: \"\";position: absolute;border-left: 1px solid gray;box-sizing: border-box;top: 0;bottom: 0;left: 50%;z-index: -1;}#sk-container-id-5 div.sk-parallel-item {display: flex;flex-direction: column;z-index: 1;position: relative;background-color: white;}#sk-container-id-5 div.sk-parallel-item:first-child::after {align-self: flex-end;width: 50%;}#sk-container-id-5 div.sk-parallel-item:last-child::after {align-self: flex-start;width: 50%;}#sk-container-id-5 div.sk-parallel-item:only-child::after {width: 0;}#sk-container-id-5 div.sk-dashed-wrapped {border: 1px dashed gray;margin: 0 0.4em 0.5em 0.4em;box-sizing: border-box;padding-bottom: 0.4em;background-color: white;}#sk-container-id-5 div.sk-label label {font-family: monospace;font-weight: bold;display: inline-block;line-height: 1.2em;}#sk-container-id-5 div.sk-label-container {text-align: center;}#sk-container-id-5 div.sk-container {/* jupyter's `normalize.less` sets `[hidden] { display: none; }` but bootstrap.min.css set `[hidden] { display: none !important; }` so we also need the `!important` here to be able to override the default hidden behavior on the sphinx rendered scikit-learn.org. See: https://github.com/scikit-learn/scikit-learn/issues/21755 */display: inline-block !important;position: relative;}#sk-container-id-5 div.sk-text-repr-fallback {display: none;}</style><div id=\"sk-container-id-5\" class=\"sk-top-container\"><div class=\"sk-text-repr-fallback\"><pre>GridSearchCV(cv=5,\n",
              "             estimator=AdaBoostClassifier(base_estimator=DecisionTreeClassifier(),\n",
              "                                          n_estimators=100, random_state=42),\n",
              "             param_grid={&#x27;base_estimator&#x27;: [DecisionTreeClassifier(max_depth=1),\n",
              "                                            DecisionTreeClassifier(max_depth=2),\n",
              "                                            DecisionTreeClassifier(max_depth=3),\n",
              "                                            DecisionTreeClassifier(max_depth=4),\n",
              "                                            DecisionTreeClassifier(max_depth=5),\n",
              "                                            DecisionTreeClassifier(max_depth=6),\n",
              "                                            DecisionTreeClassifier(max_depth=7),\n",
              "                                            DecisionTreeClassifier(max_depth=8),\n",
              "                                            DecisionTreeClassifier(max_depth=9)]})</pre><b>In a Jupyter environment, please rerun this cell to show the HTML representation or trust the notebook. <br />On GitHub, the HTML representation is unable to render, please try loading this page with nbviewer.org.</b></div><div class=\"sk-container\" hidden><div class=\"sk-item sk-dashed-wrapped\"><div class=\"sk-label-container\"><div class=\"sk-label sk-toggleable\"><input class=\"sk-toggleable__control sk-hidden--visually\" id=\"sk-estimator-id-15\" type=\"checkbox\" ><label for=\"sk-estimator-id-15\" class=\"sk-toggleable__label sk-toggleable__label-arrow\">GridSearchCV</label><div class=\"sk-toggleable__content\"><pre>GridSearchCV(cv=5,\n",
              "             estimator=AdaBoostClassifier(base_estimator=DecisionTreeClassifier(),\n",
              "                                          n_estimators=100, random_state=42),\n",
              "             param_grid={&#x27;base_estimator&#x27;: [DecisionTreeClassifier(max_depth=1),\n",
              "                                            DecisionTreeClassifier(max_depth=2),\n",
              "                                            DecisionTreeClassifier(max_depth=3),\n",
              "                                            DecisionTreeClassifier(max_depth=4),\n",
              "                                            DecisionTreeClassifier(max_depth=5),\n",
              "                                            DecisionTreeClassifier(max_depth=6),\n",
              "                                            DecisionTreeClassifier(max_depth=7),\n",
              "                                            DecisionTreeClassifier(max_depth=8),\n",
              "                                            DecisionTreeClassifier(max_depth=9)]})</pre></div></div></div><div class=\"sk-parallel\"><div class=\"sk-parallel-item\"><div class=\"sk-item\"><div class=\"sk-label-container\"><div class=\"sk-label sk-toggleable\"><input class=\"sk-toggleable__control sk-hidden--visually\" id=\"sk-estimator-id-16\" type=\"checkbox\" ><label for=\"sk-estimator-id-16\" class=\"sk-toggleable__label sk-toggleable__label-arrow\">estimator: AdaBoostClassifier</label><div class=\"sk-toggleable__content\"><pre>AdaBoostClassifier(base_estimator=DecisionTreeClassifier(), n_estimators=100,\n",
              "                   random_state=42)</pre></div></div></div><div class=\"sk-serial\"><div class=\"sk-item sk-dashed-wrapped\"><div class=\"sk-parallel\"><div class=\"sk-parallel-item\"><div class=\"sk-item\"><div class=\"sk-label-container\"><div class=\"sk-label sk-toggleable\"><input class=\"sk-toggleable__control sk-hidden--visually\" id=\"sk-estimator-id-17\" type=\"checkbox\" ><label for=\"sk-estimator-id-17\" class=\"sk-toggleable__label sk-toggleable__label-arrow\">base_estimator: DecisionTreeClassifier</label><div class=\"sk-toggleable__content\"><pre>DecisionTreeClassifier()</pre></div></div></div><div class=\"sk-serial\"><div class=\"sk-item\"><div class=\"sk-estimator sk-toggleable\"><input class=\"sk-toggleable__control sk-hidden--visually\" id=\"sk-estimator-id-18\" type=\"checkbox\" ><label for=\"sk-estimator-id-18\" class=\"sk-toggleable__label sk-toggleable__label-arrow\">DecisionTreeClassifier</label><div class=\"sk-toggleable__content\"><pre>DecisionTreeClassifier()</pre></div></div></div></div></div></div></div></div></div></div></div></div></div></div></div>"
            ],
            "text/plain": [
              "GridSearchCV(cv=5,\n",
              "             estimator=AdaBoostClassifier(base_estimator=DecisionTreeClassifier(),\n",
              "                                          n_estimators=100, random_state=42),\n",
              "             param_grid={'base_estimator': [DecisionTreeClassifier(max_depth=1),\n",
              "                                            DecisionTreeClassifier(max_depth=2),\n",
              "                                            DecisionTreeClassifier(max_depth=3),\n",
              "                                            DecisionTreeClassifier(max_depth=4),\n",
              "                                            DecisionTreeClassifier(max_depth=5),\n",
              "                                            DecisionTreeClassifier(max_depth=6),\n",
              "                                            DecisionTreeClassifier(max_depth=7),\n",
              "                                            DecisionTreeClassifier(max_depth=8),\n",
              "                                            DecisionTreeClassifier(max_depth=9)]})"
            ]
          },
          "execution_count": 54,
          "metadata": {},
          "output_type": "execute_result"
        }
      ],
      "source": [
        "param = {'base_estimator': [DecisionTreeClassifier(max_depth = i) for i in range(1,10)]}\n",
        "clf = GridSearchCV(adaboost,param,cv =5,return_train_score=False)\n",
        "clf.fit(X_train,Y_train)"
      ]
    },
    {
      "cell_type": "code",
      "execution_count": null,
      "metadata": {
        "id": "xWSk4SgdGoyr",
        "outputId": "60d27fa8-9c1a-4462-9f0b-365390faf2a6"
      },
      "outputs": [
        {
          "data": {
            "text/html": [
              "<div>\n",
              "<style scoped>\n",
              "    .dataframe tbody tr th:only-of-type {\n",
              "        vertical-align: middle;\n",
              "    }\n",
              "\n",
              "    .dataframe tbody tr th {\n",
              "        vertical-align: top;\n",
              "    }\n",
              "\n",
              "    .dataframe thead th {\n",
              "        text-align: right;\n",
              "    }\n",
              "</style>\n",
              "<table border=\"1\" class=\"dataframe\">\n",
              "  <thead>\n",
              "    <tr style=\"text-align: right;\">\n",
              "      <th></th>\n",
              "      <th>mean_fit_time</th>\n",
              "      <th>std_fit_time</th>\n",
              "      <th>mean_score_time</th>\n",
              "      <th>std_score_time</th>\n",
              "      <th>param_base_estimator</th>\n",
              "      <th>params</th>\n",
              "      <th>split0_test_score</th>\n",
              "      <th>split1_test_score</th>\n",
              "      <th>split2_test_score</th>\n",
              "      <th>split3_test_score</th>\n",
              "      <th>split4_test_score</th>\n",
              "      <th>mean_test_score</th>\n",
              "      <th>std_test_score</th>\n",
              "      <th>rank_test_score</th>\n",
              "    </tr>\n",
              "  </thead>\n",
              "  <tbody>\n",
              "    <tr>\n",
              "      <th>2</th>\n",
              "      <td>0.333688</td>\n",
              "      <td>0.005679</td>\n",
              "      <td>0.010252</td>\n",
              "      <td>0.001380</td>\n",
              "      <td>DecisionTreeClassifier(max_depth=3)</td>\n",
              "      <td>{'base_estimator': DecisionTreeClassifier(max_...</td>\n",
              "      <td>0.978022</td>\n",
              "      <td>0.956044</td>\n",
              "      <td>0.989011</td>\n",
              "      <td>0.978022</td>\n",
              "      <td>0.934066</td>\n",
              "      <td>0.967033</td>\n",
              "      <td>0.019658</td>\n",
              "      <td>1</td>\n",
              "    </tr>\n",
              "    <tr>\n",
              "      <th>3</th>\n",
              "      <td>0.381293</td>\n",
              "      <td>0.003611</td>\n",
              "      <td>0.011718</td>\n",
              "      <td>0.002441</td>\n",
              "      <td>DecisionTreeClassifier(max_depth=4)</td>\n",
              "      <td>{'base_estimator': DecisionTreeClassifier(max_...</td>\n",
              "      <td>0.967033</td>\n",
              "      <td>0.967033</td>\n",
              "      <td>0.989011</td>\n",
              "      <td>0.978022</td>\n",
              "      <td>0.934066</td>\n",
              "      <td>0.967033</td>\n",
              "      <td>0.018388</td>\n",
              "      <td>1</td>\n",
              "    </tr>\n",
              "  </tbody>\n",
              "</table>\n",
              "</div>"
            ],
            "text/plain": [
              "   mean_fit_time  std_fit_time  mean_score_time  std_score_time  \\\n",
              "2       0.333688      0.005679         0.010252        0.001380   \n",
              "3       0.381293      0.003611         0.011718        0.002441   \n",
              "\n",
              "                  param_base_estimator  \\\n",
              "2  DecisionTreeClassifier(max_depth=3)   \n",
              "3  DecisionTreeClassifier(max_depth=4)   \n",
              "\n",
              "                                              params  split0_test_score  \\\n",
              "2  {'base_estimator': DecisionTreeClassifier(max_...           0.978022   \n",
              "3  {'base_estimator': DecisionTreeClassifier(max_...           0.967033   \n",
              "\n",
              "   split1_test_score  split2_test_score  split3_test_score  split4_test_score  \\\n",
              "2           0.956044           0.989011           0.978022           0.934066   \n",
              "3           0.967033           0.989011           0.978022           0.934066   \n",
              "\n",
              "   mean_test_score  std_test_score  rank_test_score  \n",
              "2         0.967033        0.019658                1  \n",
              "3         0.967033        0.018388                1  "
            ]
          },
          "execution_count": 55,
          "metadata": {},
          "output_type": "execute_result"
        }
      ],
      "source": [
        "df = pd.DataFrame(clf.cv_results_)\n",
        "df[df.rank_test_score == 1]"
      ]
    },
    {
      "cell_type": "markdown",
      "metadata": {
        "id": "7sjWmOEEGoyr"
      },
      "source": [
        "I am choosing the max_depth  as 3"
      ]
    },
    {
      "cell_type": "code",
      "execution_count": null,
      "metadata": {
        "id": "WmERQ-lbGoyr",
        "outputId": "4944be12-84f6-44a2-895c-fe662d91f608"
      },
      "outputs": [
        {
          "name": "stdout",
          "output_type": "stream",
          "text": [
            "              precision    recall  f1-score   support\n",
            "\n",
            "           B       0.97      0.99      0.98        71\n",
            "           M       0.98      0.95      0.96        43\n",
            "\n",
            "    accuracy                           0.97       114\n",
            "   macro avg       0.97      0.97      0.97       114\n",
            "weighted avg       0.97      0.97      0.97       114\n",
            "\n",
            "accuracy is: 97.36842105263158 %\n"
          ]
        }
      ],
      "source": [
        "adaboost = AdaBoostClassifier(base_estimator=DecisionTreeClassifier(max_depth=3),n_estimators=100,random_state=42)\n",
        "adaboost.fit(X_train,Y_train)\n",
        "Y_predict = adaboost.predict(X_test)\n",
        "\n",
        "#printing the classification report\n",
        "print(classification_report(Y_test,Y_predict))\n",
        "\n",
        "#printing accuracy:\n",
        "print(\"accuracy is:\",adaboost.score(X_test,Y_test)*100,'%')"
      ]
    },
    {
      "cell_type": "code",
      "execution_count": null,
      "metadata": {
        "id": "FwGbwyAcGoyr"
      },
      "outputs": [],
      "source": [
        "# Y_train_updated = np.where(Y_train == 'B' , 0, 1)\n",
        "# #XGBoost:\n",
        "# xgb = xgboost.XGBClassifier(colsample_bytree = 0.3, learning_rate = 0.1,max_depth = 2, alpha = 10, n_estimators = 100)\n",
        "# xgb.fit(X_train,Y_train_updated)\n",
        "\n",
        "# Y_predict_updated = xgb.predict(X_test)\n",
        "# Y_test_updated  = np.where(Y_test == 'B' , 0,1)\n",
        "\n",
        "# #printing accuracy:\n",
        "# print(\"accuracy is:\",xgb.score(X_test,Y_test_updated)*100,'%')"
      ]
    },
    {
      "cell_type": "markdown",
      "metadata": {
        "id": "4fM3Am_QGoyr"
      },
      "source": [
        "I am choosing adaboost for two reasons:\n",
        "1. in this particular case it is giving better accuracy\n",
        "2. xgboost needs a lot of hyperparameter tuning. Infact if we tune the hyperparameter, even in this case it may give better accuray than adaboost.\n",
        "but that is also a drawback in a sense that it is very complicated. "
      ]
    },
    {
      "cell_type": "markdown",
      "metadata": {
        "id": "hsEMVq_wyqJO"
      },
      "source": [
        "### Bagging\n",
        "\n",
        "Implement a bagging classifier on the RF you created above\n",
        "\n",
        "\n",
        "> from sklearn.ensemble import BaggingClassifier\n",
        "\n",
        "You will have to pass the DT into the Bagging Classifier\n",
        "\n",
        "Once you have the y_pred for Bagging and RF, accurately compute the accuracy by computing the numpy sum where pred(bagging) == pred(RF) and divide by len(pred(bagging))\n",
        "\n",
        "Please provide rationale behind why this is done.\n",
        "\n"
      ]
    },
    {
      "cell_type": "code",
      "execution_count": null,
      "metadata": {
        "id": "lHKPr6qMGoys",
        "outputId": "419a3f26-64fb-45cf-9650-5342307f40c1"
      },
      "outputs": [
        {
          "data": {
            "text/html": [
              "<style>#sk-container-id-6 {color: black;background-color: white;}#sk-container-id-6 pre{padding: 0;}#sk-container-id-6 div.sk-toggleable {background-color: white;}#sk-container-id-6 label.sk-toggleable__label {cursor: pointer;display: block;width: 100%;margin-bottom: 0;padding: 0.3em;box-sizing: border-box;text-align: center;}#sk-container-id-6 label.sk-toggleable__label-arrow:before {content: \"▸\";float: left;margin-right: 0.25em;color: #696969;}#sk-container-id-6 label.sk-toggleable__label-arrow:hover:before {color: black;}#sk-container-id-6 div.sk-estimator:hover label.sk-toggleable__label-arrow:before {color: black;}#sk-container-id-6 div.sk-toggleable__content {max-height: 0;max-width: 0;overflow: hidden;text-align: left;background-color: #f0f8ff;}#sk-container-id-6 div.sk-toggleable__content pre {margin: 0.2em;color: black;border-radius: 0.25em;background-color: #f0f8ff;}#sk-container-id-6 input.sk-toggleable__control:checked~div.sk-toggleable__content {max-height: 200px;max-width: 100%;overflow: auto;}#sk-container-id-6 input.sk-toggleable__control:checked~label.sk-toggleable__label-arrow:before {content: \"▾\";}#sk-container-id-6 div.sk-estimator input.sk-toggleable__control:checked~label.sk-toggleable__label {background-color: #d4ebff;}#sk-container-id-6 div.sk-label input.sk-toggleable__control:checked~label.sk-toggleable__label {background-color: #d4ebff;}#sk-container-id-6 input.sk-hidden--visually {border: 0;clip: rect(1px 1px 1px 1px);clip: rect(1px, 1px, 1px, 1px);height: 1px;margin: -1px;overflow: hidden;padding: 0;position: absolute;width: 1px;}#sk-container-id-6 div.sk-estimator {font-family: monospace;background-color: #f0f8ff;border: 1px dotted black;border-radius: 0.25em;box-sizing: border-box;margin-bottom: 0.5em;}#sk-container-id-6 div.sk-estimator:hover {background-color: #d4ebff;}#sk-container-id-6 div.sk-parallel-item::after {content: \"\";width: 100%;border-bottom: 1px solid gray;flex-grow: 1;}#sk-container-id-6 div.sk-label:hover label.sk-toggleable__label {background-color: #d4ebff;}#sk-container-id-6 div.sk-serial::before {content: \"\";position: absolute;border-left: 1px solid gray;box-sizing: border-box;top: 0;bottom: 0;left: 50%;z-index: 0;}#sk-container-id-6 div.sk-serial {display: flex;flex-direction: column;align-items: center;background-color: white;padding-right: 0.2em;padding-left: 0.2em;position: relative;}#sk-container-id-6 div.sk-item {position: relative;z-index: 1;}#sk-container-id-6 div.sk-parallel {display: flex;align-items: stretch;justify-content: center;background-color: white;position: relative;}#sk-container-id-6 div.sk-item::before, #sk-container-id-6 div.sk-parallel-item::before {content: \"\";position: absolute;border-left: 1px solid gray;box-sizing: border-box;top: 0;bottom: 0;left: 50%;z-index: -1;}#sk-container-id-6 div.sk-parallel-item {display: flex;flex-direction: column;z-index: 1;position: relative;background-color: white;}#sk-container-id-6 div.sk-parallel-item:first-child::after {align-self: flex-end;width: 50%;}#sk-container-id-6 div.sk-parallel-item:last-child::after {align-self: flex-start;width: 50%;}#sk-container-id-6 div.sk-parallel-item:only-child::after {width: 0;}#sk-container-id-6 div.sk-dashed-wrapped {border: 1px dashed gray;margin: 0 0.4em 0.5em 0.4em;box-sizing: border-box;padding-bottom: 0.4em;background-color: white;}#sk-container-id-6 div.sk-label label {font-family: monospace;font-weight: bold;display: inline-block;line-height: 1.2em;}#sk-container-id-6 div.sk-label-container {text-align: center;}#sk-container-id-6 div.sk-container {/* jupyter's `normalize.less` sets `[hidden] { display: none; }` but bootstrap.min.css set `[hidden] { display: none !important; }` so we also need the `!important` here to be able to override the default hidden behavior on the sphinx rendered scikit-learn.org. See: https://github.com/scikit-learn/scikit-learn/issues/21755 */display: inline-block !important;position: relative;}#sk-container-id-6 div.sk-text-repr-fallback {display: none;}</style><div id=\"sk-container-id-6\" class=\"sk-top-container\"><div class=\"sk-text-repr-fallback\"><pre>GridSearchCV(cv=5, estimator=BaggingClassifier(),\n",
              "             param_grid={&#x27;base_estimator&#x27;: [DecisionTreeClassifier(max_depth=1),\n",
              "                                            DecisionTreeClassifier(max_depth=2),\n",
              "                                            DecisionTreeClassifier(max_depth=3),\n",
              "                                            DecisionTreeClassifier(max_depth=4),\n",
              "                                            DecisionTreeClassifier(max_depth=5),\n",
              "                                            DecisionTreeClassifier(max_depth=6),\n",
              "                                            DecisionTreeClassifier(max_depth=7),\n",
              "                                            DecisionTreeClassifier(max_depth=8),\n",
              "                                            DecisionTreeClassifier(max_depth=9)],\n",
              "                         &#x27;n_estimators&#x27;: [10, 20, 50, 100, 200]})</pre><b>In a Jupyter environment, please rerun this cell to show the HTML representation or trust the notebook. <br />On GitHub, the HTML representation is unable to render, please try loading this page with nbviewer.org.</b></div><div class=\"sk-container\" hidden><div class=\"sk-item sk-dashed-wrapped\"><div class=\"sk-label-container\"><div class=\"sk-label sk-toggleable\"><input class=\"sk-toggleable__control sk-hidden--visually\" id=\"sk-estimator-id-19\" type=\"checkbox\" ><label for=\"sk-estimator-id-19\" class=\"sk-toggleable__label sk-toggleable__label-arrow\">GridSearchCV</label><div class=\"sk-toggleable__content\"><pre>GridSearchCV(cv=5, estimator=BaggingClassifier(),\n",
              "             param_grid={&#x27;base_estimator&#x27;: [DecisionTreeClassifier(max_depth=1),\n",
              "                                            DecisionTreeClassifier(max_depth=2),\n",
              "                                            DecisionTreeClassifier(max_depth=3),\n",
              "                                            DecisionTreeClassifier(max_depth=4),\n",
              "                                            DecisionTreeClassifier(max_depth=5),\n",
              "                                            DecisionTreeClassifier(max_depth=6),\n",
              "                                            DecisionTreeClassifier(max_depth=7),\n",
              "                                            DecisionTreeClassifier(max_depth=8),\n",
              "                                            DecisionTreeClassifier(max_depth=9)],\n",
              "                         &#x27;n_estimators&#x27;: [10, 20, 50, 100, 200]})</pre></div></div></div><div class=\"sk-parallel\"><div class=\"sk-parallel-item\"><div class=\"sk-item\"><div class=\"sk-label-container\"><div class=\"sk-label sk-toggleable\"><input class=\"sk-toggleable__control sk-hidden--visually\" id=\"sk-estimator-id-20\" type=\"checkbox\" ><label for=\"sk-estimator-id-20\" class=\"sk-toggleable__label sk-toggleable__label-arrow\">estimator: BaggingClassifier</label><div class=\"sk-toggleable__content\"><pre>BaggingClassifier()</pre></div></div></div><div class=\"sk-serial\"><div class=\"sk-item\"><div class=\"sk-estimator sk-toggleable\"><input class=\"sk-toggleable__control sk-hidden--visually\" id=\"sk-estimator-id-21\" type=\"checkbox\" ><label for=\"sk-estimator-id-21\" class=\"sk-toggleable__label sk-toggleable__label-arrow\">BaggingClassifier</label><div class=\"sk-toggleable__content\"><pre>BaggingClassifier()</pre></div></div></div></div></div></div></div></div></div></div>"
            ],
            "text/plain": [
              "GridSearchCV(cv=5, estimator=BaggingClassifier(),\n",
              "             param_grid={'base_estimator': [DecisionTreeClassifier(max_depth=1),\n",
              "                                            DecisionTreeClassifier(max_depth=2),\n",
              "                                            DecisionTreeClassifier(max_depth=3),\n",
              "                                            DecisionTreeClassifier(max_depth=4),\n",
              "                                            DecisionTreeClassifier(max_depth=5),\n",
              "                                            DecisionTreeClassifier(max_depth=6),\n",
              "                                            DecisionTreeClassifier(max_depth=7),\n",
              "                                            DecisionTreeClassifier(max_depth=8),\n",
              "                                            DecisionTreeClassifier(max_depth=9)],\n",
              "                         'n_estimators': [10, 20, 50, 100, 200]})"
            ]
          },
          "execution_count": 58,
          "metadata": {},
          "output_type": "execute_result"
        }
      ],
      "source": [
        "param = {'base_estimator':[DecisionTreeClassifier(max_depth=i) for i in range(1,10)], 'n_estimators': [10,20,50,100,200]}\n",
        "clf = GridSearchCV(BaggingClassifier(),param,cv =5 ,return_train_score=False)\n",
        "clf.fit(X_train,Y_train)"
      ]
    },
    {
      "cell_type": "code",
      "execution_count": null,
      "metadata": {
        "id": "_KFr_fYtGoys",
        "outputId": "10d275b7-a7af-45f6-b5d5-19a11f546176"
      },
      "outputs": [
        {
          "data": {
            "text/html": [
              "<div>\n",
              "<style scoped>\n",
              "    .dataframe tbody tr th:only-of-type {\n",
              "        vertical-align: middle;\n",
              "    }\n",
              "\n",
              "    .dataframe tbody tr th {\n",
              "        vertical-align: top;\n",
              "    }\n",
              "\n",
              "    .dataframe thead th {\n",
              "        text-align: right;\n",
              "    }\n",
              "</style>\n",
              "<table border=\"1\" class=\"dataframe\">\n",
              "  <thead>\n",
              "    <tr style=\"text-align: right;\">\n",
              "      <th></th>\n",
              "      <th>mean_fit_time</th>\n",
              "      <th>std_fit_time</th>\n",
              "      <th>mean_score_time</th>\n",
              "      <th>std_score_time</th>\n",
              "      <th>param_base_estimator</th>\n",
              "      <th>param_n_estimators</th>\n",
              "      <th>params</th>\n",
              "      <th>split0_test_score</th>\n",
              "      <th>split1_test_score</th>\n",
              "      <th>split2_test_score</th>\n",
              "      <th>split3_test_score</th>\n",
              "      <th>split4_test_score</th>\n",
              "      <th>mean_test_score</th>\n",
              "      <th>std_test_score</th>\n",
              "      <th>rank_test_score</th>\n",
              "    </tr>\n",
              "  </thead>\n",
              "  <tbody>\n",
              "    <tr>\n",
              "      <th>31</th>\n",
              "      <td>0.056509</td>\n",
              "      <td>0.004432</td>\n",
              "      <td>0.003387</td>\n",
              "      <td>0.001181</td>\n",
              "      <td>DecisionTreeClassifier(max_depth=7)</td>\n",
              "      <td>20</td>\n",
              "      <td>{'base_estimator': DecisionTreeClassifier(max_...</td>\n",
              "      <td>0.967033</td>\n",
              "      <td>0.934066</td>\n",
              "      <td>0.967033</td>\n",
              "      <td>0.967033</td>\n",
              "      <td>0.945055</td>\n",
              "      <td>0.956044</td>\n",
              "      <td>0.0139</td>\n",
              "      <td>1</td>\n",
              "    </tr>\n",
              "    <tr>\n",
              "      <th>35</th>\n",
              "      <td>0.032272</td>\n",
              "      <td>0.001752</td>\n",
              "      <td>0.002009</td>\n",
              "      <td>0.000019</td>\n",
              "      <td>DecisionTreeClassifier(max_depth=8)</td>\n",
              "      <td>10</td>\n",
              "      <td>{'base_estimator': DecisionTreeClassifier(max_...</td>\n",
              "      <td>0.967033</td>\n",
              "      <td>0.967033</td>\n",
              "      <td>0.967033</td>\n",
              "      <td>0.945055</td>\n",
              "      <td>0.934066</td>\n",
              "      <td>0.956044</td>\n",
              "      <td>0.0139</td>\n",
              "      <td>1</td>\n",
              "    </tr>\n",
              "  </tbody>\n",
              "</table>\n",
              "</div>"
            ],
            "text/plain": [
              "    mean_fit_time  std_fit_time  mean_score_time  std_score_time  \\\n",
              "31       0.056509      0.004432         0.003387        0.001181   \n",
              "35       0.032272      0.001752         0.002009        0.000019   \n",
              "\n",
              "                   param_base_estimator param_n_estimators  \\\n",
              "31  DecisionTreeClassifier(max_depth=7)                 20   \n",
              "35  DecisionTreeClassifier(max_depth=8)                 10   \n",
              "\n",
              "                                               params  split0_test_score  \\\n",
              "31  {'base_estimator': DecisionTreeClassifier(max_...           0.967033   \n",
              "35  {'base_estimator': DecisionTreeClassifier(max_...           0.967033   \n",
              "\n",
              "    split1_test_score  split2_test_score  split3_test_score  \\\n",
              "31           0.934066           0.967033           0.967033   \n",
              "35           0.967033           0.967033           0.945055   \n",
              "\n",
              "    split4_test_score  mean_test_score  std_test_score  rank_test_score  \n",
              "31           0.945055         0.956044          0.0139                1  \n",
              "35           0.934066         0.956044          0.0139                1  "
            ]
          },
          "execution_count": 59,
          "metadata": {},
          "output_type": "execute_result"
        }
      ],
      "source": [
        "df = pd.DataFrame(clf.cv_results_)\n",
        "df[df.rank_test_score == 1]"
      ]
    },
    {
      "cell_type": "code",
      "execution_count": null,
      "metadata": {
        "id": "vyfBLI4yGoys"
      },
      "outputs": [],
      "source": [
        "bagging = BaggingClassifier(base_estimator=DecisionTreeClassifier(max_depth=8),n_estimators=200)\n",
        "bagging.fit(X_train,Y_train)\n",
        "Y_predict_bag = bagging.predict(X_test)"
      ]
    },
    {
      "cell_type": "code",
      "execution_count": null,
      "metadata": {
        "id": "16xi4m7xGoys",
        "outputId": "df76fed4-0703-4239-8745-28e85fdaa934"
      },
      "outputs": [
        {
          "data": {
            "text/plain": [
              "0.9912280701754386"
            ]
          },
          "execution_count": 61,
          "metadata": {},
          "output_type": "execute_result"
        }
      ],
      "source": [
        "(Y_predict_rand == Y_predict_bag).sum()/len(Y_predict_bag)"
      ]
    },
    {
      "cell_type": "code",
      "execution_count": null,
      "metadata": {
        "id": "J5DlnPVSGoys",
        "outputId": "0cf19620-ecb6-4f93-f121-e4ef7d3676dd"
      },
      "outputs": [
        {
          "name": "stdout",
          "output_type": "stream",
          "text": [
            "           Model   accuracy\n",
            "0  Decision Tree  93.859649\n",
            "1        Bagging  95.614035\n",
            "2  Random Forest  96.491228\n"
          ]
        }
      ],
      "source": [
        "df = pd.DataFrame()\n",
        "df['Model'] = ['Decision Tree', 'Bagging', 'Random Forest']\n",
        "df['accuracy'] = [Dtree.score(X_test,Y_test)*100 , bagging.score(X_test,Y_test)*100,rmf.score(X_test,Y_test)*100]\n",
        "print(df)"
      ]
    },
    {
      "cell_type": "markdown",
      "metadata": {
        "id": "Xpabp7VmGoys"
      },
      "source": [
        "The predictions from bagging and random forest are almost the same. Both bagging and random forest are used to increase the generality of the model and reduce the overfitting that decision tree tend to do. Bagging is a more general ensemble method than random forest but random forest has more tunable parameters and much more specific. Hence random forest may be more powerful and flexible in certain situations like in this case where its accuracy is more than that of baggig (after hyperparameter tuning)"
      ]
    },
    {
      "cell_type": "markdown",
      "metadata": {
        "id": "OJj8c79e0JUr"
      },
      "source": [
        "Bonus : While you are looking at ensemble models, explore VotingClassifier"
      ]
    },
    {
      "cell_type": "markdown",
      "metadata": {
        "id": "Fe_Vos8JGoys"
      },
      "source": [
        "In voting classifier , we will have different models and the training is done (slearn.ensemble votingclassfier)\n",
        "\n",
        "The prediction is based on majority voting/ the method you specify"
      ]
    },
    {
      "cell_type": "markdown",
      "source": [
        "![Screenshot 2022-12-24 223911.jpg](data:image/jpeg;base64,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)"
      ],
      "metadata": {
        "id": "WWkcTj3XHAV9"
      }
    }
  ],
  "metadata": {
    "colab": {
      "provenance": [],
      "include_colab_link": true
    },
    "kernelspec": {
      "display_name": "Python 3",
      "language": "python",
      "name": "python3"
    },
    "language_info": {
      "codemirror_mode": {
        "name": "ipython",
        "version": 3
      },
      "file_extension": ".py",
      "mimetype": "text/x-python",
      "name": "python",
      "nbconvert_exporter": "python",
      "pygments_lexer": "ipython3",
      "version": "3.10.9"
    },
    "vscode": {
      "interpreter": {
        "hash": "fa676f95b428963fc6a22d0f7ab79d1ad8fae9296cc6459b33242ceffa432c07"
      }
    }
  },
  "nbformat": 4,
  "nbformat_minor": 0
}