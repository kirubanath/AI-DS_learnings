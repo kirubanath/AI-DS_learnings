{
  "nbformat": 4,
  "nbformat_minor": 0,
  "metadata": {
    "colab": {
      "provenance": [],
      "include_colab_link": true
    },
    "kernelspec": {
      "name": "python3",
      "display_name": "Python 3"
    },
    "language_info": {
      "name": "python"
    },
    "gpuClass": "premium"
  },
  "cells": [
    {
      "cell_type": "markdown",
      "metadata": {
        "id": "view-in-github",
        "colab_type": "text"
      },
      "source": [
        "<a href=\"https://colab.research.google.com/github/kirubanath/AI-DS_learnings/blob/main/NLP.ipynb\" target=\"_parent\"><img src=\"https://colab.research.google.com/assets/colab-badge.svg\" alt=\"Open In Colab\"/></a>"
      ]
    },
    {
      "cell_type": "markdown",
      "source": [
        "# Machine Learning Lab 2\n",
        "\n",
        "## Assignment 3 (Deadline : 05/02/2023 11:59PM)\n",
        "\n",
        "Total Points : 25\n",
        "\n",
        "Your answers must be entered in LMS by midnight of the day it is due. \n",
        "\n",
        "If the question requires a textual response, you can create a PDF and upload that. \n",
        "\n",
        "The PDF might be generated from MS-WORD, LATEX, the image of a hand- written response, or using any other mechanism. \n",
        "\n",
        "Code must be uploaded and may require demonstration to the TA. \n",
        "\n",
        "Numbers in the parentheses indicate points allocated to the question. \n",
        "\n",
        "**Naming Convention**: FirstName_LastName_Lab3_TLP23.ipynb"
      ],
      "metadata": {
        "id": "8gOPVrh1gIxx"
      }
    },
    {
      "cell_type": "markdown",
      "source": [
        "**Assignment**: 3-class Sentiment Analysis with LSTM on Twitter Data\n",
        " \n",
        "\n",
        "**Objective**:\n",
        "The objective of this assignment is to train a LSTM neural network to perform 3-class sentiment analysis on Twitter data.\n",
        " \n",
        "\n",
        "**Dataset**:\n",
        "The dataset used in this assignment is the Sentiment140 dataset, which can be downloaded from http://help.sentiment140.com/for-students. The dataset consists of 1.6 million tweets, labeled as positive (4), neutral (2), or negative (0)"
      ],
      "metadata": {
        "id": "E7C5soefgYNt"
      }
    },
    {
      "cell_type": "markdown",
      "source": [
        "\n",
        "*   Collect a sample of at least 100,000 tweets from the dataset **(1 points)**\n",
        "\n",
        "\n",
        "*   Preprocess the text data by removing punctuation, lowercasing, removing stop words, and tokenizing the words **(3 points)**\n",
        "\n",
        "*   Split the data into training and testing sets, and pad the sequences to the same length **(2 points)**\n",
        "\n",
        "*   Build a LSTM model to classify the tweets as positive, neutral, or negative. The model should have an Embedding layer, followed LSTM layers of your choosing, and a dense layer for output **(7 points)**\n",
        "\n",
        "*   Train the model on the training data and evaluate its performance on the testing data **(3 points)**\n",
        "\n",
        "\n",
        "*   Fine-tune the model by experimenting with different architectures, optimizers, activation functions, and hyperparameters. Feel free to experiment with GRUs **(4 points)**\n",
        "\n",
        "\n",
        "*   Report the accuracy, precision, recall, and F1 score of the model on the testing data. Inclue graphs and necessary data. Include this in a markdown cell within the notebook. Compare the basic LSTM model against SOTA and other architectures which you can directly import **(3 points)**\n",
        "\n",
        "\n",
        "*   Use the trained model to predict the sentiment of 25 new tweets with positive (2), neutral (1), or negative (0) **(2 points)**\n",
        "\n"
      ],
      "metadata": {
        "id": "lap-6Niagm5n"
      }
    },
    {
      "cell_type": "markdown",
      "source": [
        "---\n",
        "**Importing necessay libraries**"
      ],
      "metadata": {
        "id": "dIgjRnF-IQPB"
      }
    },
    {
      "cell_type": "code",
      "source": [
        "!pip install gdown --q"
      ],
      "metadata": {
        "id": "ye7p2vd0Ipei"
      },
      "execution_count": 1,
      "outputs": []
    },
    {
      "cell_type": "code",
      "source": [
        "import warnings\n",
        "warnings.filterwarnings('ignore')"
      ],
      "metadata": {
        "id": "dSHLjeEAIwnT"
      },
      "execution_count": 2,
      "outputs": []
    },
    {
      "cell_type": "code",
      "source": [
        "import pandas as pd\n",
        "import numpy as np\n",
        "import string\n",
        "import matplotlib.pyplot as plt\n",
        "import seaborn as sns\n",
        "import re\n",
        "import multiprocessing\n",
        "import gdown\n",
        "import nltk\n",
        "\n",
        "import tensorflow as tf\n",
        "from keras.preprocessing.text import Tokenizer\n",
        "from tensorflow.keras.preprocessing.sequence import pad_sequences\n",
        "\n",
        "from sklearn.model_selection import train_test_split\n",
        "\n",
        "from nltk.corpus import stopwords\n",
        "nltk.download('stopwords')"
      ],
      "metadata": {
        "id": "L4xyhj02iHx3",
        "colab": {
          "base_uri": "https://localhost:8080/"
        },
        "outputId": "62e690d1-cd31-402b-cfad-7e1ec1ab18c4"
      },
      "execution_count": 3,
      "outputs": [
        {
          "output_type": "stream",
          "name": "stderr",
          "text": [
            "[nltk_data] Downloading package stopwords to /root/nltk_data...\n",
            "[nltk_data]   Unzipping corpora/stopwords.zip.\n"
          ]
        },
        {
          "output_type": "execute_result",
          "data": {
            "text/plain": [
              "True"
            ]
          },
          "metadata": {},
          "execution_count": 3
        }
      ]
    },
    {
      "cell_type": "markdown",
      "source": [
        "**Downloading and cleaning the data**"
      ],
      "metadata": {
        "id": "lzrY8ehAKKDj"
      }
    },
    {
      "cell_type": "code",
      "source": [
        "gdown.download(\"https://drive.google.com/file/d/14t2G74zuQ40y_187ESndhLfczT_kgqSW/view?usp=share_link\", \"train_data.zip\", quiet=False, fuzzy = True)\n",
        "#fuzzy = True; means you can download from a gdrive url\n"
      ],
      "metadata": {
        "colab": {
          "base_uri": "https://localhost:8080/",
          "height": 105
        },
        "id": "2Pw_siWUJ1lX",
        "outputId": "f561354b-15f1-493c-8107-c3d2a91a674f"
      },
      "execution_count": 4,
      "outputs": [
        {
          "output_type": "stream",
          "name": "stderr",
          "text": [
            "Downloading...\n",
            "From: https://drive.google.com/uc?id=14t2G74zuQ40y_187ESndhLfczT_kgqSW\n",
            "To: /content/train_data.zip\n",
            "100%|██████████| 3.38M/3.38M [00:00<00:00, 249MB/s]\n"
          ]
        },
        {
          "output_type": "execute_result",
          "data": {
            "text/plain": [
              "'train_data.zip'"
            ],
            "application/vnd.google.colaboratory.intrinsic+json": {
              "type": "string"
            }
          },
          "metadata": {},
          "execution_count": 4
        }
      ]
    },
    {
      "cell_type": "code",
      "source": [
        "!unzip train_data.zip"
      ],
      "metadata": {
        "colab": {
          "base_uri": "https://localhost:8080/"
        },
        "id": "XbbnZlEDKV8Q",
        "outputId": "fddcb822-367b-4d16-b3f8-1c0ece40cce2"
      },
      "execution_count": 5,
      "outputs": [
        {
          "output_type": "stream",
          "name": "stdout",
          "text": [
            "Archive:  train_data.zip\n",
            "   creating: ML2Lab2_LSTM/\n",
            "  inflating: __MACOSX/._ML2Lab2_LSTM  \n",
            "  inflating: ML2Lab2_LSTM/13.txt     \n",
            "  inflating: __MACOSX/ML2Lab2_LSTM/._13.txt  \n",
            "  inflating: ML2Lab2_LSTM/.DS_Store  \n",
            "  inflating: __MACOSX/ML2Lab2_LSTM/._.DS_Store  \n",
            "  inflating: ML2Lab2_LSTM/12.txt     \n",
            "  inflating: __MACOSX/ML2Lab2_LSTM/._12.txt  \n",
            "  inflating: ML2Lab2_LSTM/10.txt     \n",
            "  inflating: __MACOSX/ML2Lab2_LSTM/._10.txt  \n",
            "  inflating: ML2Lab2_LSTM/11.txt     \n",
            "  inflating: __MACOSX/ML2Lab2_LSTM/._11.txt  \n",
            "  inflating: ML2Lab2_LSTM/9.txt      \n",
            "  inflating: __MACOSX/ML2Lab2_LSTM/._9.txt  \n",
            "  inflating: ML2Lab2_LSTM/8.txt      \n",
            "  inflating: __MACOSX/ML2Lab2_LSTM/._8.txt  \n",
            "  inflating: ML2Lab2_LSTM/5.txt      \n",
            "  inflating: __MACOSX/ML2Lab2_LSTM/._5.txt  \n",
            "  inflating: ML2Lab2_LSTM/4.txt      \n",
            "  inflating: __MACOSX/ML2Lab2_LSTM/._4.txt  \n",
            "  inflating: ML2Lab2_LSTM/6.txt      \n",
            "  inflating: __MACOSX/ML2Lab2_LSTM/._6.txt  \n",
            "  inflating: ML2Lab2_LSTM/7.txt      \n",
            "  inflating: __MACOSX/ML2Lab2_LSTM/._7.txt  \n",
            "  inflating: ML2Lab2_LSTM/3.txt      \n",
            "  inflating: __MACOSX/ML2Lab2_LSTM/._3.txt  \n",
            "  inflating: ML2Lab2_LSTM/2.tsv      \n",
            "  inflating: __MACOSX/ML2Lab2_LSTM/._2.tsv  \n",
            "  inflating: ML2Lab2_LSTM/1.tsv      \n",
            "  inflating: __MACOSX/ML2Lab2_LSTM/._1.tsv  \n"
          ]
        }
      ]
    },
    {
      "cell_type": "code",
      "source": [
        "#for reading .tsv, .txt also we will use pd.read_csv and here sep = tabsapce\n",
        "train_df = pd.DataFrame()\n",
        "\n",
        "for i in range(1,14):\n",
        "  if i < 3:\n",
        "    df = pd.read_csv(f'/content/ML2Lab2_LSTM/{i}.tsv' , sep = '\\t' ,names=['ID','t_id','target','text'])\n",
        "    df.drop(['t_id','ID'], axis = 1, inplace = True)\n",
        "  else:\n",
        "    df = pd.read_csv(f'/content/ML2Lab2_LSTM/{i}.txt' , sep = '\\t' ,names=['ID','target','text', 'O'])\n",
        "    df.drop(['O','ID'], axis = 1, inplace = True)\n",
        "  \n",
        "  train_df = pd.concat([train_df, df], axis = 0)"
      ],
      "metadata": {
        "id": "zpgM__KPK72w"
      },
      "execution_count": 6,
      "outputs": []
    },
    {
      "cell_type": "code",
      "source": [
        "train_df"
      ],
      "metadata": {
        "colab": {
          "base_uri": "https://localhost:8080/",
          "height": 423
        },
        "id": "v5OtzdtjMv2P",
        "outputId": "7e2f8315-0bf4-4a3b-e93d-a44d76423cc5"
      },
      "execution_count": 7,
      "outputs": [
        {
          "output_type": "execute_result",
          "data": {
            "text/plain": [
              "        target                                               text\n",
              "0     negative  I know I missed something here , but what does...\n",
              "1      neutral  What do you think of Beside Ourselves as a tit...\n",
              "2     positive                    :D I intend to be one someday .\n",
              "3     negative  LLLINKKK LLLINKKK IIIMAGEEELLLINKKK The choice...\n",
              "4      neutral                     LLLINKKK Some more mountains .\n",
              "...        ...                                                ...\n",
              "5863  positive  @Racalto_SK ok good to know. Punting at MetLif...\n",
              "5864   neutral  everyone who sat around me at metlife was so a...\n",
              "5865   neutral  what giants or niners fans would wanna go to t...\n",
              "5866  positive  Anybody want a ticket for tomorrow Colombia vs...\n",
              "5867   neutral  Mendez told me he'd drive me to MetLife on Sun...\n",
              "\n",
              "[53368 rows x 2 columns]"
            ],
            "text/html": [
              "\n",
              "  <div id=\"df-4787b0ad-5ecd-45dd-88ee-918c795e8678\">\n",
              "    <div class=\"colab-df-container\">\n",
              "      <div>\n",
              "<style scoped>\n",
              "    .dataframe tbody tr th:only-of-type {\n",
              "        vertical-align: middle;\n",
              "    }\n",
              "\n",
              "    .dataframe tbody tr th {\n",
              "        vertical-align: top;\n",
              "    }\n",
              "\n",
              "    .dataframe thead th {\n",
              "        text-align: right;\n",
              "    }\n",
              "</style>\n",
              "<table border=\"1\" class=\"dataframe\">\n",
              "  <thead>\n",
              "    <tr style=\"text-align: right;\">\n",
              "      <th></th>\n",
              "      <th>target</th>\n",
              "      <th>text</th>\n",
              "    </tr>\n",
              "  </thead>\n",
              "  <tbody>\n",
              "    <tr>\n",
              "      <th>0</th>\n",
              "      <td>negative</td>\n",
              "      <td>I know I missed something here , but what does...</td>\n",
              "    </tr>\n",
              "    <tr>\n",
              "      <th>1</th>\n",
              "      <td>neutral</td>\n",
              "      <td>What do you think of Beside Ourselves as a tit...</td>\n",
              "    </tr>\n",
              "    <tr>\n",
              "      <th>2</th>\n",
              "      <td>positive</td>\n",
              "      <td>:D I intend to be one someday .</td>\n",
              "    </tr>\n",
              "    <tr>\n",
              "      <th>3</th>\n",
              "      <td>negative</td>\n",
              "      <td>LLLINKKK LLLINKKK IIIMAGEEELLLINKKK The choice...</td>\n",
              "    </tr>\n",
              "    <tr>\n",
              "      <th>4</th>\n",
              "      <td>neutral</td>\n",
              "      <td>LLLINKKK Some more mountains .</td>\n",
              "    </tr>\n",
              "    <tr>\n",
              "      <th>...</th>\n",
              "      <td>...</td>\n",
              "      <td>...</td>\n",
              "    </tr>\n",
              "    <tr>\n",
              "      <th>5863</th>\n",
              "      <td>positive</td>\n",
              "      <td>@Racalto_SK ok good to know. Punting at MetLif...</td>\n",
              "    </tr>\n",
              "    <tr>\n",
              "      <th>5864</th>\n",
              "      <td>neutral</td>\n",
              "      <td>everyone who sat around me at metlife was so a...</td>\n",
              "    </tr>\n",
              "    <tr>\n",
              "      <th>5865</th>\n",
              "      <td>neutral</td>\n",
              "      <td>what giants or niners fans would wanna go to t...</td>\n",
              "    </tr>\n",
              "    <tr>\n",
              "      <th>5866</th>\n",
              "      <td>positive</td>\n",
              "      <td>Anybody want a ticket for tomorrow Colombia vs...</td>\n",
              "    </tr>\n",
              "    <tr>\n",
              "      <th>5867</th>\n",
              "      <td>neutral</td>\n",
              "      <td>Mendez told me he'd drive me to MetLife on Sun...</td>\n",
              "    </tr>\n",
              "  </tbody>\n",
              "</table>\n",
              "<p>53368 rows × 2 columns</p>\n",
              "</div>\n",
              "      <button class=\"colab-df-convert\" onclick=\"convertToInteractive('df-4787b0ad-5ecd-45dd-88ee-918c795e8678')\"\n",
              "              title=\"Convert this dataframe to an interactive table.\"\n",
              "              style=\"display:none;\">\n",
              "        \n",
              "  <svg xmlns=\"http://www.w3.org/2000/svg\" height=\"24px\"viewBox=\"0 0 24 24\"\n",
              "       width=\"24px\">\n",
              "    <path d=\"M0 0h24v24H0V0z\" fill=\"none\"/>\n",
              "    <path d=\"M18.56 5.44l.94 2.06.94-2.06 2.06-.94-2.06-.94-.94-2.06-.94 2.06-2.06.94zm-11 1L8.5 8.5l.94-2.06 2.06-.94-2.06-.94L8.5 2.5l-.94 2.06-2.06.94zm10 10l.94 2.06.94-2.06 2.06-.94-2.06-.94-.94-2.06-.94 2.06-2.06.94z\"/><path d=\"M17.41 7.96l-1.37-1.37c-.4-.4-.92-.59-1.43-.59-.52 0-1.04.2-1.43.59L10.3 9.45l-7.72 7.72c-.78.78-.78 2.05 0 2.83L4 21.41c.39.39.9.59 1.41.59.51 0 1.02-.2 1.41-.59l7.78-7.78 2.81-2.81c.8-.78.8-2.07 0-2.86zM5.41 20L4 18.59l7.72-7.72 1.47 1.35L5.41 20z\"/>\n",
              "  </svg>\n",
              "      </button>\n",
              "      \n",
              "  <style>\n",
              "    .colab-df-container {\n",
              "      display:flex;\n",
              "      flex-wrap:wrap;\n",
              "      gap: 12px;\n",
              "    }\n",
              "\n",
              "    .colab-df-convert {\n",
              "      background-color: #E8F0FE;\n",
              "      border: none;\n",
              "      border-radius: 50%;\n",
              "      cursor: pointer;\n",
              "      display: none;\n",
              "      fill: #1967D2;\n",
              "      height: 32px;\n",
              "      padding: 0 0 0 0;\n",
              "      width: 32px;\n",
              "    }\n",
              "\n",
              "    .colab-df-convert:hover {\n",
              "      background-color: #E2EBFA;\n",
              "      box-shadow: 0px 1px 2px rgba(60, 64, 67, 0.3), 0px 1px 3px 1px rgba(60, 64, 67, 0.15);\n",
              "      fill: #174EA6;\n",
              "    }\n",
              "\n",
              "    [theme=dark] .colab-df-convert {\n",
              "      background-color: #3B4455;\n",
              "      fill: #D2E3FC;\n",
              "    }\n",
              "\n",
              "    [theme=dark] .colab-df-convert:hover {\n",
              "      background-color: #434B5C;\n",
              "      box-shadow: 0px 1px 3px 1px rgba(0, 0, 0, 0.15);\n",
              "      filter: drop-shadow(0px 1px 2px rgba(0, 0, 0, 0.3));\n",
              "      fill: #FFFFFF;\n",
              "    }\n",
              "  </style>\n",
              "\n",
              "      <script>\n",
              "        const buttonEl =\n",
              "          document.querySelector('#df-4787b0ad-5ecd-45dd-88ee-918c795e8678 button.colab-df-convert');\n",
              "        buttonEl.style.display =\n",
              "          google.colab.kernel.accessAllowed ? 'block' : 'none';\n",
              "\n",
              "        async function convertToInteractive(key) {\n",
              "          const element = document.querySelector('#df-4787b0ad-5ecd-45dd-88ee-918c795e8678');\n",
              "          const dataTable =\n",
              "            await google.colab.kernel.invokeFunction('convertToInteractive',\n",
              "                                                     [key], {});\n",
              "          if (!dataTable) return;\n",
              "\n",
              "          const docLinkHtml = 'Like what you see? Visit the ' +\n",
              "            '<a target=\"_blank\" href=https://colab.research.google.com/notebooks/data_table.ipynb>data table notebook</a>'\n",
              "            + ' to learn more about interactive tables.';\n",
              "          element.innerHTML = '';\n",
              "          dataTable['output_type'] = 'display_data';\n",
              "          await google.colab.output.renderOutput(dataTable, element);\n",
              "          const docLink = document.createElement('div');\n",
              "          docLink.innerHTML = docLinkHtml;\n",
              "          element.appendChild(docLink);\n",
              "        }\n",
              "      </script>\n",
              "    </div>\n",
              "  </div>\n",
              "  "
            ]
          },
          "metadata": {},
          "execution_count": 7
        }
      ]
    },
    {
      "cell_type": "markdown",
      "source": [
        "**Downloading the test dataset**"
      ],
      "metadata": {
        "id": "WS4BpLSWNJtt"
      }
    },
    {
      "cell_type": "code",
      "source": [
        "gdown.download(\"https://drive.google.com/file/d/1QG7shZ2Fgbix2Qr9S2obnVCNtShZW6wl/view?usp=sharing\", \"test_data.csv\", quiet=False, fuzzy = True)"
      ],
      "metadata": {
        "colab": {
          "base_uri": "https://localhost:8080/",
          "height": 105
        },
        "id": "V1P04gCaNAxm",
        "outputId": "a0f40c46-89ba-4335-a47d-03b92a2e1dfb"
      },
      "execution_count": 8,
      "outputs": [
        {
          "output_type": "stream",
          "name": "stderr",
          "text": [
            "Downloading...\n",
            "From: https://drive.google.com/uc?id=1QG7shZ2Fgbix2Qr9S2obnVCNtShZW6wl\n",
            "To: /content/test_data.csv\n",
            "100%|██████████| 74.3k/74.3k [00:00<00:00, 46.2MB/s]\n"
          ]
        },
        {
          "output_type": "execute_result",
          "data": {
            "text/plain": [
              "'test_data.csv'"
            ],
            "application/vnd.google.colaboratory.intrinsic+json": {
              "type": "string"
            }
          },
          "metadata": {},
          "execution_count": 8
        }
      ]
    },
    {
      "cell_type": "code",
      "source": [
        "test_df = pd.read_csv('test_data.csv',names = [\"target\", \"ids\", \"date\", \"flag\", \"user\", \"text\"])"
      ],
      "metadata": {
        "id": "V7QunUgaNM5e"
      },
      "execution_count": 9,
      "outputs": []
    },
    {
      "cell_type": "code",
      "source": [
        "test_df.drop(columns = ['ids','date','flag','user'], inplace = True)"
      ],
      "metadata": {
        "id": "i43y8-L2NWqF"
      },
      "execution_count": 10,
      "outputs": []
    },
    {
      "cell_type": "code",
      "source": [
        "test_df.head()"
      ],
      "metadata": {
        "colab": {
          "base_uri": "https://localhost:8080/",
          "height": 206
        },
        "id": "iFe1lwcuNXjk",
        "outputId": "40b13ea5-de36-4532-e902-ba14cc2c6ce8"
      },
      "execution_count": 11,
      "outputs": [
        {
          "output_type": "execute_result",
          "data": {
            "text/plain": [
              "   target                                               text\n",
              "0       4  @stellargirl I loooooooovvvvvveee my Kindle2. ...\n",
              "1       4  Reading my kindle2...  Love it... Lee childs i...\n",
              "2       4  Ok, first assesment of the #kindle2 ...it fuck...\n",
              "3       4  @kenburbary You'll love your Kindle2. I've had...\n",
              "4       4  @mikefish  Fair enough. But i have the Kindle2..."
            ],
            "text/html": [
              "\n",
              "  <div id=\"df-bd29a361-ceea-4441-92a5-c72d3cd5526d\">\n",
              "    <div class=\"colab-df-container\">\n",
              "      <div>\n",
              "<style scoped>\n",
              "    .dataframe tbody tr th:only-of-type {\n",
              "        vertical-align: middle;\n",
              "    }\n",
              "\n",
              "    .dataframe tbody tr th {\n",
              "        vertical-align: top;\n",
              "    }\n",
              "\n",
              "    .dataframe thead th {\n",
              "        text-align: right;\n",
              "    }\n",
              "</style>\n",
              "<table border=\"1\" class=\"dataframe\">\n",
              "  <thead>\n",
              "    <tr style=\"text-align: right;\">\n",
              "      <th></th>\n",
              "      <th>target</th>\n",
              "      <th>text</th>\n",
              "    </tr>\n",
              "  </thead>\n",
              "  <tbody>\n",
              "    <tr>\n",
              "      <th>0</th>\n",
              "      <td>4</td>\n",
              "      <td>@stellargirl I loooooooovvvvvveee my Kindle2. ...</td>\n",
              "    </tr>\n",
              "    <tr>\n",
              "      <th>1</th>\n",
              "      <td>4</td>\n",
              "      <td>Reading my kindle2...  Love it... Lee childs i...</td>\n",
              "    </tr>\n",
              "    <tr>\n",
              "      <th>2</th>\n",
              "      <td>4</td>\n",
              "      <td>Ok, first assesment of the #kindle2 ...it fuck...</td>\n",
              "    </tr>\n",
              "    <tr>\n",
              "      <th>3</th>\n",
              "      <td>4</td>\n",
              "      <td>@kenburbary You'll love your Kindle2. I've had...</td>\n",
              "    </tr>\n",
              "    <tr>\n",
              "      <th>4</th>\n",
              "      <td>4</td>\n",
              "      <td>@mikefish  Fair enough. But i have the Kindle2...</td>\n",
              "    </tr>\n",
              "  </tbody>\n",
              "</table>\n",
              "</div>\n",
              "      <button class=\"colab-df-convert\" onclick=\"convertToInteractive('df-bd29a361-ceea-4441-92a5-c72d3cd5526d')\"\n",
              "              title=\"Convert this dataframe to an interactive table.\"\n",
              "              style=\"display:none;\">\n",
              "        \n",
              "  <svg xmlns=\"http://www.w3.org/2000/svg\" height=\"24px\"viewBox=\"0 0 24 24\"\n",
              "       width=\"24px\">\n",
              "    <path d=\"M0 0h24v24H0V0z\" fill=\"none\"/>\n",
              "    <path d=\"M18.56 5.44l.94 2.06.94-2.06 2.06-.94-2.06-.94-.94-2.06-.94 2.06-2.06.94zm-11 1L8.5 8.5l.94-2.06 2.06-.94-2.06-.94L8.5 2.5l-.94 2.06-2.06.94zm10 10l.94 2.06.94-2.06 2.06-.94-2.06-.94-.94-2.06-.94 2.06-2.06.94z\"/><path d=\"M17.41 7.96l-1.37-1.37c-.4-.4-.92-.59-1.43-.59-.52 0-1.04.2-1.43.59L10.3 9.45l-7.72 7.72c-.78.78-.78 2.05 0 2.83L4 21.41c.39.39.9.59 1.41.59.51 0 1.02-.2 1.41-.59l7.78-7.78 2.81-2.81c.8-.78.8-2.07 0-2.86zM5.41 20L4 18.59l7.72-7.72 1.47 1.35L5.41 20z\"/>\n",
              "  </svg>\n",
              "      </button>\n",
              "      \n",
              "  <style>\n",
              "    .colab-df-container {\n",
              "      display:flex;\n",
              "      flex-wrap:wrap;\n",
              "      gap: 12px;\n",
              "    }\n",
              "\n",
              "    .colab-df-convert {\n",
              "      background-color: #E8F0FE;\n",
              "      border: none;\n",
              "      border-radius: 50%;\n",
              "      cursor: pointer;\n",
              "      display: none;\n",
              "      fill: #1967D2;\n",
              "      height: 32px;\n",
              "      padding: 0 0 0 0;\n",
              "      width: 32px;\n",
              "    }\n",
              "\n",
              "    .colab-df-convert:hover {\n",
              "      background-color: #E2EBFA;\n",
              "      box-shadow: 0px 1px 2px rgba(60, 64, 67, 0.3), 0px 1px 3px 1px rgba(60, 64, 67, 0.15);\n",
              "      fill: #174EA6;\n",
              "    }\n",
              "\n",
              "    [theme=dark] .colab-df-convert {\n",
              "      background-color: #3B4455;\n",
              "      fill: #D2E3FC;\n",
              "    }\n",
              "\n",
              "    [theme=dark] .colab-df-convert:hover {\n",
              "      background-color: #434B5C;\n",
              "      box-shadow: 0px 1px 3px 1px rgba(0, 0, 0, 0.15);\n",
              "      filter: drop-shadow(0px 1px 2px rgba(0, 0, 0, 0.3));\n",
              "      fill: #FFFFFF;\n",
              "    }\n",
              "  </style>\n",
              "\n",
              "      <script>\n",
              "        const buttonEl =\n",
              "          document.querySelector('#df-bd29a361-ceea-4441-92a5-c72d3cd5526d button.colab-df-convert');\n",
              "        buttonEl.style.display =\n",
              "          google.colab.kernel.accessAllowed ? 'block' : 'none';\n",
              "\n",
              "        async function convertToInteractive(key) {\n",
              "          const element = document.querySelector('#df-bd29a361-ceea-4441-92a5-c72d3cd5526d');\n",
              "          const dataTable =\n",
              "            await google.colab.kernel.invokeFunction('convertToInteractive',\n",
              "                                                     [key], {});\n",
              "          if (!dataTable) return;\n",
              "\n",
              "          const docLinkHtml = 'Like what you see? Visit the ' +\n",
              "            '<a target=\"_blank\" href=https://colab.research.google.com/notebooks/data_table.ipynb>data table notebook</a>'\n",
              "            + ' to learn more about interactive tables.';\n",
              "          element.innerHTML = '';\n",
              "          dataTable['output_type'] = 'display_data';\n",
              "          await google.colab.output.renderOutput(dataTable, element);\n",
              "          const docLink = document.createElement('div');\n",
              "          docLink.innerHTML = docLinkHtml;\n",
              "          element.appendChild(docLink);\n",
              "        }\n",
              "      </script>\n",
              "    </div>\n",
              "  </div>\n",
              "  "
            ]
          },
          "metadata": {},
          "execution_count": 11
        }
      ]
    },
    {
      "cell_type": "markdown",
      "source": [
        "**renaming the target in both train and test dataset**"
      ],
      "metadata": {
        "id": "yLR_mg7nOBnI"
      }
    },
    {
      "cell_type": "code",
      "source": [
        "train_df['target'] = train_df.target.map({'negative': 0 , 'neutral' : 1 , 'positive': 2})\n",
        "test_df['target']  = test_df.target.map({2:1,4:2,0:0}) "
      ],
      "metadata": {
        "id": "_DPrxsw4N7Un"
      },
      "execution_count": 12,
      "outputs": []
    },
    {
      "cell_type": "code",
      "source": [
        "train_df.head()"
      ],
      "metadata": {
        "colab": {
          "base_uri": "https://localhost:8080/",
          "height": 206
        },
        "id": "vCu3m5xaOtHQ",
        "outputId": "4a8fd108-21dc-4812-e751-d6790e0c92d2"
      },
      "execution_count": 13,
      "outputs": [
        {
          "output_type": "execute_result",
          "data": {
            "text/plain": [
              "   target                                               text\n",
              "0       0  I know I missed something here , but what does...\n",
              "1       1  What do you think of Beside Ourselves as a tit...\n",
              "2       2                    :D I intend to be one someday .\n",
              "3       0  LLLINKKK LLLINKKK IIIMAGEEELLLINKKK The choice...\n",
              "4       1                     LLLINKKK Some more mountains ."
            ],
            "text/html": [
              "\n",
              "  <div id=\"df-f8847edb-f3d1-419d-8b86-f4c59e6e2073\">\n",
              "    <div class=\"colab-df-container\">\n",
              "      <div>\n",
              "<style scoped>\n",
              "    .dataframe tbody tr th:only-of-type {\n",
              "        vertical-align: middle;\n",
              "    }\n",
              "\n",
              "    .dataframe tbody tr th {\n",
              "        vertical-align: top;\n",
              "    }\n",
              "\n",
              "    .dataframe thead th {\n",
              "        text-align: right;\n",
              "    }\n",
              "</style>\n",
              "<table border=\"1\" class=\"dataframe\">\n",
              "  <thead>\n",
              "    <tr style=\"text-align: right;\">\n",
              "      <th></th>\n",
              "      <th>target</th>\n",
              "      <th>text</th>\n",
              "    </tr>\n",
              "  </thead>\n",
              "  <tbody>\n",
              "    <tr>\n",
              "      <th>0</th>\n",
              "      <td>0</td>\n",
              "      <td>I know I missed something here , but what does...</td>\n",
              "    </tr>\n",
              "    <tr>\n",
              "      <th>1</th>\n",
              "      <td>1</td>\n",
              "      <td>What do you think of Beside Ourselves as a tit...</td>\n",
              "    </tr>\n",
              "    <tr>\n",
              "      <th>2</th>\n",
              "      <td>2</td>\n",
              "      <td>:D I intend to be one someday .</td>\n",
              "    </tr>\n",
              "    <tr>\n",
              "      <th>3</th>\n",
              "      <td>0</td>\n",
              "      <td>LLLINKKK LLLINKKK IIIMAGEEELLLINKKK The choice...</td>\n",
              "    </tr>\n",
              "    <tr>\n",
              "      <th>4</th>\n",
              "      <td>1</td>\n",
              "      <td>LLLINKKK Some more mountains .</td>\n",
              "    </tr>\n",
              "  </tbody>\n",
              "</table>\n",
              "</div>\n",
              "      <button class=\"colab-df-convert\" onclick=\"convertToInteractive('df-f8847edb-f3d1-419d-8b86-f4c59e6e2073')\"\n",
              "              title=\"Convert this dataframe to an interactive table.\"\n",
              "              style=\"display:none;\">\n",
              "        \n",
              "  <svg xmlns=\"http://www.w3.org/2000/svg\" height=\"24px\"viewBox=\"0 0 24 24\"\n",
              "       width=\"24px\">\n",
              "    <path d=\"M0 0h24v24H0V0z\" fill=\"none\"/>\n",
              "    <path d=\"M18.56 5.44l.94 2.06.94-2.06 2.06-.94-2.06-.94-.94-2.06-.94 2.06-2.06.94zm-11 1L8.5 8.5l.94-2.06 2.06-.94-2.06-.94L8.5 2.5l-.94 2.06-2.06.94zm10 10l.94 2.06.94-2.06 2.06-.94-2.06-.94-.94-2.06-.94 2.06-2.06.94z\"/><path d=\"M17.41 7.96l-1.37-1.37c-.4-.4-.92-.59-1.43-.59-.52 0-1.04.2-1.43.59L10.3 9.45l-7.72 7.72c-.78.78-.78 2.05 0 2.83L4 21.41c.39.39.9.59 1.41.59.51 0 1.02-.2 1.41-.59l7.78-7.78 2.81-2.81c.8-.78.8-2.07 0-2.86zM5.41 20L4 18.59l7.72-7.72 1.47 1.35L5.41 20z\"/>\n",
              "  </svg>\n",
              "      </button>\n",
              "      \n",
              "  <style>\n",
              "    .colab-df-container {\n",
              "      display:flex;\n",
              "      flex-wrap:wrap;\n",
              "      gap: 12px;\n",
              "    }\n",
              "\n",
              "    .colab-df-convert {\n",
              "      background-color: #E8F0FE;\n",
              "      border: none;\n",
              "      border-radius: 50%;\n",
              "      cursor: pointer;\n",
              "      display: none;\n",
              "      fill: #1967D2;\n",
              "      height: 32px;\n",
              "      padding: 0 0 0 0;\n",
              "      width: 32px;\n",
              "    }\n",
              "\n",
              "    .colab-df-convert:hover {\n",
              "      background-color: #E2EBFA;\n",
              "      box-shadow: 0px 1px 2px rgba(60, 64, 67, 0.3), 0px 1px 3px 1px rgba(60, 64, 67, 0.15);\n",
              "      fill: #174EA6;\n",
              "    }\n",
              "\n",
              "    [theme=dark] .colab-df-convert {\n",
              "      background-color: #3B4455;\n",
              "      fill: #D2E3FC;\n",
              "    }\n",
              "\n",
              "    [theme=dark] .colab-df-convert:hover {\n",
              "      background-color: #434B5C;\n",
              "      box-shadow: 0px 1px 3px 1px rgba(0, 0, 0, 0.15);\n",
              "      filter: drop-shadow(0px 1px 2px rgba(0, 0, 0, 0.3));\n",
              "      fill: #FFFFFF;\n",
              "    }\n",
              "  </style>\n",
              "\n",
              "      <script>\n",
              "        const buttonEl =\n",
              "          document.querySelector('#df-f8847edb-f3d1-419d-8b86-f4c59e6e2073 button.colab-df-convert');\n",
              "        buttonEl.style.display =\n",
              "          google.colab.kernel.accessAllowed ? 'block' : 'none';\n",
              "\n",
              "        async function convertToInteractive(key) {\n",
              "          const element = document.querySelector('#df-f8847edb-f3d1-419d-8b86-f4c59e6e2073');\n",
              "          const dataTable =\n",
              "            await google.colab.kernel.invokeFunction('convertToInteractive',\n",
              "                                                     [key], {});\n",
              "          if (!dataTable) return;\n",
              "\n",
              "          const docLinkHtml = 'Like what you see? Visit the ' +\n",
              "            '<a target=\"_blank\" href=https://colab.research.google.com/notebooks/data_table.ipynb>data table notebook</a>'\n",
              "            + ' to learn more about interactive tables.';\n",
              "          element.innerHTML = '';\n",
              "          dataTable['output_type'] = 'display_data';\n",
              "          await google.colab.output.renderOutput(dataTable, element);\n",
              "          const docLink = document.createElement('div');\n",
              "          docLink.innerHTML = docLinkHtml;\n",
              "          element.appendChild(docLink);\n",
              "        }\n",
              "      </script>\n",
              "    </div>\n",
              "  </div>\n",
              "  "
            ]
          },
          "metadata": {},
          "execution_count": 13
        }
      ]
    },
    {
      "cell_type": "code",
      "source": [
        "test_df.head()"
      ],
      "metadata": {
        "colab": {
          "base_uri": "https://localhost:8080/",
          "height": 206
        },
        "id": "vtYLvhYRPPXJ",
        "outputId": "819d07fc-3ba7-4bc2-cbd9-f265de2cff09"
      },
      "execution_count": 14,
      "outputs": [
        {
          "output_type": "execute_result",
          "data": {
            "text/plain": [
              "   target                                               text\n",
              "0       2  @stellargirl I loooooooovvvvvveee my Kindle2. ...\n",
              "1       2  Reading my kindle2...  Love it... Lee childs i...\n",
              "2       2  Ok, first assesment of the #kindle2 ...it fuck...\n",
              "3       2  @kenburbary You'll love your Kindle2. I've had...\n",
              "4       2  @mikefish  Fair enough. But i have the Kindle2..."
            ],
            "text/html": [
              "\n",
              "  <div id=\"df-8dac6012-ae42-4c1b-9214-394d88c9bff6\">\n",
              "    <div class=\"colab-df-container\">\n",
              "      <div>\n",
              "<style scoped>\n",
              "    .dataframe tbody tr th:only-of-type {\n",
              "        vertical-align: middle;\n",
              "    }\n",
              "\n",
              "    .dataframe tbody tr th {\n",
              "        vertical-align: top;\n",
              "    }\n",
              "\n",
              "    .dataframe thead th {\n",
              "        text-align: right;\n",
              "    }\n",
              "</style>\n",
              "<table border=\"1\" class=\"dataframe\">\n",
              "  <thead>\n",
              "    <tr style=\"text-align: right;\">\n",
              "      <th></th>\n",
              "      <th>target</th>\n",
              "      <th>text</th>\n",
              "    </tr>\n",
              "  </thead>\n",
              "  <tbody>\n",
              "    <tr>\n",
              "      <th>0</th>\n",
              "      <td>2</td>\n",
              "      <td>@stellargirl I loooooooovvvvvveee my Kindle2. ...</td>\n",
              "    </tr>\n",
              "    <tr>\n",
              "      <th>1</th>\n",
              "      <td>2</td>\n",
              "      <td>Reading my kindle2...  Love it... Lee childs i...</td>\n",
              "    </tr>\n",
              "    <tr>\n",
              "      <th>2</th>\n",
              "      <td>2</td>\n",
              "      <td>Ok, first assesment of the #kindle2 ...it fuck...</td>\n",
              "    </tr>\n",
              "    <tr>\n",
              "      <th>3</th>\n",
              "      <td>2</td>\n",
              "      <td>@kenburbary You'll love your Kindle2. I've had...</td>\n",
              "    </tr>\n",
              "    <tr>\n",
              "      <th>4</th>\n",
              "      <td>2</td>\n",
              "      <td>@mikefish  Fair enough. But i have the Kindle2...</td>\n",
              "    </tr>\n",
              "  </tbody>\n",
              "</table>\n",
              "</div>\n",
              "      <button class=\"colab-df-convert\" onclick=\"convertToInteractive('df-8dac6012-ae42-4c1b-9214-394d88c9bff6')\"\n",
              "              title=\"Convert this dataframe to an interactive table.\"\n",
              "              style=\"display:none;\">\n",
              "        \n",
              "  <svg xmlns=\"http://www.w3.org/2000/svg\" height=\"24px\"viewBox=\"0 0 24 24\"\n",
              "       width=\"24px\">\n",
              "    <path d=\"M0 0h24v24H0V0z\" fill=\"none\"/>\n",
              "    <path d=\"M18.56 5.44l.94 2.06.94-2.06 2.06-.94-2.06-.94-.94-2.06-.94 2.06-2.06.94zm-11 1L8.5 8.5l.94-2.06 2.06-.94-2.06-.94L8.5 2.5l-.94 2.06-2.06.94zm10 10l.94 2.06.94-2.06 2.06-.94-2.06-.94-.94-2.06-.94 2.06-2.06.94z\"/><path d=\"M17.41 7.96l-1.37-1.37c-.4-.4-.92-.59-1.43-.59-.52 0-1.04.2-1.43.59L10.3 9.45l-7.72 7.72c-.78.78-.78 2.05 0 2.83L4 21.41c.39.39.9.59 1.41.59.51 0 1.02-.2 1.41-.59l7.78-7.78 2.81-2.81c.8-.78.8-2.07 0-2.86zM5.41 20L4 18.59l7.72-7.72 1.47 1.35L5.41 20z\"/>\n",
              "  </svg>\n",
              "      </button>\n",
              "      \n",
              "  <style>\n",
              "    .colab-df-container {\n",
              "      display:flex;\n",
              "      flex-wrap:wrap;\n",
              "      gap: 12px;\n",
              "    }\n",
              "\n",
              "    .colab-df-convert {\n",
              "      background-color: #E8F0FE;\n",
              "      border: none;\n",
              "      border-radius: 50%;\n",
              "      cursor: pointer;\n",
              "      display: none;\n",
              "      fill: #1967D2;\n",
              "      height: 32px;\n",
              "      padding: 0 0 0 0;\n",
              "      width: 32px;\n",
              "    }\n",
              "\n",
              "    .colab-df-convert:hover {\n",
              "      background-color: #E2EBFA;\n",
              "      box-shadow: 0px 1px 2px rgba(60, 64, 67, 0.3), 0px 1px 3px 1px rgba(60, 64, 67, 0.15);\n",
              "      fill: #174EA6;\n",
              "    }\n",
              "\n",
              "    [theme=dark] .colab-df-convert {\n",
              "      background-color: #3B4455;\n",
              "      fill: #D2E3FC;\n",
              "    }\n",
              "\n",
              "    [theme=dark] .colab-df-convert:hover {\n",
              "      background-color: #434B5C;\n",
              "      box-shadow: 0px 1px 3px 1px rgba(0, 0, 0, 0.15);\n",
              "      filter: drop-shadow(0px 1px 2px rgba(0, 0, 0, 0.3));\n",
              "      fill: #FFFFFF;\n",
              "    }\n",
              "  </style>\n",
              "\n",
              "      <script>\n",
              "        const buttonEl =\n",
              "          document.querySelector('#df-8dac6012-ae42-4c1b-9214-394d88c9bff6 button.colab-df-convert');\n",
              "        buttonEl.style.display =\n",
              "          google.colab.kernel.accessAllowed ? 'block' : 'none';\n",
              "\n",
              "        async function convertToInteractive(key) {\n",
              "          const element = document.querySelector('#df-8dac6012-ae42-4c1b-9214-394d88c9bff6');\n",
              "          const dataTable =\n",
              "            await google.colab.kernel.invokeFunction('convertToInteractive',\n",
              "                                                     [key], {});\n",
              "          if (!dataTable) return;\n",
              "\n",
              "          const docLinkHtml = 'Like what you see? Visit the ' +\n",
              "            '<a target=\"_blank\" href=https://colab.research.google.com/notebooks/data_table.ipynb>data table notebook</a>'\n",
              "            + ' to learn more about interactive tables.';\n",
              "          element.innerHTML = '';\n",
              "          dataTable['output_type'] = 'display_data';\n",
              "          await google.colab.output.renderOutput(dataTable, element);\n",
              "          const docLink = document.createElement('div');\n",
              "          docLink.innerHTML = docLinkHtml;\n",
              "          element.appendChild(docLink);\n",
              "        }\n",
              "      </script>\n",
              "    </div>\n",
              "  </div>\n",
              "  "
            ]
          },
          "metadata": {},
          "execution_count": 14
        }
      ]
    },
    {
      "cell_type": "markdown",
      "source": [
        "### preprocessing"
      ],
      "metadata": {
        "id": "OY5GVx3aPUj8"
      }
    },
    {
      "cell_type": "code",
      "source": [
        "train_data = train_df.text\n",
        "test_data  = test_df.text\n",
        "\n",
        "train_labels = np.array(train_df.target)\n",
        "test_labels = np.array(test_df.target)"
      ],
      "metadata": {
        "id": "6ukM0yinPQ2g"
      },
      "execution_count": 15,
      "outputs": []
    },
    {
      "cell_type": "markdown",
      "source": [
        "1. Removing stopwords\n",
        "2. Converting to lowercase\n",
        "3. Punctuation removal\n",
        "4. Removing non-alphabets"
      ],
      "metadata": {
        "id": "5PutNnzgPxGE"
      }
    },
    {
      "cell_type": "code",
      "source": [
        "stop = set(stopwords.words('english'))\n",
        "punctuation = list(string.punctuation)\n",
        "stop.update(punctuation)\n",
        "\n",
        "def split_into_words(text):\n",
        "    # split into words by white space\n",
        "    words = text.split()\n",
        "    return words\n",
        "\n",
        "def to_lower_case(words):\n",
        "    # convert to lower case\n",
        "    words = [word.lower() for word in words]\n",
        "    return words\n",
        "\n",
        "def remove_punctuation(words):\n",
        "    # prepare regex for char filtering\n",
        "    re_punc = re.compile('[%s]' % re.escape(string.punctuation))\n",
        "    # remove punctuation from each word\n",
        "    stripped = [re_punc.sub('', w) for w in words]\n",
        "    return stripped\n",
        "\n",
        "def keep_alphabetic(words):\n",
        "    # remove remaining tokens that are not alphabetic\n",
        "    words = [word for word in words if word.isalpha()]\n",
        "    return words\n",
        "\n",
        "def remove_stopwords(words):\n",
        "    # filter out stop words\n",
        "    stop_words = set(stopwords.words('english'))\n",
        "    words = [w for w in words if not w in stop_words]\n",
        "    return words\n",
        "\n",
        "def to_sentence(words):\n",
        "    # join words to a sentence\n",
        "    return ' '.join(words)\n",
        "def tweet(words):\n",
        "    tweet_tokenizer = nltk.tokenize.TweetTokenizer(strip_handles=True,reduce_len=True)\n",
        "    tweet = tweet_tokenizer.tokenize(words)\n",
        "    return tweet\n",
        "        \n",
        "\n",
        "#Removing the noisy text\n",
        "def denoise_text(text):\n",
        "    words = split_into_words(text)\n",
        "    words = to_lower_case(words)\n",
        "    words = remove_punctuation(words)\n",
        "    words = keep_alphabetic(words)\n",
        "    words = remove_stopwords(words)\n",
        "    return to_sentence(words)"
      ],
      "metadata": {
        "id": "TTyf0lAVPpZg"
      },
      "execution_count": 16,
      "outputs": []
    },
    {
      "cell_type": "code",
      "source": [
        "train_data = train_data.apply(denoise_text)\n",
        "test_data = test_data.apply(denoise_text)"
      ],
      "metadata": {
        "id": "diekP3dDP_tO"
      },
      "execution_count": 17,
      "outputs": []
    },
    {
      "cell_type": "markdown",
      "source": [
        "lets check the differnce:"
      ],
      "metadata": {
        "id": "TN3jeb5vQWNT"
      }
    },
    {
      "cell_type": "code",
      "source": [
        "print('Before:')\n",
        "print(train_df.iloc[0,1])\n",
        "print()\n",
        "print('After:')\n",
        "print(train_data.iloc[0])"
      ],
      "metadata": {
        "colab": {
          "base_uri": "https://localhost:8080/"
        },
        "id": "UDjGyyY0QVZL",
        "outputId": "ef57cad0-7078-4ff1-8163-6fff95613a89"
      },
      "execution_count": 18,
      "outputs": [
        {
          "output_type": "stream",
          "name": "stdout",
          "text": [
            "Before:\n",
            "I know I missed something here , but what does `` THud '' mean ?\n",
            "\n",
            "After:\n",
            "know missed something thud mean\n"
          ]
        }
      ]
    },
    {
      "cell_type": "code",
      "source": [
        "X_train = train_data\n",
        "X_test = test_data\n",
        "y_train = train_labels\n",
        "y_test = test_labels"
      ],
      "metadata": {
        "id": "GkHRK-k-QMX2"
      },
      "execution_count": 19,
      "outputs": []
    },
    {
      "cell_type": "markdown",
      "source": [
        "**Tokenizing the words** : number of words = 10k"
      ],
      "metadata": {
        "id": "aUtqMlB2ROw1"
      }
    },
    {
      "cell_type": "code",
      "source": [
        "tokenizer = Tokenizer(num_words=10000, oov_token = '<OOV>')\n",
        "tokenizer.fit_on_texts(X_train)\n",
        "word_index = tokenizer.word_index\n",
        "VOCAB_SIZE = len(word_index)+1"
      ],
      "metadata": {
        "id": "eMhQWjb0RNwv"
      },
      "execution_count": 20,
      "outputs": []
    },
    {
      "cell_type": "code",
      "source": [
        "maxlen = max([len(x) for x in X_train]) \n",
        "print(maxlen)"
      ],
      "metadata": {
        "colab": {
          "base_uri": "https://localhost:8080/"
        },
        "id": "GRDmHzNpRZkO",
        "outputId": "f7fad752-ec83-4841-a5a1-4350c25965f0"
      },
      "execution_count": 21,
      "outputs": [
        {
          "output_type": "stream",
          "name": "stdout",
          "text": [
            "4169\n"
          ]
        }
      ]
    },
    {
      "cell_type": "markdown",
      "source": [
        "let's cap the maxlength to 50"
      ],
      "metadata": {
        "id": "vxsLYSN4Rhmz"
      }
    },
    {
      "cell_type": "code",
      "source": [
        "maxlen = 50"
      ],
      "metadata": {
        "id": "87mxFDZ-Reku"
      },
      "execution_count": 22,
      "outputs": []
    },
    {
      "cell_type": "markdown",
      "source": [
        "**Sequencing and Padding**"
      ],
      "metadata": {
        "id": "gzU6dtqQRmv5"
      }
    },
    {
      "cell_type": "code",
      "source": [
        "train_sequences = tokenizer.texts_to_sequences(X_train)\n",
        "train_padded_sequences = pad_sequences(train_sequences,maxlen=maxlen,padding='post',truncating='post')\n",
        "\n",
        "test_sequences = tokenizer.texts_to_sequences(X_test)\n",
        "test_padded_sequences = pad_sequences(test_sequences,maxlen=maxlen,padding='post',truncating='post')"
      ],
      "metadata": {
        "id": "KCXxF0TNRk1G"
      },
      "execution_count": 23,
      "outputs": []
    },
    {
      "cell_type": "markdown",
      "source": [
        "##Models"
      ],
      "metadata": {
        "id": "X6SMcUjTR2CA"
      }
    },
    {
      "cell_type": "markdown",
      "source": [
        "**handling the class imbalance**: using the class_weights"
      ],
      "metadata": {
        "id": "iI2FE2pDR8Ob"
      }
    },
    {
      "cell_type": "code",
      "source": [
        "from sklearn.utils.class_weight import compute_class_weight\n",
        "class_weight = compute_class_weight('balanced', classes = list(np.unique(y_train)), y = y_train)"
      ],
      "metadata": {
        "id": "ZBYkvluZR5r3"
      },
      "execution_count": 24,
      "outputs": []
    },
    {
      "cell_type": "code",
      "source": [
        "class_weight = dict(enumerate(class_weight))\n",
        "class_weight"
      ],
      "metadata": {
        "colab": {
          "base_uri": "https://localhost:8080/"
        },
        "id": "3CruFEsiSCUw",
        "outputId": "abde259b-3e81-4485-b141-3ec9c37d56ca"
      },
      "execution_count": 25,
      "outputs": [
        {
          "output_type": "execute_result",
          "data": {
            "text/plain": [
              "{0: 2.0911406292856864, 1: 0.7368319319609549, 2: 0.858641439006339}"
            ]
          },
          "metadata": {},
          "execution_count": 25
        }
      ]
    },
    {
      "cell_type": "markdown",
      "source": [
        "**Model1**"
      ],
      "metadata": {
        "id": "lWtqbqSQSMhl"
      }
    },
    {
      "cell_type": "code",
      "source": [
        "embedding_dim = 32\n",
        "model1 = tf.keras.Sequential([\n",
        "        tf.keras.layers.Embedding(VOCAB_SIZE+1, embedding_dim, input_length=maxlen),\n",
        "        tf.keras.layers.LSTM(units=16, return_sequences=True),\n",
        "        tf.keras.layers.LSTM(units=32),\n",
        "        tf.keras.layers.Dense(3, activation='softmax')\n",
        "    ])\n",
        "\n",
        "model1.compile(loss = 'sparse_categorical_crossentropy',\n",
        "              optimizer = tf.keras.optimizers.Adam(learning_rate=0.01),\n",
        "              metrics = ['accuracy'])"
      ],
      "metadata": {
        "id": "DoAQ3aOZSGHH"
      },
      "execution_count": 26,
      "outputs": []
    },
    {
      "cell_type": "code",
      "source": [
        "model1.summary()"
      ],
      "metadata": {
        "colab": {
          "base_uri": "https://localhost:8080/"
        },
        "id": "lmZeKOBESguP",
        "outputId": "726ccd3c-90e7-44a8-9f53-bfa4ae8dc61d"
      },
      "execution_count": 27,
      "outputs": [
        {
          "output_type": "stream",
          "name": "stdout",
          "text": [
            "Model: \"sequential\"\n",
            "_________________________________________________________________\n",
            " Layer (type)                Output Shape              Param #   \n",
            "=================================================================\n",
            " embedding (Embedding)       (None, 50, 32)            2002528   \n",
            "                                                                 \n",
            " lstm (LSTM)                 (None, 50, 16)            3136      \n",
            "                                                                 \n",
            " lstm_1 (LSTM)               (None, 32)                6272      \n",
            "                                                                 \n",
            " dense (Dense)               (None, 3)                 99        \n",
            "                                                                 \n",
            "=================================================================\n",
            "Total params: 2,012,035\n",
            "Trainable params: 2,012,035\n",
            "Non-trainable params: 0\n",
            "_________________________________________________________________\n"
          ]
        }
      ]
    },
    {
      "cell_type": "code",
      "source": [
        "# Training the model\n",
        "history1 = model1.fit(train_padded_sequences, y_train, validation_split=0.2, epochs = 8,\n",
        "                    class_weight = class_weight)"
      ],
      "metadata": {
        "colab": {
          "base_uri": "https://localhost:8080/"
        },
        "id": "Pz6NggQYSze_",
        "outputId": "4a531731-075a-4b97-f739-c1cab076e5d8"
      },
      "execution_count": 28,
      "outputs": [
        {
          "output_type": "stream",
          "name": "stdout",
          "text": [
            "Epoch 1/8\n",
            "1335/1335 [==============================] - 21s 9ms/step - loss: 1.0931 - accuracy: 0.3785 - val_loss: 1.0887 - val_accuracy: 0.3935\n",
            "Epoch 2/8\n",
            "1335/1335 [==============================] - 11s 8ms/step - loss: 1.0930 - accuracy: 0.3984 - val_loss: 1.1083 - val_accuracy: 0.3935\n",
            "Epoch 3/8\n",
            "1335/1335 [==============================] - 11s 9ms/step - loss: 1.0928 - accuracy: 0.4045 - val_loss: 1.1050 - val_accuracy: 0.3935\n",
            "Epoch 4/8\n",
            "1335/1335 [==============================] - 12s 9ms/step - loss: 1.0930 - accuracy: 0.3908 - val_loss: 1.1058 - val_accuracy: 0.1713\n",
            "Epoch 5/8\n",
            "1335/1335 [==============================] - 12s 9ms/step - loss: 1.0929 - accuracy: 0.4129 - val_loss: 1.1052 - val_accuracy: 0.3935\n",
            "Epoch 6/8\n",
            "1335/1335 [==============================] - 11s 9ms/step - loss: 1.0929 - accuracy: 0.4014 - val_loss: 1.1165 - val_accuracy: 0.1713\n",
            "Epoch 7/8\n",
            "1335/1335 [==============================] - 12s 9ms/step - loss: 1.0929 - accuracy: 0.3799 - val_loss: 1.1067 - val_accuracy: 0.3935\n",
            "Epoch 8/8\n",
            "1335/1335 [==============================] - 12s 9ms/step - loss: 1.0929 - accuracy: 0.3912 - val_loss: 1.0945 - val_accuracy: 0.3935\n"
          ]
        }
      ]
    },
    {
      "cell_type": "markdown",
      "source": [
        "**Model2 : Trying with a different architechture**"
      ],
      "metadata": {
        "id": "aYzpYZA7S8nL"
      }
    },
    {
      "cell_type": "code",
      "source": [
        "# Different architecture with batch normalization and dropouts\n",
        "model2 = tf.keras.Sequential([\n",
        "        tf.keras.layers.Embedding(VOCAB_SIZE+1, 21, input_length=maxlen),\n",
        "        tf.keras.layers.Bidirectional(tf.keras.layers.LSTM(21)),\n",
        "        tf.keras.layers.Flatten(),\n",
        "        tf.keras.layers.BatchNormalization(),\n",
        "        tf.keras.layers.Dropout(0.70),\n",
        "        tf.keras.layers.Dense(embedding_dim,activation='relu'),\n",
        "        tf.keras.layers.BatchNormalization(),\n",
        "        tf.keras.layers.Dropout(0.70),\n",
        "        # tf.keras.layers.Dense(8,activation='relu'),\n",
        "        tf.keras.layers.Dense(3,activation='softmax'),\n",
        "    ])\n",
        "\n",
        "model2.compile(loss = 'sparse_categorical_crossentropy',\n",
        "                optimizer = 'adam',\n",
        "                metrics = ['accuracy'])"
      ],
      "metadata": {
        "id": "q2pmfMDRS48X"
      },
      "execution_count": 29,
      "outputs": []
    },
    {
      "cell_type": "code",
      "source": [
        "model2.summary()"
      ],
      "metadata": {
        "colab": {
          "base_uri": "https://localhost:8080/"
        },
        "id": "1eG9OgG8TGbG",
        "outputId": "7f7e106e-7746-4b18-fe47-e684e8b51b04"
      },
      "execution_count": 30,
      "outputs": [
        {
          "output_type": "stream",
          "name": "stdout",
          "text": [
            "Model: \"sequential_1\"\n",
            "_________________________________________________________________\n",
            " Layer (type)                Output Shape              Param #   \n",
            "=================================================================\n",
            " embedding_1 (Embedding)     (None, 50, 21)            1314159   \n",
            "                                                                 \n",
            " bidirectional (Bidirectiona  (None, 42)               7224      \n",
            " l)                                                              \n",
            "                                                                 \n",
            " flatten (Flatten)           (None, 42)                0         \n",
            "                                                                 \n",
            " batch_normalization (BatchN  (None, 42)               168       \n",
            " ormalization)                                                   \n",
            "                                                                 \n",
            " dropout (Dropout)           (None, 42)                0         \n",
            "                                                                 \n",
            " dense_1 (Dense)             (None, 32)                1376      \n",
            "                                                                 \n",
            " batch_normalization_1 (Batc  (None, 32)               128       \n",
            " hNormalization)                                                 \n",
            "                                                                 \n",
            " dropout_1 (Dropout)         (None, 32)                0         \n",
            "                                                                 \n",
            " dense_2 (Dense)             (None, 3)                 99        \n",
            "                                                                 \n",
            "=================================================================\n",
            "Total params: 1,323,154\n",
            "Trainable params: 1,323,006\n",
            "Non-trainable params: 148\n",
            "_________________________________________________________________\n"
          ]
        }
      ]
    },
    {
      "cell_type": "code",
      "source": [
        "history2 = model2.fit(train_padded_sequences, y_train, validation_split=0.2, epochs = 8)"
      ],
      "metadata": {
        "colab": {
          "base_uri": "https://localhost:8080/"
        },
        "id": "WGArQlb-TIjP",
        "outputId": "eb484ca3-658f-4c57-f8cd-49d5a16828e5"
      },
      "execution_count": 31,
      "outputs": [
        {
          "output_type": "stream",
          "name": "stdout",
          "text": [
            "Epoch 1/8\n",
            "1335/1335 [==============================] - 18s 10ms/step - loss: 1.1225 - accuracy: 0.4775 - val_loss: 0.9701 - val_accuracy: 0.5197\n",
            "Epoch 2/8\n",
            "1335/1335 [==============================] - 13s 10ms/step - loss: 0.8670 - accuracy: 0.6162 - val_loss: 1.3533 - val_accuracy: 0.4328\n",
            "Epoch 3/8\n",
            "1335/1335 [==============================] - 13s 10ms/step - loss: 0.8019 - accuracy: 0.6497 - val_loss: 1.2946 - val_accuracy: 0.5230\n",
            "Epoch 4/8\n",
            "1335/1335 [==============================] - 13s 10ms/step - loss: 0.7514 - accuracy: 0.6789 - val_loss: 0.9451 - val_accuracy: 0.5360\n",
            "Epoch 5/8\n",
            "1335/1335 [==============================] - 13s 10ms/step - loss: 0.7155 - accuracy: 0.6993 - val_loss: 0.9030 - val_accuracy: 0.5654\n",
            "Epoch 6/8\n",
            "1335/1335 [==============================] - 13s 10ms/step - loss: 0.6855 - accuracy: 0.7130 - val_loss: 1.3226 - val_accuracy: 0.4446\n",
            "Epoch 7/8\n",
            "1335/1335 [==============================] - 13s 10ms/step - loss: 0.6583 - accuracy: 0.7328 - val_loss: 1.1006 - val_accuracy: 0.4911\n",
            "Epoch 8/8\n",
            "1335/1335 [==============================] - 13s 10ms/step - loss: 0.6306 - accuracy: 0.7455 - val_loss: 1.0101 - val_accuracy: 0.5415\n"
          ]
        }
      ]
    },
    {
      "cell_type": "markdown",
      "source": [
        "**Model3: using GRU**"
      ],
      "metadata": {
        "id": "VAF1kAw3TjQz"
      }
    },
    {
      "cell_type": "code",
      "source": [
        "model3 = tf.keras.Sequential([\n",
        "        tf.keras.layers.Embedding(VOCAB_SIZE+1, 64, input_length=maxlen),\n",
        "        tf.keras.layers.Bidirectional(tf.keras.layers.GRU(32)), #GRU layer\n",
        "        tf.keras.layers.Flatten(),\n",
        "        tf.keras.layers.BatchNormalization(),\n",
        "        tf.keras.layers.Dropout(0.70),\n",
        "        tf.keras.layers.Dense(embedding_dim,activation='relu'),\n",
        "        tf.keras.layers.BatchNormalization(),\n",
        "        tf.keras.layers.Dropout(0.70),\n",
        "        tf.keras.layers.Dense(8,activation='relu'),\n",
        "        tf.keras.layers.Dense(3,activation='softmax'),\n",
        "    ])\n",
        "\n",
        "model3.compile(loss = 'sparse_categorical_crossentropy',\n",
        "                optimizer = 'adam',\n",
        "                metrics = ['accuracy'])"
      ],
      "metadata": {
        "id": "Ph3IbBHvTPhX"
      },
      "execution_count": 32,
      "outputs": []
    },
    {
      "cell_type": "code",
      "source": [
        "model3.summary()"
      ],
      "metadata": {
        "colab": {
          "base_uri": "https://localhost:8080/"
        },
        "id": "kOCgDC-cT3we",
        "outputId": "2afe8cbc-b952-430c-c8d7-24e80ced2d62"
      },
      "execution_count": 33,
      "outputs": [
        {
          "output_type": "stream",
          "name": "stdout",
          "text": [
            "Model: \"sequential_2\"\n",
            "_________________________________________________________________\n",
            " Layer (type)                Output Shape              Param #   \n",
            "=================================================================\n",
            " embedding_2 (Embedding)     (None, 50, 64)            4005056   \n",
            "                                                                 \n",
            " bidirectional_1 (Bidirectio  (None, 64)               18816     \n",
            " nal)                                                            \n",
            "                                                                 \n",
            " flatten_1 (Flatten)         (None, 64)                0         \n",
            "                                                                 \n",
            " batch_normalization_2 (Batc  (None, 64)               256       \n",
            " hNormalization)                                                 \n",
            "                                                                 \n",
            " dropout_2 (Dropout)         (None, 64)                0         \n",
            "                                                                 \n",
            " dense_3 (Dense)             (None, 32)                2080      \n",
            "                                                                 \n",
            " batch_normalization_3 (Batc  (None, 32)               128       \n",
            " hNormalization)                                                 \n",
            "                                                                 \n",
            " dropout_3 (Dropout)         (None, 32)                0         \n",
            "                                                                 \n",
            " dense_4 (Dense)             (None, 8)                 264       \n",
            "                                                                 \n",
            " dense_5 (Dense)             (None, 3)                 27        \n",
            "                                                                 \n",
            "=================================================================\n",
            "Total params: 4,026,627\n",
            "Trainable params: 4,026,435\n",
            "Non-trainable params: 192\n",
            "_________________________________________________________________\n"
          ]
        }
      ]
    },
    {
      "cell_type": "code",
      "source": [
        "history3 = model3.fit(train_padded_sequences, y_train, validation_split=0.2, epochs = 8)"
      ],
      "metadata": {
        "colab": {
          "base_uri": "https://localhost:8080/"
        },
        "id": "W4egNQNTT6Eg",
        "outputId": "82fbb85d-51da-4e54-be02-3d5855b2e489"
      },
      "execution_count": 34,
      "outputs": [
        {
          "output_type": "stream",
          "name": "stdout",
          "text": [
            "Epoch 1/8\n",
            "1335/1335 [==============================] - 17s 10ms/step - loss: 1.0606 - accuracy: 0.4615 - val_loss: 0.9827 - val_accuracy: 0.5106\n",
            "Epoch 2/8\n",
            "1335/1335 [==============================] - 13s 10ms/step - loss: 0.9172 - accuracy: 0.5784 - val_loss: 0.9953 - val_accuracy: 0.5037\n",
            "Epoch 3/8\n",
            "1335/1335 [==============================] - 13s 9ms/step - loss: 0.8210 - accuracy: 0.6355 - val_loss: 1.5473 - val_accuracy: 0.2218\n",
            "Epoch 4/8\n",
            "1335/1335 [==============================] - 13s 10ms/step - loss: 0.7566 - accuracy: 0.6737 - val_loss: 0.9350 - val_accuracy: 0.5505\n",
            "Epoch 5/8\n",
            "1335/1335 [==============================] - 13s 10ms/step - loss: 0.7066 - accuracy: 0.7006 - val_loss: 1.0497 - val_accuracy: 0.4863\n",
            "Epoch 6/8\n",
            "1335/1335 [==============================] - 13s 10ms/step - loss: 0.6606 - accuracy: 0.7282 - val_loss: 0.9972 - val_accuracy: 0.5438\n",
            "Epoch 7/8\n",
            "1335/1335 [==============================] - 13s 10ms/step - loss: 0.6233 - accuracy: 0.7541 - val_loss: 1.0012 - val_accuracy: 0.5490\n",
            "Epoch 8/8\n",
            "1335/1335 [==============================] - 13s 10ms/step - loss: 0.5843 - accuracy: 0.7733 - val_loss: 1.1436 - val_accuracy: 0.5136\n"
          ]
        }
      ]
    },
    {
      "cell_type": "markdown",
      "source": [
        "**Inspecting the results**"
      ],
      "metadata": {
        "id": "JzsFMufbUVPS"
      }
    },
    {
      "cell_type": "markdown",
      "source": [
        "1. Loss plots"
      ],
      "metadata": {
        "id": "ocEajZv1U0iF"
      }
    },
    {
      "cell_type": "code",
      "source": [
        "plt.figure(figsize = (12,5))\n",
        "plt.plot(history1.history['loss'], label='Train Loss')\n",
        "plt.plot(history1.history['val_loss'], label='Validation Loss')\n",
        "plt.plot(history2.history['loss'], label='Train Loss 1')\n",
        "plt.plot(history2.history['val_loss'], label='Validation Loss 1')\n",
        "plt.plot(history3.history['loss'], label='Train Loss 2')\n",
        "plt.plot(history3.history['val_loss'], label='Validation Loss 2')\n",
        "plt.title('Train and Val Loss')\n",
        "plt.xlabel('Epochs')\n",
        "plt.ylabel('Loss')\n",
        "plt.legend()\n",
        "plt.show()"
      ],
      "metadata": {
        "colab": {
          "base_uri": "https://localhost:8080/",
          "height": 350
        },
        "id": "cO-QPz_LUB7g",
        "outputId": "6b397497-70c7-4d55-9fc2-52b39116c281"
      },
      "execution_count": 35,
      "outputs": [
        {
          "output_type": "display_data",
          "data": {
            "text/plain": [
              "<Figure size 864x360 with 1 Axes>"
            ],
            "image/png": "[encoded data removed]"
          },
          "metadata": {
            "needs_background": "light"
          }
        }
      ]
    },
    {
      "cell_type": "markdown",
      "source": [
        "2. Accuracy plots"
      ],
      "metadata": {
        "id": "W1T_oTCqU2Mm"
      }
    },
    {
      "cell_type": "code",
      "source": [
        "plt.figure(figsize = (12,5))\n",
        "plt.plot(history1.history['accuracy'], label='Train Accuracy')\n",
        "plt.plot(history1.history['val_accuracy'], label='Validation Accuracy')\n",
        "plt.plot(history2.history['accuracy'], label='Train Accuracy 1')\n",
        "plt.plot(history2.history['val_accuracy'], label='Validation Accuracy 1')\n",
        "plt.plot(history3.history['accuracy'], label='Train Accuracy 2')\n",
        "plt.plot(history3.history['val_accuracy'], label='Validation Accuracy 2')\n",
        "plt.title('Train and Val Accuracy')\n",
        "plt.xlabel('Epochs')\n",
        "plt.ylabel('Accuracy')\n",
        "plt.legend()\n",
        "plt.show()"
      ],
      "metadata": {
        "colab": {
          "base_uri": "https://localhost:8080/",
          "height": 350
        },
        "id": "P5FSV1g4Uv04",
        "outputId": "7d83fe88-7ee5-4610-beae-b4a464a67e81"
      },
      "execution_count": 36,
      "outputs": [
        {
          "output_type": "display_data",
          "data": {
            "text/plain": [
              "<Figure size 864x360 with 1 Axes>"
            ],
            "image/png": "[encoded data removed]"
          },
          "metadata": {
            "needs_background": "light"
          }
        }
      ]
    },
    {
      "cell_type": "markdown",
      "source": [
        "According to the graphs , model2 is performing the best"
      ],
      "metadata": {
        "id": "6OGyi9A2VL5W"
      }
    },
    {
      "cell_type": "markdown",
      "source": [
        "3. Classification report:"
      ],
      "metadata": {
        "id": "JOzykzAeVXke"
      }
    },
    {
      "cell_type": "code",
      "source": [
        "from sklearn.metrics import classification_report\n",
        "\n",
        "# Make predictions on the test data\n",
        "test_predictions = model2.predict(test_padded_sequences)\n",
        "\n",
        "# Convert the predictions to class labels\n",
        "test_predictions_class = np.argmax(test_predictions, axis=1)\n",
        "\n",
        "# Print the classification report\n",
        "print(classification_report(y_test, test_predictions_class))\n"
      ],
      "metadata": {
        "colab": {
          "base_uri": "https://localhost:8080/"
        },
        "id": "RHtGrGcnVA23",
        "outputId": "37d196b7-3021-424a-fc65-10771d2786a4"
      },
      "execution_count": 37,
      "outputs": [
        {
          "output_type": "stream",
          "name": "stdout",
          "text": [
            "16/16 [==============================] - 1s 3ms/step\n",
            "              precision    recall  f1-score   support\n",
            "\n",
            "           0       0.91      0.36      0.51       177\n",
            "           1       0.44      0.86      0.58       139\n",
            "           2       0.72      0.62      0.66       182\n",
            "\n",
            "    accuracy                           0.59       498\n",
            "   macro avg       0.69      0.61      0.59       498\n",
            "weighted avg       0.71      0.59      0.59       498\n",
            "\n"
          ]
        }
      ]
    },
    {
      "cell_type": "markdown",
      "source": [
        "**selecting and checking against some random tweets:**"
      ],
      "metadata": {
        "id": "dL9lFxS9Wn6O"
      }
    },
    {
      "cell_type": "code",
      "source": [
        "ids = np.random.randint(1,498,10)"
      ],
      "metadata": {
        "id": "r7pyrVh-WwEj"
      },
      "execution_count": 38,
      "outputs": []
    },
    {
      "cell_type": "code",
      "source": [
        "ids"
      ],
      "metadata": {
        "colab": {
          "base_uri": "https://localhost:8080/"
        },
        "id": "SAQv_HkbW_uV",
        "outputId": "4f3f66a5-6176-49bd-f455-29f44b0e70a8"
      },
      "execution_count": 39,
      "outputs": [
        {
          "output_type": "execute_result",
          "data": {
            "text/plain": [
              "array([480, 429, 289, 412, 377,  30, 354, 477, 484,   8])"
            ]
          },
          "metadata": {},
          "execution_count": 39
        }
      ]
    },
    {
      "cell_type": "code",
      "source": [
        "tweets = []\n",
        "\n",
        "for i in ids:\n",
        "  tweets.append(train_df.iloc[i,1])"
      ],
      "metadata": {
        "id": "MhaJiHQ6W8in"
      },
      "execution_count": 40,
      "outputs": []
    },
    {
      "cell_type": "code",
      "source": [
        "sent = []\n",
        "\n",
        "for i in ids:\n",
        "  if test_predictions_class[i] == 0:\n",
        "    sent.append('negative')\n",
        "  elif test_predictions_class[i] == 1:\n",
        "    sent.append('neutral')\n",
        "  else:\n",
        "    sent.append('positive')"
      ],
      "metadata": {
        "id": "NO1duf6qXga8"
      },
      "execution_count": 41,
      "outputs": []
    },
    {
      "cell_type": "code",
      "source": [
        "df = pd.DataFrame()\n",
        "\n",
        "df['tweets'] = tweets\n",
        "df['sentiment'] = sent "
      ],
      "metadata": {
        "id": "vwHz7xP7XUMH"
      },
      "execution_count": 42,
      "outputs": []
    },
    {
      "cell_type": "code",
      "source": [
        "df"
      ],
      "metadata": {
        "colab": {
          "base_uri": "https://localhost:8080/",
          "height": 363
        },
        "id": "eSp0yUbWX0TH",
        "outputId": "bfb716ae-c1b3-4d4e-b367-26dc6b259863"
      },
      "execution_count": 43,
      "outputs": [
        {
          "output_type": "execute_result",
          "data": {
            "text/plain": [
              "                                              tweets sentiment\n",
              "0  But dont take my word for it , im just a fucke...   neutral\n",
              "1  Especially since the guy would have been ridic...   neutral\n",
              "2               I like that stuff a lot , actually .  positive\n",
              "3  I think I am going to guilt them boys into giv...   neutral\n",
              "4      I wish I had thought of that when I saw him .  negative\n",
              "5  hahahaha i bet you can use it as mascara and e...  positive\n",
              "6                 prince of time and space maybe ...   neutral\n",
              "7  but my AIM is still up if you want to talk : l...  positive\n",
              "8    I not sure I just know something is not right .  negative\n",
              "9                  Not just villains , I had wager .   neutral"
            ],
            "text/html": [
              "\n",
              "  <div id=\"df-4d158cc4-08c5-4d88-b7f7-51d744439feb\">\n",
              "    <div class=\"colab-df-container\">\n",
              "      <div>\n",
              "<style scoped>\n",
              "    .dataframe tbody tr th:only-of-type {\n",
              "        vertical-align: middle;\n",
              "    }\n",
              "\n",
              "    .dataframe tbody tr th {\n",
              "        vertical-align: top;\n",
              "    }\n",
              "\n",
              "    .dataframe thead th {\n",
              "        text-align: right;\n",
              "    }\n",
              "</style>\n",
              "<table border=\"1\" class=\"dataframe\">\n",
              "  <thead>\n",
              "    <tr style=\"text-align: right;\">\n",
              "      <th></th>\n",
              "      <th>tweets</th>\n",
              "      <th>sentiment</th>\n",
              "    </tr>\n",
              "  </thead>\n",
              "  <tbody>\n",
              "    <tr>\n",
              "      <th>0</th>\n",
              "      <td>But dont take my word for it , im just a fucke...</td>\n",
              "      <td>neutral</td>\n",
              "    </tr>\n",
              "    <tr>\n",
              "      <th>1</th>\n",
              "      <td>Especially since the guy would have been ridic...</td>\n",
              "      <td>neutral</td>\n",
              "    </tr>\n",
              "    <tr>\n",
              "      <th>2</th>\n",
              "      <td>I like that stuff a lot , actually .</td>\n",
              "      <td>positive</td>\n",
              "    </tr>\n",
              "    <tr>\n",
              "      <th>3</th>\n",
              "      <td>I think I am going to guilt them boys into giv...</td>\n",
              "      <td>neutral</td>\n",
              "    </tr>\n",
              "    <tr>\n",
              "      <th>4</th>\n",
              "      <td>I wish I had thought of that when I saw him .</td>\n",
              "      <td>negative</td>\n",
              "    </tr>\n",
              "    <tr>\n",
              "      <th>5</th>\n",
              "      <td>hahahaha i bet you can use it as mascara and e...</td>\n",
              "      <td>positive</td>\n",
              "    </tr>\n",
              "    <tr>\n",
              "      <th>6</th>\n",
              "      <td>prince of time and space maybe ...</td>\n",
              "      <td>neutral</td>\n",
              "    </tr>\n",
              "    <tr>\n",
              "      <th>7</th>\n",
              "      <td>but my AIM is still up if you want to talk : l...</td>\n",
              "      <td>positive</td>\n",
              "    </tr>\n",
              "    <tr>\n",
              "      <th>8</th>\n",
              "      <td>I not sure I just know something is not right .</td>\n",
              "      <td>negative</td>\n",
              "    </tr>\n",
              "    <tr>\n",
              "      <th>9</th>\n",
              "      <td>Not just villains , I had wager .</td>\n",
              "      <td>neutral</td>\n",
              "    </tr>\n",
              "  </tbody>\n",
              "</table>\n",
              "</div>\n",
              "      <button class=\"colab-df-convert\" onclick=\"convertToInteractive('df-4d158cc4-08c5-4d88-b7f7-51d744439feb')\"\n",
              "              title=\"Convert this dataframe to an interactive table.\"\n",
              "              style=\"display:none;\">\n",
              "        \n",
              "  <svg xmlns=\"http://www.w3.org/2000/svg\" height=\"24px\"viewBox=\"0 0 24 24\"\n",
              "       width=\"24px\">\n",
              "    <path d=\"M0 0h24v24H0V0z\" fill=\"none\"/>\n",
              "    <path d=\"M18.56 5.44l.94 2.06.94-2.06 2.06-.94-2.06-.94-.94-2.06-.94 2.06-2.06.94zm-11 1L8.5 8.5l.94-2.06 2.06-.94-2.06-.94L8.5 2.5l-.94 2.06-2.06.94zm10 10l.94 2.06.94-2.06 2.06-.94-2.06-.94-.94-2.06-.94 2.06-2.06.94z\"/><path d=\"M17.41 7.96l-1.37-1.37c-.4-.4-.92-.59-1.43-.59-.52 0-1.04.2-1.43.59L10.3 9.45l-7.72 7.72c-.78.78-.78 2.05 0 2.83L4 21.41c.39.39.9.59 1.41.59.51 0 1.02-.2 1.41-.59l7.78-7.78 2.81-2.81c.8-.78.8-2.07 0-2.86zM5.41 20L4 18.59l7.72-7.72 1.47 1.35L5.41 20z\"/>\n",
              "  </svg>\n",
              "      </button>\n",
              "      \n",
              "  <style>\n",
              "    .colab-df-container {\n",
              "      display:flex;\n",
              "      flex-wrap:wrap;\n",
              "      gap: 12px;\n",
              "    }\n",
              "\n",
              "    .colab-df-convert {\n",
              "      background-color: #E8F0FE;\n",
              "      border: none;\n",
              "      border-radius: 50%;\n",
              "      cursor: pointer;\n",
              "      display: none;\n",
              "      fill: #1967D2;\n",
              "      height: 32px;\n",
              "      padding: 0 0 0 0;\n",
              "      width: 32px;\n",
              "    }\n",
              "\n",
              "    .colab-df-convert:hover {\n",
              "      background-color: #E2EBFA;\n",
              "      box-shadow: 0px 1px 2px rgba(60, 64, 67, 0.3), 0px 1px 3px 1px rgba(60, 64, 67, 0.15);\n",
              "      fill: #174EA6;\n",
              "    }\n",
              "\n",
              "    [theme=dark] .colab-df-convert {\n",
              "      background-color: #3B4455;\n",
              "      fill: #D2E3FC;\n",
              "    }\n",
              "\n",
              "    [theme=dark] .colab-df-convert:hover {\n",
              "      background-color: #434B5C;\n",
              "      box-shadow: 0px 1px 3px 1px rgba(0, 0, 0, 0.15);\n",
              "      filter: drop-shadow(0px 1px 2px rgba(0, 0, 0, 0.3));\n",
              "      fill: #FFFFFF;\n",
              "    }\n",
              "  </style>\n",
              "\n",
              "      <script>\n",
              "        const buttonEl =\n",
              "          document.querySelector('#df-4d158cc4-08c5-4d88-b7f7-51d744439feb button.colab-df-convert');\n",
              "        buttonEl.style.display =\n",
              "          google.colab.kernel.accessAllowed ? 'block' : 'none';\n",
              "\n",
              "        async function convertToInteractive(key) {\n",
              "          const element = document.querySelector('#df-4d158cc4-08c5-4d88-b7f7-51d744439feb');\n",
              "          const dataTable =\n",
              "            await google.colab.kernel.invokeFunction('convertToInteractive',\n",
              "                                                     [key], {});\n",
              "          if (!dataTable) return;\n",
              "\n",
              "          const docLinkHtml = 'Like what you see? Visit the ' +\n",
              "            '<a target=\"_blank\" href=https://colab.research.google.com/notebooks/data_table.ipynb>data table notebook</a>'\n",
              "            + ' to learn more about interactive tables.';\n",
              "          element.innerHTML = '';\n",
              "          dataTable['output_type'] = 'display_data';\n",
              "          await google.colab.output.renderOutput(dataTable, element);\n",
              "          const docLink = document.createElement('div');\n",
              "          docLink.innerHTML = docLinkHtml;\n",
              "          element.appendChild(docLink);\n",
              "        }\n",
              "      </script>\n",
              "    </div>\n",
              "  </div>\n",
              "  "
            ]
          },
          "metadata": {},
          "execution_count": 43
        }
      ]
    },
    {
      "cell_type": "markdown",
      "source": [
        "The results are satisfactory"
      ],
      "metadata": {
        "id": "4l6133eLYCtB"
      }
    },
    {
      "cell_type": "markdown",
      "source": [
        "Referrence:\n",
        "https://www.kaggle.com/code/githubsearch/twitter-sentimental-analysis/notebook"
      ],
      "metadata": {
        "id": "uvyYse4rVt_B"
      }
    }
  ]
}
