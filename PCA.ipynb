{
  "cells": [
    {
      "cell_type": "markdown",
      "metadata": {
        "id": "view-in-github",
        "colab_type": "text"
      },
      "source": [
        "<a href=\"https://colab.research.google.com/github/kirubanath/ML_learnings/blob/main/PCA.ipynb\" target=\"_parent\"><img src=\"https://colab.research.google.com/assets/colab-badge.svg\" alt=\"Open In Colab\"/></a>"
      ]
    },
    {
      "cell_type": "code",
      "execution_count": null,
      "metadata": {
        "id": "OFWSfB_E6_01"
      },
      "outputs": [],
      "source": [
        "from keras.datasets import mnist"
      ]
    },
    {
      "cell_type": "code",
      "execution_count": null,
      "metadata": {
        "id": "FWNA6yMZ6_04"
      },
      "outputs": [],
      "source": [
        "import matplotlib.pyplot as plt\n",
        "import numpy as np"
      ]
    },
    {
      "cell_type": "code",
      "execution_count": null,
      "metadata": {
        "id": "UTZhikWy6_05"
      },
      "outputs": [],
      "source": [
        "(train_X, train_y), (test_X, test_y) = mnist.load_data()"
      ]
    },
    {
      "cell_type": "code",
      "execution_count": null,
      "metadata": {
        "id": "Hgu0-QOC6_06"
      },
      "outputs": [],
      "source": [
        "index = train_y == 3"
      ]
    },
    {
      "cell_type": "code",
      "execution_count": null,
      "metadata": {
        "id": "thARil8E6_06"
      },
      "outputs": [],
      "source": [
        "Y = train_y[index]"
      ]
    },
    {
      "cell_type": "code",
      "execution_count": null,
      "metadata": {
        "id": "7HoqOOqZ6_06"
      },
      "outputs": [],
      "source": [
        "X = train_X[index]"
      ]
    },
    {
      "cell_type": "markdown",
      "metadata": {
        "id": "UaMhjdxg6_06"
      },
      "source": [
        "Taking the first 200 images of 3"
      ]
    },
    {
      "cell_type": "code",
      "execution_count": null,
      "metadata": {
        "id": "egXJj2TF6_08"
      },
      "outputs": [],
      "source": [
        "X = X[:200]"
      ]
    },
    {
      "cell_type": "markdown",
      "metadata": {
        "id": "XalpwRYh6_09"
      },
      "source": [
        "Example Images"
      ]
    },
    {
      "cell_type": "code",
      "execution_count": null,
      "metadata": {
        "id": "D5WD9p0r6_0-",
        "outputId": "d75b4d32-4cb4-432a-a99f-fad26d21cfe4"
      },
      "outputs": [
        {
          "data": {
            "image/png": "[encoded data removed]",
            "text/plain": [
              "<Figure size 640x480 with 9 Axes>"
            ]
          },
          "metadata": {},
          "output_type": "display_data"
        }
      ],
      "source": [
        "fig, ax = plt.subplots(3,3)\n",
        "for i in range(3):\n",
        "    for j in range(3):      \n",
        "        ax[i,j].imshow(X[i+j], cmap=plt.get_cmap('gray'))\n",
        "\n",
        "plt.show()"
      ]
    },
    {
      "cell_type": "markdown",
      "metadata": {
        "id": "FVMlZUQ-6_0_"
      },
      "source": [
        "Finding the mean:"
      ]
    },
    {
      "cell_type": "code",
      "execution_count": null,
      "metadata": {
        "id": "q_8K2Mge6_0_"
      },
      "outputs": [],
      "source": [
        "Mean = np.zeros((28,28))"
      ]
    },
    {
      "cell_type": "code",
      "execution_count": null,
      "metadata": {
        "id": "TWG-MU3C6_1A"
      },
      "outputs": [],
      "source": [
        "for i in range(200):\n",
        "    Mean += X[i]\n",
        "Mean = Mean/200"
      ]
    },
    {
      "cell_type": "markdown",
      "metadata": {
        "id": "2NJ8QYLX6_1A"
      },
      "source": [
        "Mean of the data:"
      ]
    },
    {
      "cell_type": "code",
      "execution_count": null,
      "metadata": {
        "id": "lWyJY2g76_1A",
        "outputId": "37e80aa1-03f4-4a52-b7aa-f53ecbef8628"
      },
      "outputs": [
        {
          "data": {
            "image/png": "[encoded data removed]",
            "text/plain": [
              "<Figure size 640x480 with 1 Axes>"
            ]
          },
          "metadata": {},
          "output_type": "display_data"
        }
      ],
      "source": [
        "plt.imshow(Mean, cmap=plt.get_cmap('gray'));"
      ]
    },
    {
      "cell_type": "markdown",
      "metadata": {
        "id": "mwA54lPv6_1B"
      },
      "source": [
        "Mean centering the data:"
      ]
    },
    {
      "cell_type": "code",
      "execution_count": null,
      "metadata": {
        "id": "0XLAwtAk6_1B"
      },
      "outputs": [],
      "source": [
        "normal_x = np.zeros((200,28,28))"
      ]
    },
    {
      "cell_type": "code",
      "execution_count": null,
      "metadata": {
        "id": "cmgmzDmX6_1B"
      },
      "outputs": [],
      "source": [
        "for i in range(200):\n",
        "    normal_x[i] = X[i]-Mean"
      ]
    },
    {
      "cell_type": "code",
      "execution_count": null,
      "metadata": {
        "id": "kASSulDv6_1B",
        "outputId": "463edfcc-f9be-43db-c871-e72e90a275f0"
      },
      "outputs": [
        {
          "data": {
            "text/plain": [
              "(200, 28, 28)"
            ]
          },
          "execution_count": 31,
          "metadata": {},
          "output_type": "execute_result"
        }
      ],
      "source": [
        "normal_x.shape"
      ]
    },
    {
      "cell_type": "markdown",
      "metadata": {
        "id": "WE6yEsq06_1B"
      },
      "source": [
        "Mean centered Data"
      ]
    },
    {
      "cell_type": "code",
      "execution_count": null,
      "metadata": {
        "id": "cZPg6Uo46_1B",
        "outputId": "6db163ac-c59f-4d07-b659-75cb82d7bf39"
      },
      "outputs": [
        {
          "data": {
            "image/png": "[encoded data removed]",
            "text/plain": [
              "<Figure size 640x480 with 9 Axes>"
            ]
          },
          "metadata": {},
          "output_type": "display_data"
        }
      ],
      "source": [
        "fig, ax = plt.subplots(3,3)\n",
        "for i in range(3):\n",
        "    for j in range(3):      \n",
        "        ax[i,j].imshow(normal_x[i+j], cmap = plt.get_cmap('gray') )\n",
        "\n",
        "plt.show()"
      ]
    },
    {
      "cell_type": "markdown",
      "metadata": {
        "id": "D7HGi47c6_1C"
      },
      "source": [
        "Flatten the images to make them into features"
      ]
    },
    {
      "cell_type": "code",
      "execution_count": null,
      "metadata": {
        "id": "X0adFr3A6_1C"
      },
      "outputs": [],
      "source": [
        "Features = np.array([x.flatten() for x in X])"
      ]
    },
    {
      "cell_type": "code",
      "execution_count": null,
      "metadata": {
        "id": "Bjolvpul6_1C",
        "outputId": "79448f07-fc09-4c0b-cf33-92a621a0c4b8"
      },
      "outputs": [
        {
          "data": {
            "text/plain": [
              "(200, 784)"
            ]
          },
          "execution_count": 34,
          "metadata": {},
          "output_type": "execute_result"
        }
      ],
      "source": [
        "Features.shape"
      ]
    },
    {
      "cell_type": "markdown",
      "metadata": {
        "id": "4OwV8CL16_1C"
      },
      "source": [
        "Finding the Covariance Matrix:"
      ]
    },
    {
      "cell_type": "code",
      "execution_count": null,
      "metadata": {
        "id": "lVn7xhf96_1C"
      },
      "outputs": [],
      "source": [
        "Cov_mat = np.cov(Features.T)"
      ]
    },
    {
      "cell_type": "code",
      "execution_count": null,
      "metadata": {
        "id": "yNDNggT86_1C",
        "outputId": "2cdc2fa7-e764-4909-eb1c-ec5ca960039b"
      },
      "outputs": [
        {
          "data": {
            "text/plain": [
              "(784, 784)"
            ]
          },
          "execution_count": 36,
          "metadata": {},
          "output_type": "execute_result"
        }
      ],
      "source": [
        "Cov_mat.shape"
      ]
    },
    {
      "cell_type": "markdown",
      "metadata": {
        "id": "IqHIKZCr6_1D"
      },
      "source": [
        "Finding the eigen values and eigen vectors:"
      ]
    },
    {
      "cell_type": "code",
      "execution_count": null,
      "metadata": {
        "id": "9qYC7ekE6_1D"
      },
      "outputs": [],
      "source": [
        "eig_val, eig_vec = np.linalg.eig(Cov_mat)"
      ]
    },
    {
      "cell_type": "code",
      "execution_count": null,
      "metadata": {
        "id": "NXaoyiqT6_1D"
      },
      "outputs": [],
      "source": [
        "index = np.argsort(eig_val)"
      ]
    },
    {
      "cell_type": "code",
      "execution_count": null,
      "metadata": {
        "id": "cNUdu8hY6_1D"
      },
      "outputs": [],
      "source": [
        "index = index[::-1][:3]"
      ]
    },
    {
      "cell_type": "code",
      "execution_count": null,
      "metadata": {
        "id": "0chT_DNK6_1D"
      },
      "outputs": [],
      "source": [
        "#corresponding eigen vectors:\n",
        "Principal_vectors = eig_vec[:,index]"
      ]
    },
    {
      "cell_type": "code",
      "execution_count": null,
      "metadata": {
        "id": "l8Z0aOvW6_1D",
        "outputId": "4cae4075-9538-4c53-9a5d-ed4cedd63e07"
      },
      "outputs": [
        {
          "data": {
            "text/plain": [
              "(784, 3)"
            ]
          },
          "execution_count": 41,
          "metadata": {},
          "output_type": "execute_result"
        }
      ],
      "source": [
        "Principal_vectors.shape"
      ]
    },
    {
      "cell_type": "code",
      "execution_count": null,
      "metadata": {
        "id": "j7zxIhwA6_1D"
      },
      "outputs": [],
      "source": [
        "Vector1 = Principal_vectors[:,0].reshape(28,28).real\n",
        "Vector2 = Principal_vectors[:,1].reshape(28,28).real\n",
        "Vector3 = Principal_vectors[:,2].reshape(28,28).real"
      ]
    },
    {
      "cell_type": "markdown",
      "metadata": {
        "id": "HwCSKOEu6_1D"
      },
      "source": [
        "Vizualizing Mean, and the three pinciple vectors"
      ]
    },
    {
      "cell_type": "code",
      "execution_count": null,
      "metadata": {
        "id": "9QCUt5aP6_1D",
        "outputId": "f20d0434-230c-49e7-ddef-cfcd5250e9a9"
      },
      "outputs": [
        {
          "data": {
            "image/png": "[encoded data removed]",
            "text/plain": [
              "<Figure size 640x480 with 4 Axes>"
            ]
          },
          "metadata": {},
          "output_type": "display_data"
        }
      ],
      "source": [
        "fig, ax = plt.subplots(2,2)\n",
        "\n",
        "ax[0,0].imshow(Mean, cmap = plt.get_cmap('gray'))\n",
        "ax[0,0].title.set_text('Mean')\n",
        "\n",
        "ax[0,1].imshow(Vector1, cmap = plt.get_cmap('gray'))\n",
        "ax[0,1].title.set_text('V1')\n",
        "\n",
        "ax[1,0].imshow(Vector2, cmap = plt.get_cmap('gray'))\n",
        "ax[1,0].title.set_text('V2')\n",
        "\n",
        "ax[1,1].imshow(Vector3, cmap = plt.get_cmap('gray'))\n",
        "ax[1,1].title.set_text('V3')\n",
        "\n",
        "plt.subplots_adjust(wspace=0.5, hspace=0.5)\n",
        "\n",
        "plt.show()"
      ]
    },
    {
      "cell_type": "markdown",
      "metadata": {
        "id": "H2T0mt-76_1E"
      },
      "source": [
        "Now using these three principle vectors we can find the reduced data as:\n",
        "\n",
        "Betas = Vectors.Transpose * Mean_centered_data.Transpose\n",
        "\n",
        "Now these Betas are the representation of the original images in the reduced dimension. This can be then used for classification."
      ]
    },
    {
      "cell_type": "code",
      "execution_count": null,
      "metadata": {
        "id": "zykd2rvK6_1E"
      },
      "outputs": [],
      "source": [
        "Reduced_data = (Principal_vectors.T@Features.T).T"
      ]
    },
    {
      "cell_type": "code",
      "execution_count": null,
      "metadata": {
        "id": "BFxhffKy6_1E",
        "outputId": "f53f7733-94bf-4140-9be8-7ad2d495af23"
      },
      "outputs": [
        {
          "data": {
            "text/plain": [
              "(200, 28, 28)"
            ]
          },
          "execution_count": 46,
          "metadata": {},
          "output_type": "execute_result"
        }
      ],
      "source": [
        "X.shape"
      ]
    },
    {
      "cell_type": "code",
      "execution_count": null,
      "metadata": {
        "id": "EprwnBDW6_1E",
        "outputId": "7f2c73b7-dcae-47c9-8aee-181077451791"
      },
      "outputs": [
        {
          "data": {
            "text/plain": [
              "(200, 3)"
            ]
          },
          "execution_count": 47,
          "metadata": {},
          "output_type": "execute_result"
        }
      ],
      "source": [
        "Reduced_data.shape"
      ]
    },
    {
      "cell_type": "markdown",
      "metadata": {
        "id": "GaDlATQO6_1E"
      },
      "source": [
        "As we can see above the original Image of 28x28 is now being represented with only 3 features(3 components/axis)"
      ]
    }
  ],
  "metadata": {
    "kernelspec": {
      "display_name": "Python 3",
      "language": "python",
      "name": "python3"
    },
    "language_info": {
      "codemirror_mode": {
        "name": "ipython",
        "version": 3
      },
      "file_extension": ".py",
      "mimetype": "text/x-python",
      "name": "python",
      "nbconvert_exporter": "python",
      "pygments_lexer": "ipython3",
      "version": "3.10.9"
    },
    "orig_nbformat": 4,
    "vscode": {
      "interpreter": {
        "hash": "fa676f95b428963fc6a22d0f7ab79d1ad8fae9296cc6459b33242ceffa432c07"
      }
    },
    "colab": {
      "provenance": [],
      "include_colab_link": true
    }
  },
  "nbformat": 4,
  "nbformat_minor": 0
}