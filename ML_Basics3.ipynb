{
  "cells": [
    {
      "cell_type": "markdown",
      "metadata": {
        "id": "view-in-github",
        "colab_type": "text"
      },
      "source": [
        "<a href=\"https://colab.research.google.com/github/kirubanath/ML-DS_learnings/blob/main/ML_Basics3.ipynb\" target=\"_parent\"><img src=\"https://colab.research.google.com/assets/colab-badge.svg\" alt=\"Open In Colab\"/></a>"
      ]
    },
    {
      "cell_type": "code",
      "execution_count": null,
      "metadata": {
        "id": "hPaxbhHiARS6"
      },
      "outputs": [],
      "source": [
        "import pandas as pd\n",
        "import numpy as np\n",
        "import matplotlib.pyplot as plt\n",
        "\n",
        "from sklearn.decomposition import PCA\n",
        "from sklearn.cluster import KMeans\n",
        "\n",
        "from sklearn.preprocessing import StandardScaler\n",
        "from sklearn.preprocessing import MinMaxScaler"
      ]
    },
    {
      "cell_type": "markdown",
      "metadata": {
        "id": "L_njda2B4cD3"
      },
      "source": [
        "## Q1 K-Means"
      ]
    },
    {
      "cell_type": "markdown",
      "metadata": {
        "id": "LSgVf7Ji4fdp"
      },
      "source": [
        "Implement K-Means Clustering on the dataset at the following location :  https://archive.ics.uci.edu/ml/datasets/Facebook+Live+Sellers+in+Thailand\n",
        "\n",
        "You are expected to do all necessary EDA, feature scaling and transforms.\n",
        "\n",
        "First, arbitarily choose cluster value as 2. Then use the elbow method which was discussed in class to identify the best number of cluster. While exploring this, if you observe the need to consider inertia as a factor, do so with proper rationale.\n",
        "\n",
        "Write a bried explanation as to how PCA can help with clustering in this example."
      ]
    },
    {
      "cell_type": "code",
      "execution_count": null,
      "metadata": {
        "id": "uAcVFMZy4bcz",
        "outputId": "43b0684b-ec39-4417-e68d-c717ebcd59ab"
      },
      "outputs": [
        {
          "data": {
            "text/html": [
              "<div>\n",
              "<style scoped>\n",
              "    .dataframe tbody tr th:only-of-type {\n",
              "        vertical-align: middle;\n",
              "    }\n",
              "\n",
              "    .dataframe tbody tr th {\n",
              "        vertical-align: top;\n",
              "    }\n",
              "\n",
              "    .dataframe thead th {\n",
              "        text-align: right;\n",
              "    }\n",
              "</style>\n",
              "<table border=\"1\" class=\"dataframe\">\n",
              "  <thead>\n",
              "    <tr style=\"text-align: right;\">\n",
              "      <th></th>\n",
              "      <th>status_id</th>\n",
              "      <th>status_type</th>\n",
              "      <th>status_published</th>\n",
              "      <th>num_reactions</th>\n",
              "      <th>num_comments</th>\n",
              "      <th>num_shares</th>\n",
              "      <th>num_likes</th>\n",
              "      <th>num_loves</th>\n",
              "      <th>num_wows</th>\n",
              "      <th>num_hahas</th>\n",
              "      <th>num_sads</th>\n",
              "      <th>num_angrys</th>\n",
              "      <th>Column1</th>\n",
              "      <th>Column2</th>\n",
              "      <th>Column3</th>\n",
              "      <th>Column4</th>\n",
              "    </tr>\n",
              "  </thead>\n",
              "  <tbody>\n",
              "    <tr>\n",
              "      <th>0</th>\n",
              "      <td>1</td>\n",
              "      <td>video</td>\n",
              "      <td>4/22/2018 6:00</td>\n",
              "      <td>529</td>\n",
              "      <td>512</td>\n",
              "      <td>262</td>\n",
              "      <td>432</td>\n",
              "      <td>92</td>\n",
              "      <td>3</td>\n",
              "      <td>1</td>\n",
              "      <td>1</td>\n",
              "      <td>0</td>\n",
              "      <td>NaN</td>\n",
              "      <td>NaN</td>\n",
              "      <td>NaN</td>\n",
              "      <td>NaN</td>\n",
              "    </tr>\n",
              "    <tr>\n",
              "      <th>1</th>\n",
              "      <td>2</td>\n",
              "      <td>photo</td>\n",
              "      <td>4/21/2018 22:45</td>\n",
              "      <td>150</td>\n",
              "      <td>0</td>\n",
              "      <td>0</td>\n",
              "      <td>150</td>\n",
              "      <td>0</td>\n",
              "      <td>0</td>\n",
              "      <td>0</td>\n",
              "      <td>0</td>\n",
              "      <td>0</td>\n",
              "      <td>NaN</td>\n",
              "      <td>NaN</td>\n",
              "      <td>NaN</td>\n",
              "      <td>NaN</td>\n",
              "    </tr>\n",
              "    <tr>\n",
              "      <th>2</th>\n",
              "      <td>3</td>\n",
              "      <td>video</td>\n",
              "      <td>4/21/2018 6:17</td>\n",
              "      <td>227</td>\n",
              "      <td>236</td>\n",
              "      <td>57</td>\n",
              "      <td>204</td>\n",
              "      <td>21</td>\n",
              "      <td>1</td>\n",
              "      <td>1</td>\n",
              "      <td>0</td>\n",
              "      <td>0</td>\n",
              "      <td>NaN</td>\n",
              "      <td>NaN</td>\n",
              "      <td>NaN</td>\n",
              "      <td>NaN</td>\n",
              "    </tr>\n",
              "    <tr>\n",
              "      <th>3</th>\n",
              "      <td>4</td>\n",
              "      <td>photo</td>\n",
              "      <td>4/21/2018 2:29</td>\n",
              "      <td>111</td>\n",
              "      <td>0</td>\n",
              "      <td>0</td>\n",
              "      <td>111</td>\n",
              "      <td>0</td>\n",
              "      <td>0</td>\n",
              "      <td>0</td>\n",
              "      <td>0</td>\n",
              "      <td>0</td>\n",
              "      <td>NaN</td>\n",
              "      <td>NaN</td>\n",
              "      <td>NaN</td>\n",
              "      <td>NaN</td>\n",
              "    </tr>\n",
              "    <tr>\n",
              "      <th>4</th>\n",
              "      <td>5</td>\n",
              "      <td>photo</td>\n",
              "      <td>4/18/2018 3:22</td>\n",
              "      <td>213</td>\n",
              "      <td>0</td>\n",
              "      <td>0</td>\n",
              "      <td>204</td>\n",
              "      <td>9</td>\n",
              "      <td>0</td>\n",
              "      <td>0</td>\n",
              "      <td>0</td>\n",
              "      <td>0</td>\n",
              "      <td>NaN</td>\n",
              "      <td>NaN</td>\n",
              "      <td>NaN</td>\n",
              "      <td>NaN</td>\n",
              "    </tr>\n",
              "  </tbody>\n",
              "</table>\n",
              "</div>"
            ],
            "text/plain": [
              "   status_id status_type status_published  num_reactions  num_comments  \\\n",
              "0          1       video   4/22/2018 6:00            529           512   \n",
              "1          2       photo  4/21/2018 22:45            150             0   \n",
              "2          3       video   4/21/2018 6:17            227           236   \n",
              "3          4       photo   4/21/2018 2:29            111             0   \n",
              "4          5       photo   4/18/2018 3:22            213             0   \n",
              "\n",
              "   num_shares  num_likes  num_loves  num_wows  num_hahas  num_sads  \\\n",
              "0         262        432         92         3          1         1   \n",
              "1           0        150          0         0          0         0   \n",
              "2          57        204         21         1          1         0   \n",
              "3           0        111          0         0          0         0   \n",
              "4           0        204          9         0          0         0   \n",
              "\n",
              "   num_angrys  Column1  Column2  Column3  Column4  \n",
              "0           0      NaN      NaN      NaN      NaN  \n",
              "1           0      NaN      NaN      NaN      NaN  \n",
              "2           0      NaN      NaN      NaN      NaN  \n",
              "3           0      NaN      NaN      NaN      NaN  \n",
              "4           0      NaN      NaN      NaN      NaN  "
            ]
          },
          "execution_count": 412,
          "metadata": {},
          "output_type": "execute_result"
        }
      ],
      "source": [
        "#loading the data:\n",
        "data = pd.read_csv(\"https://raw.githubusercontent.com/kirubanath/Datasets/main/Facebook_live.csv\")\n",
        "data.head()"
      ]
    },
    {
      "cell_type": "code",
      "execution_count": null,
      "metadata": {
        "id": "MBoFRQV6ARTE"
      },
      "outputs": [],
      "source": [
        "#removing useless columns\n",
        "data.drop(columns=['Column1','Column2','Column3','Column4'], inplace= True)\n",
        "data.head()\n",
        "\n",
        "#for later:\n",
        "clustered_data = data.copy()"
      ]
    },
    {
      "cell_type": "code",
      "execution_count": null,
      "metadata": {
        "id": "BxsX80COARTE",
        "outputId": "51e930c2-adcb-426f-cfcf-6da4789bbb1b"
      },
      "outputs": [
        {
          "name": "stdout",
          "output_type": "stream",
          "text": [
            "<class 'pandas.core.frame.DataFrame'>\n",
            "RangeIndex: 7050 entries, 0 to 7049\n",
            "Data columns (total 12 columns):\n",
            " #   Column            Non-Null Count  Dtype \n",
            "---  ------            --------------  ----- \n",
            " 0   status_id         7050 non-null   int64 \n",
            " 1   status_type       7050 non-null   object\n",
            " 2   status_published  7050 non-null   object\n",
            " 3   num_reactions     7050 non-null   int64 \n",
            " 4   num_comments      7050 non-null   int64 \n",
            " 5   num_shares        7050 non-null   int64 \n",
            " 6   num_likes         7050 non-null   int64 \n",
            " 7   num_loves         7050 non-null   int64 \n",
            " 8   num_wows          7050 non-null   int64 \n",
            " 9   num_hahas         7050 non-null   int64 \n",
            " 10  num_sads          7050 non-null   int64 \n",
            " 11  num_angrys        7050 non-null   int64 \n",
            "dtypes: int64(10), object(2)\n",
            "memory usage: 661.1+ KB\n"
          ]
        }
      ],
      "source": [
        "data.info()"
      ]
    },
    {
      "cell_type": "markdown",
      "metadata": {
        "id": "BPEXB8SFARTF"
      },
      "source": [
        "For clustering categorical variable, Kmeans does not work well. We have to use Kmodes or Kprototype algorithms. So we remove the categorical variable status type for now.\n",
        "\n",
        "References: <br>\n",
        "1. Clustering categorical data : https://towardsdatascience.com/clustering-algorithm-for-data-with-mixed-categorical-and-numerical-features-d4e3a48066a0 <br>\n",
        "2. Using Gower distance        : https://medium.com/analytics-vidhya/the-ultimate-guide-for-clustering-mixed-data-1eefa0b4743b <br>\n",
        "3. mixed variables data set :https://towardsdatascience.com/clustering-datasets-having-both-numerical-and-categorical-variables-ed91cdca0677\n",
        "\n",
        "\n",
        "But we can still incorporate the data using one hot encoding. Again this may not be the best method. Better way to handle this would be to use Kproto or __DBSCAN__ or Spectral clustering\n"
      ]
    },
    {
      "cell_type": "code",
      "execution_count": null,
      "metadata": {
        "id": "YPiWaL_2ARTG"
      },
      "outputs": [],
      "source": [
        "data = pd.get_dummies(data, columns=['status_type'])"
      ]
    },
    {
      "cell_type": "code",
      "execution_count": null,
      "metadata": {
        "id": "FvLbhs3vARTH"
      },
      "outputs": [],
      "source": [
        "#first convert the time into datetimeindex\n",
        "data.status_published = pd.to_datetime(data.status_published)"
      ]
    },
    {
      "cell_type": "code",
      "execution_count": null,
      "metadata": {
        "id": "wpn6E9usARTI",
        "outputId": "2112bc0d-568f-4f69-eef9-f96258e85728"
      },
      "outputs": [
        {
          "name": "stdout",
          "output_type": "stream",
          "text": [
            "<class 'pandas.core.frame.DataFrame'>\n",
            "RangeIndex: 7050 entries, 0 to 7049\n",
            "Data columns (total 15 columns):\n",
            " #   Column              Non-Null Count  Dtype         \n",
            "---  ------              --------------  -----         \n",
            " 0   status_id           7050 non-null   int64         \n",
            " 1   status_published    7050 non-null   datetime64[ns]\n",
            " 2   num_reactions       7050 non-null   int64         \n",
            " 3   num_comments        7050 non-null   int64         \n",
            " 4   num_shares          7050 non-null   int64         \n",
            " 5   num_likes           7050 non-null   int64         \n",
            " 6   num_loves           7050 non-null   int64         \n",
            " 7   num_wows            7050 non-null   int64         \n",
            " 8   num_hahas           7050 non-null   int64         \n",
            " 9   num_sads            7050 non-null   int64         \n",
            " 10  num_angrys          7050 non-null   int64         \n",
            " 11  status_type_link    7050 non-null   uint8         \n",
            " 12  status_type_photo   7050 non-null   uint8         \n",
            " 13  status_type_status  7050 non-null   uint8         \n",
            " 14  status_type_video   7050 non-null   uint8         \n",
            "dtypes: datetime64[ns](1), int64(10), uint8(4)\n",
            "memory usage: 633.5 KB\n"
          ]
        }
      ],
      "source": [
        "data.info()"
      ]
    },
    {
      "cell_type": "markdown",
      "metadata": {
        "id": "Ju9RGyCSARTJ"
      },
      "source": [
        "**Handling the time data:**<br>\n",
        "The reactions may depend on the time in three ways:\n",
        "\n",
        "1. Time of the day it was published --> most probable since the time of the day reflects if people are free or not\n",
        "2. month of the year                --> some months maybe holidays/winter and people maybe indoors?\n",
        "3. Year                             --> if the year was an odd one like during covid then maybe but these three years were fairly normal\n",
        "\n",
        "So we can either add the time data as a categorical variable (eg: aggregating the data wrt the time of the day like morning , afternoon...or month like jan, feb ...so on) or we can use dynamic time wrapping to effectively find the distance between two time series data and use it as the distance function in Kmeans.\n",
        "\n",
        "**References**\n",
        "1. Using Dynamic time wrapping : https://towardsdatascience.com/how-to-apply-k-means-clustering-to-time-series-data-28d04a8f7da3 <br>\n",
        "dynamic time wrapping finds the similarities between two time series better than eucleadean distance\n",
        "2. Kaggle thread on handling time: https://www.kaggle.com/questions-and-answers/40494\n",
        "3. Handling time in pandas: https://www.youtube.com/watch?v=J73mvgG9fFs&list=PLKnIA16_Rmvbr7zKYQuBfsVkjoLcJgxHH&index=36\n",
        "4. handling time in pandas2: https://www.youtube.com/watch?v=UFuo7EHI8zc\n",
        "5. Time series Clustering: https://colab.research.google.com/drive/1usNfL_8UUd15kz1oCeXlhz61CwcvOZxX?usp=sharing\n",
        "\n"
      ]
    },
    {
      "cell_type": "markdown",
      "metadata": {
        "id": "jcHIrQMDARTK"
      },
      "source": [
        "For this question I am converting the time data into time of the day : morning,evening and night. Then one hot encode them.\n",
        "\n",
        "A better approach would definitely be DTW but I am still very confused as to how to create the distance function. So for now using the above."
      ]
    },
    {
      "cell_type": "code",
      "execution_count": null,
      "metadata": {
        "id": "Msok_Vf-ARTK"
      },
      "outputs": [],
      "source": [
        "#creating a new column of just time of the day:\n",
        "data['time'] = data.status_published.dt.hour\n",
        "data['Morning'] = np.where(((data.time>=6)&(data.time<=13)), 1,0)\n",
        "data['Evening'] = np.where(((data.time>=14)&(data.time<=21)), 1,0)\n",
        "data['Night'] = np.where(((data.time>=22)&(data.time<=5)), 1,0)"
      ]
    },
    {
      "cell_type": "markdown",
      "metadata": {
        "id": "JkdX-1n8ARTL"
      },
      "source": [
        "No we dont need the status_published and the time column"
      ]
    },
    {
      "cell_type": "code",
      "execution_count": null,
      "metadata": {
        "id": "qHFCOENAARTL"
      },
      "outputs": [],
      "source": [
        "data.drop(columns = ['status_published','time'], inplace=True)"
      ]
    },
    {
      "cell_type": "code",
      "execution_count": null,
      "metadata": {
        "id": "WznuchlMARTM",
        "outputId": "f9568c9e-0124-4313-b7df-db758525a7ce"
      },
      "outputs": [
        {
          "name": "stdout",
          "output_type": "stream",
          "text": [
            "<class 'pandas.core.frame.DataFrame'>\n",
            "RangeIndex: 7050 entries, 0 to 7049\n",
            "Data columns (total 17 columns):\n",
            " #   Column              Non-Null Count  Dtype\n",
            "---  ------              --------------  -----\n",
            " 0   status_id           7050 non-null   int64\n",
            " 1   num_reactions       7050 non-null   int64\n",
            " 2   num_comments        7050 non-null   int64\n",
            " 3   num_shares          7050 non-null   int64\n",
            " 4   num_likes           7050 non-null   int64\n",
            " 5   num_loves           7050 non-null   int64\n",
            " 6   num_wows            7050 non-null   int64\n",
            " 7   num_hahas           7050 non-null   int64\n",
            " 8   num_sads            7050 non-null   int64\n",
            " 9   num_angrys          7050 non-null   int64\n",
            " 10  status_type_link    7050 non-null   uint8\n",
            " 11  status_type_photo   7050 non-null   uint8\n",
            " 12  status_type_status  7050 non-null   uint8\n",
            " 13  status_type_video   7050 non-null   uint8\n",
            " 14  Morning             7050 non-null   int32\n",
            " 15  Evening             7050 non-null   int32\n",
            " 16  Night               7050 non-null   int32\n",
            "dtypes: int32(3), int64(10), uint8(4)\n",
            "memory usage: 661.1 KB\n"
          ]
        }
      ],
      "source": [
        "data.info()"
      ]
    },
    {
      "cell_type": "markdown",
      "metadata": {
        "id": "7IMU3rfCARTM"
      },
      "source": [
        "Here since the dimension of the data is larger we could first reduce the dimension and then do the clustering.\n",
        "\n",
        "For dimension reduction we can either use PCA or LDA. In general we use LDA for labelled data(supervised) and PCA for unsupervised. Since this is an unsupervised case we will use PCA. \n",
        "\n",
        "**LDA is better than PCA when there is noise in the data! and it is used for classification**\n",
        " \n",
        "For applying PCA it is better to calculate the principal components seperately for each of the one hot encoded variables and seperately for other data and finally combine all of them.\n",
        "\n",
        "Finally to select the number of principal components to use, we will take help of the explained variance of the principal components. (In general we try to get atleast 90%)."
      ]
    },
    {
      "cell_type": "code",
      "execution_count": null,
      "metadata": {
        "id": "78QuFAXGARTM"
      },
      "outputs": [],
      "source": [
        "#deviding the data into purely numeric and then the two one hot encoded variables\n",
        "#this is to calculate the PCA\n",
        "data_numeric = data.iloc[:,1:10]\n",
        "data_status  = data.iloc[:,10:14]\n",
        "data_time    = data.iloc[:,14:]"
      ]
    },
    {
      "cell_type": "markdown",
      "metadata": {
        "id": "RRZjzhRuARTN"
      },
      "source": [
        "Also for the data above, normalization makes sense. So let us first normalize the data:"
      ]
    },
    {
      "cell_type": "code",
      "execution_count": null,
      "metadata": {
        "id": "zIAfLwVQARTN",
        "outputId": "a330222c-33a1-4361-cf80-b2bcac7915e2"
      },
      "outputs": [
        {
          "data": {
            "text/html": [
              "<div>\n",
              "<style scoped>\n",
              "    .dataframe tbody tr th:only-of-type {\n",
              "        vertical-align: middle;\n",
              "    }\n",
              "\n",
              "    .dataframe tbody tr th {\n",
              "        vertical-align: top;\n",
              "    }\n",
              "\n",
              "    .dataframe thead th {\n",
              "        text-align: right;\n",
              "    }\n",
              "</style>\n",
              "<table border=\"1\" class=\"dataframe\">\n",
              "  <thead>\n",
              "    <tr style=\"text-align: right;\">\n",
              "      <th></th>\n",
              "      <th>num_reactions</th>\n",
              "      <th>num_comments</th>\n",
              "      <th>num_shares</th>\n",
              "      <th>num_likes</th>\n",
              "      <th>num_loves</th>\n",
              "      <th>num_wows</th>\n",
              "      <th>num_hahas</th>\n",
              "      <th>num_sads</th>\n",
              "      <th>num_angrys</th>\n",
              "    </tr>\n",
              "  </thead>\n",
              "  <tbody>\n",
              "    <tr>\n",
              "      <th>0</th>\n",
              "      <td>0.112314</td>\n",
              "      <td>0.024393</td>\n",
              "      <td>0.076519</td>\n",
              "      <td>0.091720</td>\n",
              "      <td>0.140030</td>\n",
              "      <td>0.010791</td>\n",
              "      <td>0.006369</td>\n",
              "      <td>0.019608</td>\n",
              "      <td>0.0</td>\n",
              "    </tr>\n",
              "    <tr>\n",
              "      <th>1</th>\n",
              "      <td>0.031847</td>\n",
              "      <td>0.000000</td>\n",
              "      <td>0.000000</td>\n",
              "      <td>0.031847</td>\n",
              "      <td>0.000000</td>\n",
              "      <td>0.000000</td>\n",
              "      <td>0.000000</td>\n",
              "      <td>0.000000</td>\n",
              "      <td>0.0</td>\n",
              "    </tr>\n",
              "    <tr>\n",
              "      <th>2</th>\n",
              "      <td>0.048195</td>\n",
              "      <td>0.011243</td>\n",
              "      <td>0.016647</td>\n",
              "      <td>0.043312</td>\n",
              "      <td>0.031963</td>\n",
              "      <td>0.003597</td>\n",
              "      <td>0.006369</td>\n",
              "      <td>0.000000</td>\n",
              "      <td>0.0</td>\n",
              "    </tr>\n",
              "    <tr>\n",
              "      <th>3</th>\n",
              "      <td>0.023567</td>\n",
              "      <td>0.000000</td>\n",
              "      <td>0.000000</td>\n",
              "      <td>0.023567</td>\n",
              "      <td>0.000000</td>\n",
              "      <td>0.000000</td>\n",
              "      <td>0.000000</td>\n",
              "      <td>0.000000</td>\n",
              "      <td>0.0</td>\n",
              "    </tr>\n",
              "    <tr>\n",
              "      <th>4</th>\n",
              "      <td>0.045223</td>\n",
              "      <td>0.000000</td>\n",
              "      <td>0.000000</td>\n",
              "      <td>0.043312</td>\n",
              "      <td>0.013699</td>\n",
              "      <td>0.000000</td>\n",
              "      <td>0.000000</td>\n",
              "      <td>0.000000</td>\n",
              "      <td>0.0</td>\n",
              "    </tr>\n",
              "  </tbody>\n",
              "</table>\n",
              "</div>"
            ],
            "text/plain": [
              "   num_reactions  num_comments  num_shares  num_likes  num_loves  num_wows  \\\n",
              "0       0.112314      0.024393    0.076519   0.091720   0.140030  0.010791   \n",
              "1       0.031847      0.000000    0.000000   0.031847   0.000000  0.000000   \n",
              "2       0.048195      0.011243    0.016647   0.043312   0.031963  0.003597   \n",
              "3       0.023567      0.000000    0.000000   0.023567   0.000000  0.000000   \n",
              "4       0.045223      0.000000    0.000000   0.043312   0.013699  0.000000   \n",
              "\n",
              "   num_hahas  num_sads  num_angrys  \n",
              "0   0.006369  0.019608         0.0  \n",
              "1   0.000000  0.000000         0.0  \n",
              "2   0.006369  0.000000         0.0  \n",
              "3   0.000000  0.000000         0.0  \n",
              "4   0.000000  0.000000         0.0  "
            ]
          },
          "execution_count": 422,
          "metadata": {},
          "output_type": "execute_result"
        }
      ],
      "source": [
        "norm = MinMaxScaler()\n",
        "columns = data_numeric.columns\n",
        "data_numeric = norm.fit_transform(data_numeric)\n",
        "data_numeric = pd.DataFrame(data_numeric, columns=columns)\n",
        "data_numeric.head()\n"
      ]
    },
    {
      "cell_type": "code",
      "execution_count": null,
      "metadata": {
        "id": "c1bvDv-dARTN",
        "outputId": "2bdc2acd-5de7-49d8-e35c-1a0b539967da"
      },
      "outputs": [
        {
          "data": {
            "text/html": [
              "<div>\n",
              "<style scoped>\n",
              "    .dataframe tbody tr th:only-of-type {\n",
              "        vertical-align: middle;\n",
              "    }\n",
              "\n",
              "    .dataframe tbody tr th {\n",
              "        vertical-align: top;\n",
              "    }\n",
              "\n",
              "    .dataframe thead th {\n",
              "        text-align: right;\n",
              "    }\n",
              "</style>\n",
              "<table border=\"1\" class=\"dataframe\">\n",
              "  <thead>\n",
              "    <tr style=\"text-align: right;\">\n",
              "      <th></th>\n",
              "      <th>num_reactions</th>\n",
              "      <th>num_comments</th>\n",
              "      <th>num_shares</th>\n",
              "      <th>num_likes</th>\n",
              "      <th>num_loves</th>\n",
              "      <th>num_wows</th>\n",
              "      <th>num_hahas</th>\n",
              "      <th>num_sads</th>\n",
              "      <th>num_angrys</th>\n",
              "    </tr>\n",
              "  </thead>\n",
              "  <tbody>\n",
              "    <tr>\n",
              "      <th>0</th>\n",
              "      <td>0.112314</td>\n",
              "      <td>0.024393</td>\n",
              "      <td>0.076519</td>\n",
              "      <td>0.091720</td>\n",
              "      <td>0.140030</td>\n",
              "      <td>0.010791</td>\n",
              "      <td>0.006369</td>\n",
              "      <td>0.019608</td>\n",
              "      <td>0.0</td>\n",
              "    </tr>\n",
              "    <tr>\n",
              "      <th>1</th>\n",
              "      <td>0.031847</td>\n",
              "      <td>0.000000</td>\n",
              "      <td>0.000000</td>\n",
              "      <td>0.031847</td>\n",
              "      <td>0.000000</td>\n",
              "      <td>0.000000</td>\n",
              "      <td>0.000000</td>\n",
              "      <td>0.000000</td>\n",
              "      <td>0.0</td>\n",
              "    </tr>\n",
              "    <tr>\n",
              "      <th>2</th>\n",
              "      <td>0.048195</td>\n",
              "      <td>0.011243</td>\n",
              "      <td>0.016647</td>\n",
              "      <td>0.043312</td>\n",
              "      <td>0.031963</td>\n",
              "      <td>0.003597</td>\n",
              "      <td>0.006369</td>\n",
              "      <td>0.000000</td>\n",
              "      <td>0.0</td>\n",
              "    </tr>\n",
              "    <tr>\n",
              "      <th>3</th>\n",
              "      <td>0.023567</td>\n",
              "      <td>0.000000</td>\n",
              "      <td>0.000000</td>\n",
              "      <td>0.023567</td>\n",
              "      <td>0.000000</td>\n",
              "      <td>0.000000</td>\n",
              "      <td>0.000000</td>\n",
              "      <td>0.000000</td>\n",
              "      <td>0.0</td>\n",
              "    </tr>\n",
              "    <tr>\n",
              "      <th>4</th>\n",
              "      <td>0.045223</td>\n",
              "      <td>0.000000</td>\n",
              "      <td>0.000000</td>\n",
              "      <td>0.043312</td>\n",
              "      <td>0.013699</td>\n",
              "      <td>0.000000</td>\n",
              "      <td>0.000000</td>\n",
              "      <td>0.000000</td>\n",
              "      <td>0.0</td>\n",
              "    </tr>\n",
              "    <tr>\n",
              "      <th>...</th>\n",
              "      <td>...</td>\n",
              "      <td>...</td>\n",
              "      <td>...</td>\n",
              "      <td>...</td>\n",
              "      <td>...</td>\n",
              "      <td>...</td>\n",
              "      <td>...</td>\n",
              "      <td>...</td>\n",
              "      <td>...</td>\n",
              "    </tr>\n",
              "    <tr>\n",
              "      <th>7045</th>\n",
              "      <td>0.018896</td>\n",
              "      <td>0.000000</td>\n",
              "      <td>0.000000</td>\n",
              "      <td>0.018896</td>\n",
              "      <td>0.000000</td>\n",
              "      <td>0.000000</td>\n",
              "      <td>0.000000</td>\n",
              "      <td>0.000000</td>\n",
              "      <td>0.0</td>\n",
              "    </tr>\n",
              "    <tr>\n",
              "      <th>7046</th>\n",
              "      <td>0.003397</td>\n",
              "      <td>0.000000</td>\n",
              "      <td>0.000000</td>\n",
              "      <td>0.002972</td>\n",
              "      <td>0.001522</td>\n",
              "      <td>0.000000</td>\n",
              "      <td>0.006369</td>\n",
              "      <td>0.000000</td>\n",
              "      <td>0.0</td>\n",
              "    </tr>\n",
              "    <tr>\n",
              "      <th>7047</th>\n",
              "      <td>0.000425</td>\n",
              "      <td>0.000000</td>\n",
              "      <td>0.000000</td>\n",
              "      <td>0.000212</td>\n",
              "      <td>0.001522</td>\n",
              "      <td>0.000000</td>\n",
              "      <td>0.000000</td>\n",
              "      <td>0.000000</td>\n",
              "      <td>0.0</td>\n",
              "    </tr>\n",
              "    <tr>\n",
              "      <th>7048</th>\n",
              "      <td>0.074522</td>\n",
              "      <td>0.000572</td>\n",
              "      <td>0.006425</td>\n",
              "      <td>0.074098</td>\n",
              "      <td>0.003044</td>\n",
              "      <td>0.000000</td>\n",
              "      <td>0.000000</td>\n",
              "      <td>0.000000</td>\n",
              "      <td>0.0</td>\n",
              "    </tr>\n",
              "    <tr>\n",
              "      <th>7049</th>\n",
              "      <td>0.003609</td>\n",
              "      <td>0.000000</td>\n",
              "      <td>0.000000</td>\n",
              "      <td>0.003609</td>\n",
              "      <td>0.000000</td>\n",
              "      <td>0.000000</td>\n",
              "      <td>0.000000</td>\n",
              "      <td>0.000000</td>\n",
              "      <td>0.0</td>\n",
              "    </tr>\n",
              "  </tbody>\n",
              "</table>\n",
              "<p>7050 rows × 9 columns</p>\n",
              "</div>"
            ],
            "text/plain": [
              "      num_reactions  num_comments  num_shares  num_likes  num_loves  num_wows  \\\n",
              "0          0.112314      0.024393    0.076519   0.091720   0.140030  0.010791   \n",
              "1          0.031847      0.000000    0.000000   0.031847   0.000000  0.000000   \n",
              "2          0.048195      0.011243    0.016647   0.043312   0.031963  0.003597   \n",
              "3          0.023567      0.000000    0.000000   0.023567   0.000000  0.000000   \n",
              "4          0.045223      0.000000    0.000000   0.043312   0.013699  0.000000   \n",
              "...             ...           ...         ...        ...        ...       ...   \n",
              "7045       0.018896      0.000000    0.000000   0.018896   0.000000  0.000000   \n",
              "7046       0.003397      0.000000    0.000000   0.002972   0.001522  0.000000   \n",
              "7047       0.000425      0.000000    0.000000   0.000212   0.001522  0.000000   \n",
              "7048       0.074522      0.000572    0.006425   0.074098   0.003044  0.000000   \n",
              "7049       0.003609      0.000000    0.000000   0.003609   0.000000  0.000000   \n",
              "\n",
              "      num_hahas  num_sads  num_angrys  \n",
              "0      0.006369  0.019608         0.0  \n",
              "1      0.000000  0.000000         0.0  \n",
              "2      0.006369  0.000000         0.0  \n",
              "3      0.000000  0.000000         0.0  \n",
              "4      0.000000  0.000000         0.0  \n",
              "...         ...       ...         ...  \n",
              "7045   0.000000  0.000000         0.0  \n",
              "7046   0.006369  0.000000         0.0  \n",
              "7047   0.000000  0.000000         0.0  \n",
              "7048   0.000000  0.000000         0.0  \n",
              "7049   0.000000  0.000000         0.0  \n",
              "\n",
              "[7050 rows x 9 columns]"
            ]
          },
          "execution_count": 423,
          "metadata": {},
          "output_type": "execute_result"
        }
      ],
      "source": [
        "data_numeric"
      ]
    },
    {
      "cell_type": "markdown",
      "metadata": {
        "id": "j_B8pSjtARTO"
      },
      "source": [
        "Selecting the best value for number of principal components:"
      ]
    },
    {
      "cell_type": "code",
      "execution_count": null,
      "metadata": {
        "id": "5ZmfCKi0ARTO"
      },
      "outputs": [],
      "source": [
        "pcas = [PCA(n_components=i) for i in range(0,9)]\n",
        "datas = [pcas[i].fit_transform(data_numeric) for i in range(0,8)]\n",
        "scores = [np.sum(pcas[i].explained_variance_ratio_) for i in range(0,8)]"
      ]
    },
    {
      "cell_type": "code",
      "execution_count": null,
      "metadata": {
        "id": "blJSF9AjARTO",
        "outputId": "cd5b5802-14a9-4376-bbed-d9d7fe2b28fa"
      },
      "outputs": [
        {
          "data": {
            "text/plain": [
              "Text(0.5, 0, 'Number of principal components')"
            ]
          },
          "execution_count": 425,
          "metadata": {},
          "output_type": "execute_result"
        },
        {
          "data": {
            "image/png": "[encoded data removed]",
            "text/plain": [
              "<Figure size 640x480 with 1 Axes>"
            ]
          },
          "metadata": {},
          "output_type": "display_data"
        }
      ],
      "source": [
        "plt.plot(scores)\n",
        "plt.title('Elbow method for PCA')\n",
        "plt.ylabel('Explained variance ratio')\n",
        "plt.xlabel('Number of principal components')"
      ]
    },
    {
      "cell_type": "markdown",
      "metadata": {
        "id": "9Gt0IZu1ARTP"
      },
      "source": [
        "Better way to do this is to get the scores(explained variance ratio) for each possible number of components and then take the score/number of component that is just below the 90 percentile.\n",
        "\n",
        "For now from the above graph we can see that we get an elbow approximately at 2. we can take either 2 or 3 here. I will take 3."
      ]
    },
    {
      "cell_type": "code",
      "execution_count": null,
      "metadata": {
        "id": "2m-Tku8VARTP"
      },
      "outputs": [],
      "source": [
        "pca_numeric = PCA(n_components=3)\n",
        "data_numeric_redux = pca_numeric.fit_transform(data_numeric)"
      ]
    },
    {
      "cell_type": "markdown",
      "metadata": {
        "id": "YuCczxW5ARTP"
      },
      "source": [
        "PCA for the remaining two categorical columns: the ones which were one hot encoded"
      ]
    },
    {
      "cell_type": "code",
      "execution_count": null,
      "metadata": {
        "id": "L2TM6bbFARTP"
      },
      "outputs": [],
      "source": [
        "#pca_time:\n",
        "pca_time = PCA(n_components=1)\n",
        "data_time_redux = pca_time.fit_transform(data_time)\n",
        "\n",
        "pca_status = PCA(n_components=1)\n",
        "data_status_redux = pca_time.fit_transform(data_status)"
      ]
    },
    {
      "cell_type": "code",
      "execution_count": null,
      "metadata": {
        "id": "bvWoqkBKARTQ"
      },
      "outputs": [],
      "source": [
        "data_reduced = np.concatenate([data_numeric_redux,data_status_redux,data_time_redux],axis=1)"
      ]
    },
    {
      "cell_type": "code",
      "execution_count": null,
      "metadata": {
        "id": "QhVuQlofARTQ",
        "outputId": "26604fab-7702-4ae6-b6e6-164664544b9a"
      },
      "outputs": [
        {
          "data": {
            "text/html": [
              "<div>\n",
              "<style scoped>\n",
              "    .dataframe tbody tr th:only-of-type {\n",
              "        vertical-align: middle;\n",
              "    }\n",
              "\n",
              "    .dataframe tbody tr th {\n",
              "        vertical-align: top;\n",
              "    }\n",
              "\n",
              "    .dataframe thead th {\n",
              "        text-align: right;\n",
              "    }\n",
              "</style>\n",
              "<table border=\"1\" class=\"dataframe\">\n",
              "  <thead>\n",
              "    <tr style=\"text-align: right;\">\n",
              "      <th></th>\n",
              "      <th>0</th>\n",
              "      <th>1</th>\n",
              "      <th>2</th>\n",
              "      <th>3</th>\n",
              "      <th>4</th>\n",
              "    </tr>\n",
              "  </thead>\n",
              "  <tbody>\n",
              "    <tr>\n",
              "      <th>0</th>\n",
              "      <td>0.102166</td>\n",
              "      <td>0.108707</td>\n",
              "      <td>-0.024445</td>\n",
              "      <td>0.899944</td>\n",
              "      <td>0.587471</td>\n",
              "    </tr>\n",
              "    <tr>\n",
              "      <th>1</th>\n",
              "      <td>-0.026744</td>\n",
              "      <td>-0.021502</td>\n",
              "      <td>-0.001840</td>\n",
              "      <td>-0.513292</td>\n",
              "      <td>-0.409560</td>\n",
              "    </tr>\n",
              "    <tr>\n",
              "      <th>2</th>\n",
              "      <td>0.000206</td>\n",
              "      <td>0.011211</td>\n",
              "      <td>-0.004789</td>\n",
              "      <td>0.899944</td>\n",
              "      <td>0.587471</td>\n",
              "    </tr>\n",
              "    <tr>\n",
              "      <th>3</th>\n",
              "      <td>-0.038197</td>\n",
              "      <td>-0.019096</td>\n",
              "      <td>-0.002186</td>\n",
              "      <td>-0.513292</td>\n",
              "      <td>-0.409560</td>\n",
              "    </tr>\n",
              "    <tr>\n",
              "      <th>4</th>\n",
              "      <td>-0.007369</td>\n",
              "      <td>-0.015080</td>\n",
              "      <td>-0.006273</td>\n",
              "      <td>-0.513292</td>\n",
              "      <td>-0.409560</td>\n",
              "    </tr>\n",
              "  </tbody>\n",
              "</table>\n",
              "</div>"
            ],
            "text/plain": [
              "          0         1         2         3         4\n",
              "0  0.102166  0.108707 -0.024445  0.899944  0.587471\n",
              "1 -0.026744 -0.021502 -0.001840 -0.513292 -0.409560\n",
              "2  0.000206  0.011211 -0.004789  0.899944  0.587471\n",
              "3 -0.038197 -0.019096 -0.002186 -0.513292 -0.409560\n",
              "4 -0.007369 -0.015080 -0.006273 -0.513292 -0.409560"
            ]
          },
          "execution_count": 429,
          "metadata": {},
          "output_type": "execute_result"
        }
      ],
      "source": [
        "data_reduced = pd.DataFrame(data_reduced)\n",
        "data_reduced.head()"
      ]
    },
    {
      "cell_type": "markdown",
      "metadata": {
        "id": "uEcincVzARTR"
      },
      "source": [
        "Now to perform the Kmeans clustering, we have to first select the optimal number of clusters. This is again done by elbow method and looking at the inertia( intertia is the sum of the squared distances between the data points and the centroid of their cluster). \n",
        "\n",
        "Naturally as the number of cluster increases, inertia decreases and when the number of datapoints and the number of clusters are same the inertia is 0"
      ]
    },
    {
      "cell_type": "code",
      "execution_count": null,
      "metadata": {
        "id": "3cwZY4ZfARTS"
      },
      "outputs": [],
      "source": [
        "n_clusters = range(2,20)\n",
        "kmeans = [KMeans(n_clusters=i).fit(data_reduced) for i in n_clusters]\n",
        "inertia = [kmeans[i].inertia_ for i in range(len(kmeans))]"
      ]
    },
    {
      "cell_type": "code",
      "execution_count": null,
      "metadata": {
        "id": "OLU4dt8jARTT",
        "outputId": "4108a6e9-cb54-47da-ff8d-b719fb2fad0b"
      },
      "outputs": [
        {
          "name": "stderr",
          "output_type": "stream",
          "text": [
            "C:\\Users\\kirub\\AppData\\Local\\Temp\\ipykernel_19024\\2029449372.py:3: UserWarning: FixedFormatter should only be used together with FixedLocator\n",
            "  ax.set_xticklabels(np.arange(2,20));\n"
          ]
        },
        {
          "data": {
            "image/png": "[encoded data removed]",
            "text/plain": [
              "<Figure size 640x480 with 1 Axes>"
            ]
          },
          "metadata": {},
          "output_type": "display_data"
        }
      ],
      "source": [
        "\n",
        "fig, ax = plt.subplots() \n",
        "ax.plot(inertia)\n",
        "ax.set_xticklabels(np.arange(2,20));"
      ]
    },
    {
      "cell_type": "markdown",
      "metadata": {
        "id": "bW8n9WlFARTU"
      },
      "source": [
        "As we can see above, the elbow point is between  3 and 4. Let us take the number of clusters as 4"
      ]
    },
    {
      "cell_type": "code",
      "execution_count": null,
      "metadata": {
        "id": "2WZ-VW2-ARTU"
      },
      "outputs": [],
      "source": [
        "kmeans = KMeans(n_clusters=4)\n",
        "labels = kmeans.fit_predict(data_reduced)"
      ]
    },
    {
      "cell_type": "code",
      "execution_count": null,
      "metadata": {
        "id": "rU5tZXQ3ARTU",
        "outputId": "7641361b-5cd1-4f69-c6b3-eeb3b24cf45f"
      },
      "outputs": [
        {
          "data": {
            "text/plain": [
              "(7050,)"
            ]
          },
          "execution_count": 433,
          "metadata": {},
          "output_type": "execute_result"
        }
      ],
      "source": [
        "labels.shape"
      ]
    },
    {
      "cell_type": "markdown",
      "metadata": {
        "id": "q8PrXx1AARTU"
      },
      "source": [
        "Add the lables to the original data and display:"
      ]
    },
    {
      "cell_type": "code",
      "execution_count": null,
      "metadata": {
        "id": "XOfOajE3ARTV",
        "outputId": "8543894c-450d-4bf0-8846-5fcba2353e37"
      },
      "outputs": [
        {
          "data": {
            "text/html": [
              "<div>\n",
              "<style scoped>\n",
              "    .dataframe tbody tr th:only-of-type {\n",
              "        vertical-align: middle;\n",
              "    }\n",
              "\n",
              "    .dataframe tbody tr th {\n",
              "        vertical-align: top;\n",
              "    }\n",
              "\n",
              "    .dataframe thead th {\n",
              "        text-align: right;\n",
              "    }\n",
              "</style>\n",
              "<table border=\"1\" class=\"dataframe\">\n",
              "  <thead>\n",
              "    <tr style=\"text-align: right;\">\n",
              "      <th></th>\n",
              "      <th>status_id</th>\n",
              "      <th>status_type</th>\n",
              "      <th>status_published</th>\n",
              "      <th>num_reactions</th>\n",
              "      <th>num_comments</th>\n",
              "      <th>num_shares</th>\n",
              "      <th>num_likes</th>\n",
              "      <th>num_loves</th>\n",
              "      <th>num_wows</th>\n",
              "      <th>num_hahas</th>\n",
              "      <th>num_sads</th>\n",
              "      <th>num_angrys</th>\n",
              "      <th>cluster_id</th>\n",
              "    </tr>\n",
              "  </thead>\n",
              "  <tbody>\n",
              "    <tr>\n",
              "      <th>0</th>\n",
              "      <td>1</td>\n",
              "      <td>video</td>\n",
              "      <td>4/22/2018 6:00</td>\n",
              "      <td>529</td>\n",
              "      <td>512</td>\n",
              "      <td>262</td>\n",
              "      <td>432</td>\n",
              "      <td>92</td>\n",
              "      <td>3</td>\n",
              "      <td>1</td>\n",
              "      <td>1</td>\n",
              "      <td>0</td>\n",
              "      <td>0</td>\n",
              "    </tr>\n",
              "    <tr>\n",
              "      <th>1</th>\n",
              "      <td>2</td>\n",
              "      <td>photo</td>\n",
              "      <td>4/21/2018 22:45</td>\n",
              "      <td>150</td>\n",
              "      <td>0</td>\n",
              "      <td>0</td>\n",
              "      <td>150</td>\n",
              "      <td>0</td>\n",
              "      <td>0</td>\n",
              "      <td>0</td>\n",
              "      <td>0</td>\n",
              "      <td>0</td>\n",
              "      <td>1</td>\n",
              "    </tr>\n",
              "    <tr>\n",
              "      <th>2</th>\n",
              "      <td>3</td>\n",
              "      <td>video</td>\n",
              "      <td>4/21/2018 6:17</td>\n",
              "      <td>227</td>\n",
              "      <td>236</td>\n",
              "      <td>57</td>\n",
              "      <td>204</td>\n",
              "      <td>21</td>\n",
              "      <td>1</td>\n",
              "      <td>1</td>\n",
              "      <td>0</td>\n",
              "      <td>0</td>\n",
              "      <td>0</td>\n",
              "    </tr>\n",
              "    <tr>\n",
              "      <th>3</th>\n",
              "      <td>4</td>\n",
              "      <td>photo</td>\n",
              "      <td>4/21/2018 2:29</td>\n",
              "      <td>111</td>\n",
              "      <td>0</td>\n",
              "      <td>0</td>\n",
              "      <td>111</td>\n",
              "      <td>0</td>\n",
              "      <td>0</td>\n",
              "      <td>0</td>\n",
              "      <td>0</td>\n",
              "      <td>0</td>\n",
              "      <td>1</td>\n",
              "    </tr>\n",
              "    <tr>\n",
              "      <th>4</th>\n",
              "      <td>5</td>\n",
              "      <td>photo</td>\n",
              "      <td>4/18/2018 3:22</td>\n",
              "      <td>213</td>\n",
              "      <td>0</td>\n",
              "      <td>0</td>\n",
              "      <td>204</td>\n",
              "      <td>9</td>\n",
              "      <td>0</td>\n",
              "      <td>0</td>\n",
              "      <td>0</td>\n",
              "      <td>0</td>\n",
              "      <td>1</td>\n",
              "    </tr>\n",
              "  </tbody>\n",
              "</table>\n",
              "</div>"
            ],
            "text/plain": [
              "   status_id status_type status_published  num_reactions  num_comments  \\\n",
              "0          1       video   4/22/2018 6:00            529           512   \n",
              "1          2       photo  4/21/2018 22:45            150             0   \n",
              "2          3       video   4/21/2018 6:17            227           236   \n",
              "3          4       photo   4/21/2018 2:29            111             0   \n",
              "4          5       photo   4/18/2018 3:22            213             0   \n",
              "\n",
              "   num_shares  num_likes  num_loves  num_wows  num_hahas  num_sads  \\\n",
              "0         262        432         92         3          1         1   \n",
              "1           0        150          0         0          0         0   \n",
              "2          57        204         21         1          1         0   \n",
              "3           0        111          0         0          0         0   \n",
              "4           0        204          9         0          0         0   \n",
              "\n",
              "   num_angrys  cluster_id  \n",
              "0           0           0  \n",
              "1           0           1  \n",
              "2           0           0  \n",
              "3           0           1  \n",
              "4           0           1  "
            ]
          },
          "execution_count": 434,
          "metadata": {},
          "output_type": "execute_result"
        }
      ],
      "source": [
        "clustered_data['cluster_id'] = labels\n",
        "clustered_data.head()"
      ]
    },
    {
      "cell_type": "code",
      "execution_count": null,
      "metadata": {
        "id": "luvM9pK0ARTV",
        "outputId": "cdad0631-891c-428f-fa3a-b39bf3e9b826"
      },
      "outputs": [
        {
          "data": {
            "text/plain": [
              "array([0, 1, 3, 2])"
            ]
          },
          "execution_count": 435,
          "metadata": {},
          "output_type": "execute_result"
        }
      ],
      "source": [
        "clustered_data.cluster_id.unique()"
      ]
    },
    {
      "cell_type": "markdown",
      "metadata": {
        "id": "mDck_KSzARTV"
      },
      "source": [
        "As we can see above the entire data has been clustered into 4 clusters --> [0,1,2,3]"
      ]
    },
    {
      "cell_type": "markdown",
      "metadata": {
        "id": "6EHL70dCARTV"
      },
      "source": [
        "**Note:**\n",
        "\n",
        "A better way of encoding might be label encoding rather than one hot! -- > anyway we are doing the same thing here by first one hot and then PCA, which is same as label encoding and scaling!"
      ]
    },
    {
      "cell_type": "markdown",
      "metadata": {
        "id": "QkifVYGZ59Hm"
      },
      "source": [
        "## Q2 Loss Functions"
      ]
    },
    {
      "cell_type": "markdown",
      "metadata": {
        "id": "Ea67Ngq-6AfC"
      },
      "source": [
        "Let the desired output to 10 inputs be,\n",
        "\n",
        "> [0,1,0,0,1,0,0,1,1,1]\n",
        "\n",
        "\n",
        "and let the corresponding actual output obtained from a machine be \n",
        "\n",
        "\n",
        "> [0.2, 0.2, 0.2, 0.2, 0.2, 0.2, 0.2, 0.2, 0.2, 0.2]\n",
        "\n",
        "\n",
        "Find programmatically or by hand the loss obtained from using:\n",
        "\n",
        "1.   a symmetric 0 − 1 loss function,\n",
        "\n",
        "2.   the cross-entropy loss function and\n",
        "\n",
        "3.   the hinge loss function.\n",
        "\n",
        "If required assume a threshold of 0.5 to obtain a class from the machine output.  (sklearn by default uses 0.5 as threshold for binary classification) "
      ]
    },
    {
      "cell_type": "code",
      "execution_count": null,
      "metadata": {
        "id": "8ZOp5wOK6AEC"
      },
      "outputs": [],
      "source": [
        "Y_true = np.array([0,1,0,0,1,0,0,1,1,1])\n",
        "Y_predicted = np.array([0.2, 0.2, 0.2, 0.2, 0.2, 0.2, 0.2, 0.2, 0.2, 0.2])"
      ]
    },
    {
      "cell_type": "markdown",
      "metadata": {
        "id": "cDnFQ8GeARTW"
      },
      "source": [
        "**Symmetric 0-1 loss function:** --> sklearn.metrix.zero_one_loss\n",
        "\n",
        "we are returning number of misclassfication"
      ]
    },
    {
      "cell_type": "code",
      "execution_count": null,
      "metadata": {
        "id": "CWQWwK4vARTW",
        "outputId": "ee8d1345-0edb-46c4-e500-f7088e0b054f"
      },
      "outputs": [
        {
          "name": "stdout",
          "output_type": "stream",
          "text": [
            "The total 0-1 loss is: 5\n",
            "The average 0-1 loss is: 0.5\n",
            "percentage of missclassification: 50.0%\n"
          ]
        }
      ],
      "source": [
        "#thresholding for 0-1 loss:\n",
        "Y_pred1 = np.where(Y_predicted < 0.5 , 0 , 1 )\n",
        "\n",
        "#now loss for correct classification is 0 and loss for misclassification is 1:\n",
        "loss1 = np.sum(Y_true == Y_pred1)\n",
        "\n",
        "#printing the loss:\n",
        "print(f'The total 0-1 loss is: {loss1}')\n",
        "print(f'The average 0-1 loss is: {loss1/len(Y_true)}')\n",
        "print(f'percentage of missclassification: {100*loss1/len(Y_true)}%')"
      ]
    },
    {
      "cell_type": "markdown",
      "metadata": {
        "id": "5lI9avL9ARTW"
      },
      "source": [
        "**Cross entropy loss function:** --sklearn.metrics.log_loss\n",
        "\n",
        "$loss(y,p) = -(ylog(p)+ (1-y)log(1-p))$"
      ]
    },
    {
      "cell_type": "code",
      "execution_count": null,
      "metadata": {
        "id": "ZkRG2QGYARTW",
        "outputId": "63d581ed-5497-4591-ffab-209fd10b94e9"
      },
      "outputs": [
        {
          "name": "stdout",
          "output_type": "stream",
          "text": [
            "Cross Entropy Loss is: 0.9162907318741551\n"
          ]
        }
      ],
      "source": [
        "def cross_entropy(x,y):\n",
        "    losses = [-1*(a*np.log(b) + (1-a)*np.log(1-b)) for a,b in zip(x,y)]\n",
        "    return np.mean(losses)\n",
        "loss2 = cross_entropy(Y_true,Y_predicted)\n",
        "\n",
        "print(f'Cross Entropy Loss is: {loss2}')"
      ]
    },
    {
      "cell_type": "markdown",
      "metadata": {
        "id": "eDC01YxaARTW"
      },
      "source": [
        "**Hinge loss function:** --> we are returning average hinge loss --> sklearn.metrics.hinge_loss\n",
        "\n",
        "(penalizes all misclassification)<br>\n",
        "$hingeloss = max[0, 1 - y*f(x)]$"
      ]
    },
    {
      "cell_type": "code",
      "execution_count": null,
      "metadata": {
        "id": "9Il_cCugARTW",
        "outputId": "369c54b8-491e-4cbf-b68b-e8840543e83e"
      },
      "outputs": [
        {
          "name": "stdout",
          "output_type": "stream",
          "text": [
            "Total hinge loss is: 10.0\n",
            "Average hinge loss is: 1.0\n"
          ]
        }
      ],
      "source": [
        "#first convert both input and output to suitable scales:\n",
        "# we have to scale the features from (0,1) t0 (-1,1)\n",
        "def normalization(value,max_n=1,min_n=-1,max=1,min=0):\n",
        "    \"\"\"\n",
        "    max,min     --> old range\n",
        "    max_n,min_n --> new range\n",
        "    \"\"\"\n",
        "    a = (max_n - min_n)/(max-min)\n",
        "    b = (max) - a*max\n",
        "    \n",
        "    return a*value + b\n",
        "\n",
        "def hinge_loss(x,y):\n",
        "    losses = [max(0,1.0-a*b) for a,b in zip(x,y)]\n",
        "    return np.sum(losses), np.mean(losses)\n",
        "    \n",
        "\n",
        "#transforming input:\n",
        "Y_true_hinge = np.apply_along_axis(normalization,0,Y_true)\n",
        "Y_pred_hinge = np.apply_along_axis(normalization,0,Y_predicted)\n",
        "\n",
        "loss3 = hinge_loss(Y_true_hinge,Y_pred_hinge)\n",
        "\n",
        "print(f'Total hinge loss is: {loss3[0]}') \n",
        "print(f'Average hinge loss is: {loss3[1]}')"
      ]
    }
  ],
  "metadata": {
    "colab": {
      "provenance": [],
      "include_colab_link": true
    },
    "kernelspec": {
      "display_name": "Python 3",
      "language": "python",
      "name": "python3"
    },
    "language_info": {
      "codemirror_mode": {
        "name": "ipython",
        "version": 3
      },
      "file_extension": ".py",
      "mimetype": "text/x-python",
      "name": "python",
      "nbconvert_exporter": "python",
      "pygments_lexer": "ipython3",
      "version": "3.10.9"
    },
    "vscode": {
      "interpreter": {
        "hash": "fa676f95b428963fc6a22d0f7ab79d1ad8fae9296cc6459b33242ceffa432c07"
      }
    }
  },
  "nbformat": 4,
  "nbformat_minor": 0
}